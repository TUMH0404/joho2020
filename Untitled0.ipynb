{
  "nbformat": 4,
  "nbformat_minor": 0,
  "metadata": {
    "colab": {
      "name": "Untitled0.ipynb",
      "provenance": [],
      "authorship_tag": "ABX9TyMHZ2vf99jIuK1HDqlr1Xna",
      "include_colab_link": true
    },
    "kernelspec": {
      "name": "python3",
      "display_name": "Python 3"
    },
    "language_info": {
      "name": "python"
    }
  },
  "cells": [
    {
      "cell_type": "markdown",
      "metadata": {
        "id": "view-in-github",
        "colab_type": "text"
      },
      "source": [
        "<a href=\"https://colab.research.google.com/github/TUMH0404/joho2020/blob/master/Untitled0.ipynb\" target=\"_parent\"><img src=\"https://colab.research.google.com/assets/colab-badge.svg\" alt=\"Open In Colab\"/></a>"
      ]
    },
    {
      "cell_type": "code",
      "metadata": {
        "colab": {
          "base_uri": "https://localhost:8080/"
        },
        "id": "Fmi492FUHKyw",
        "outputId": "163c2731-1136-4fdf-876a-eb32f5443d3e"
      },
      "source": [
        "# mount drive\n",
        "from google.colab import drive\n",
        "drive.mount('/content/drive')\n",
        "\n",
        "# installing PyPDF2\n",
        "!pip install PyPDF2\n",
        "\n",
        "#import library\n",
        "import PyPDF2\n",
        "import re\n",
        "import os\n",
        "import numpy as np\n",
        "\n"
      ],
      "execution_count": 22,
      "outputs": [
        {
          "output_type": "stream",
          "text": [
            "Drive already mounted at /content/drive; to attempt to forcibly remount, call drive.mount(\"/content/drive\", force_remount=True).\n",
            "Requirement already satisfied: PyPDF2 in /usr/local/lib/python3.7/dist-packages (1.26.0)\n"
          ],
          "name": "stdout"
        }
      ]
    },
    {
      "cell_type": "code",
      "metadata": {
        "id": "knFDwlGzHlwn"
      },
      "source": [
        "# change directory\n",
        "mainfolder = \"/content/drive/MyDrive/2021業務/maildocuments\"\n",
        "os.chdir(mailfolder)"
      ],
      "execution_count": 23,
      "outputs": []
    },
    {
      "cell_type": "code",
      "metadata": {
        "id": "1F97U6PhH82h"
      },
      "source": [
        "files = os.listdir()\n",
        "files.sort()"
      ],
      "execution_count": 24,
      "outputs": []
    },
    {
      "cell_type": "code",
      "metadata": {
        "id": "cw_jlft_H-7O"
      },
      "source": [
        "name = PyPDF2.PdfFileWriter()\n",
        "\n",
        "for i in files:\n",
        "    srcpdf = PyPDF2.PdfFileReader(f\"{i}\")\n",
        "    name.addPage(srcpdf.getPage(0))  \n",
        "\n",
        "with open(f'{mainfolder}/merge.pdf', 'wb') as f:\n",
        "    name.write(f)"
      ],
      "execution_count": 25,
      "outputs": []
    },
    {
      "cell_type": "code",
      "metadata": {
        "colab": {
          "base_uri": "https://localhost:8080/"
        },
        "id": "ObJ4nQ4XIDcm",
        "outputId": "1c8e1ee1-3056-4c98-de67-3d9f22d04efb"
      },
      "source": [
        ""
      ],
      "execution_count": 14,
      "outputs": [
        {
          "output_type": "execute_result",
          "data": {
            "text/plain": [
              "1"
            ]
          },
          "metadata": {
            "tags": []
          },
          "execution_count": 14
        }
      ]
    },
    {
      "cell_type": "code",
      "metadata": {
        "id": "b4i84DaAIsy4"
      },
      "source": [
        ""
      ],
      "execution_count": null,
      "outputs": []
    }
  ]
}