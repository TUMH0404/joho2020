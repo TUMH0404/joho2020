{
  "nbformat": 4,
  "nbformat_minor": 0,
  "metadata": {
    "colab": {
      "name": "情報処理演習Ⅰ_11.ipynb",
      "provenance": []
    },
    "kernelspec": {
      "name": "python3",
      "display_name": "Python 3"
    }
  },
  "cells": [
    {
      "cell_type": "markdown",
      "metadata": {
        "id": "zD9ktcTF0kMm"
      },
      "source": [
        "## 時刻の取得\n",
        "`31729190`は時刻単位を`ミリ秒`で表している。\n",
        "- この時刻を`秒`単位になおす。\n",
        "- この時刻の，`分`，`秒`，`ミリ秒`を取得する。\n",
        "- この時刻の`hour`を取得する(何`時`何`分`何`秒`何`ミリ秒`で表す)。\n",
        "\n",
        "以上のことを下にセルを追加して書いてみよう。<br>\n"
      ]
    },
    {
      "cell_type": "markdown",
      "metadata": {
        "id": "qo2sAOaX0kMq"
      },
      "source": [
        "これらは，`31729190`に対して行った。ではその他の値に対して，同じことを書くのは，\n",
        "- 非常に面倒\n",
        "- 効率が悪い\n",
        "- 間違いが生じる\n",
        "\n",
        "となる。<br>\n",
        "このような場合，<font color=red>関数</font>を作ると解決できる。<br>"
      ]
    },
    {
      "cell_type": "markdown",
      "metadata": {
        "id": "xx3jUQ6t0kMq"
      },
      "source": [
        "# 関数\n",
        "$f(x)=ax^2+bx+c$は「$x$によって，その結果が変わる」ことと解釈することができる。このこｔにPythonの「関数」も似ており，「何らかの値を入れるとそれに見合った値が結果として得られる」という構造を示すものを指す。<br>\n",
        "\n",
        "関数に渡す値（関数への入力値）のことを「引数(ひきすう)」と呼ぶ。「関数に引数を渡して，関数のコードを実行し，その処理結果を得る」ことことができる。関数を呼び出したときに得られる結果のことを「`戻り値`(あるいは`返り値`)」という。<br>\n",
        "関数は，<font color=red>def</font>から始まり，任意の関数名と括弧`()`，必要に応じて引数を括弧の中に入れて<font color=red>:</font>で終えて，改行する。それに続けて，処理過程を書いて最後に`return`で戻り値を指定する。\n",
        "基本形は，\n",
        "```\n",
        "def zoo(引数1,引数2):\n",
        "    processing 1\n",
        "    processing 2\n",
        "    processing 3\n",
        "    return 0\n",
        "```\n",
        "となり，processingの前は，半角4つのスペースをおき，関数のブロックを形成する。戻り値(return)は処理過程の途中で書かず，最後に書く。returnと値との間には半角のスペースをあける。"
      ]
    },
    {
      "cell_type": "markdown",
      "metadata": {
        "id": "IyfQWbY00kMr"
      },
      "source": [
        "$f(x)=ax^2+bx+c$のうち，xは引数に該当し，$f(x)$は戻り値に該当する。$a=2,b=5,c=10$とすると，\n",
        "```\n",
        "def kansu(x):\n",
        "    r = 2*x**2+5*x+10\n",
        "    return r\n",
        "```\n",
        "と書くことができる。"
      ]
    },
    {
      "cell_type": "markdown",
      "metadata": {
        "id": "xY-avpCe0kMr"
      },
      "source": [
        "<font color=blue size=5>問題</font> <br>\n",
        "- 関数を勉強してきた。折角なので，ミリ秒で表される時刻を〇時〇分〇秒〇と，〇の部分を返り値としてはきだす関数を作ってみよう。そして，最後に実行結果を示して，動作を確認する。\n",
        " - `31729190`をJST形式表記へ\n",
        " - 使う計算記号は，%，//，= と，変数名\n"
      ]
    },
    {
      "cell_type": "code",
      "metadata": {
        "id": "F1seChlFVoXL"
      },
      "source": [
        ""
      ],
      "execution_count": null,
      "outputs": []
    }
  ]
}