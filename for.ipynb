{
  "nbformat": 4,
  "nbformat_minor": 0,
  "metadata": {
    "colab": {
      "name": "for.ipynb",
      "provenance": [],
      "collapsed_sections": [],
      "authorship_tag": "ABX9TyNrfGjhUlD1C2LgkPW5J5jg",
      "include_colab_link": true
    },
    "kernelspec": {
      "name": "python3",
      "display_name": "Python 3"
    }
  },
  "cells": [
    {
      "cell_type": "markdown",
      "metadata": {
        "id": "view-in-github",
        "colab_type": "text"
      },
      "source": [
        "<a href=\"https://colab.research.google.com/github/TUMH0404/joho2020/blob/master/for.ipynb\" target=\"_parent\"><img src=\"https://colab.research.google.com/assets/colab-badge.svg\" alt=\"Open In Colab\"/></a>"
      ]
    },
    {
      "cell_type": "markdown",
      "metadata": {
        "id": "f5COtb6Y0kMA"
      },
      "source": [
        "## for文\n",
        "基本形は，\n",
        "```\n",
        "for i in range(10):\n",
        "    print(i)\n",
        "```\n",
        "である。<br>\n",
        "`for i in range(10)`で，`i` に0,1,2,...,9の順に代入するという意味になる。そして，`:`で，区切って，この構文はまだ終わらないことを教える(プログラムは一行ずつ順番に読んでいくので，`:`がなければこれで終わり...とコンピュータが判断してしまう)。<br>\n",
        "[for文の基本形](https://drive.google.com/open?id=1NURns0ZLvGZkbcrpkzuE9HdPN3y4KJYj)\n",
        "<br>\n",
        "先頭から半角で4つのスペースを与えて，操作・処理したい内容を指示する。ここでは，`print(i)`(`i`(数字)を表示)としたした。<br>\n",
        "これは，**for文**のパターンである。その[フローチャート](https://drive.google.com/open?id=1uYVfA4YvH2qdso4UJcoRbL_VXcZ93NIi)である。<br>\n",
        "\n",
        "重要な点を次にまとめる。<br>\n",
        "- シー-ケンス型のデータをある記号に代入(`in`)する。\n",
        "- `:`を忘れない。\n",
        "- 具体的な処理はブロックを作って指示する。ブロックと単位は，半角スペース4つ分であること。\n",
        "- 繰り返し練習する。\n",
        "\n",
        "上の繰り返し文の基本形を下にセルを追加して書いてみよう。<br>\n"
      ]
    }
  ]
}