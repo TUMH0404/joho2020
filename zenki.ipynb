{
  "nbformat": 4,
  "nbformat_minor": 0,
  "metadata": {
    "kernelspec": {
      "display_name": "Python 3",
      "language": "python",
      "name": "python3"
    },
    "language_info": {
      "codemirror_mode": {
        "name": "ipython",
        "version": 3
      },
      "file_extension": ".py",
      "mimetype": "text/x-python",
      "name": "python",
      "nbconvert_exporter": "python",
      "pygments_lexer": "ipython3",
      "version": "3.7.3"
    },
    "colab": {
      "name": "資料.ipynb のコピー",
      "provenance": [],
      "collapsed_sections": [
        "9qNLsrpnZJY5",
        "TUj7PG4Z0kJv",
        "PAC1NecW0kJw",
        "NP4LmmEz0kLn",
        "Zlwy2hu70kLo",
        "boE8kT0T0kLw",
        "NuJaMjmh0kL0",
        "Pi3ItWLq0kMW",
        "PIzKNUET0kMY",
        "sUPbmm0O0kMY"
      ],
      "toc_visible": true
    }
  },
  "cells": [
    {
      "cell_type": "markdown",
      "metadata": {
        "id": "7s2--USq0kJN",
        "colab_type": "text"
      },
      "source": [
        "# セルとセルの実行\n",
        "\n",
        "## セルとは\n",
        "コンピュータに我々の指示を与えるためにプログラムコードを書くスペースのことである。これは，Jupyter NotebookやJupyter Labの環境によるものである。<br>\n",
        "その他，授業で導入予定のGoogle Colaboratoryにも`セル`が存在し，ここにコードを書く。\n",
        "\n",
        "## セルの実行\n",
        "セルに書いたプログラム(コード)をコンピュータに指示するとき，`shift`キー+`Enter`キー(Macは`Return`キー)を押す。すると，セルの中身をコンピュータに指示することになる。この過程を`実行`という。<br>\n",
        "Colaboratoryの場合は，セルの左端にある，`▶︎`のマークをクリックしても実行される。`shift`キー+`Enter`キーのどちらを使用してもよい。<br>\n",
        "次のことを確認しよう。\n",
        "1. セルに適当な数値(半角)を入れて実行する。そのときの動作を確認する。\n",
        "1. セルの中にある`#`(ナンバーという)より右はコメントアウトといって，主に，プログラムの作用や目的などをコメントとして残すために用いる。したがって，左から順番にコンピュータは読み込む。"
      ]
    },
    {
      "cell_type": "markdown",
      "metadata": {
        "id": "GPVfZWY30kJO",
        "colab_type": "text"
      },
      "source": [
        "セルを増やす場合は，上の+を押してセルが増やしたり，入力モードを変更することができる([参照図](https://drive.google.com/open?id=1tg2wWdq-iMqmsdZEWwE7UPnly4UGcOG2))。<br>\n",
        "\n",
        "Colaboratoryの場合は，+コードを押すとコードが増え，+コメントでテキストなどのコメントを入力するセルを挿入できる。いずれも，Markdown形式による入力モードである([参照図](https://drive.google.com/open?id=1ymnq9irmzsXz03IPY5o12ZSeaVdSmM5E))。<br>\n",
        "\n",
        "まずは適当に操作してみよう。<br>\n",
        "<font color=DarkRed>$\\downdownarrows$+コード</font>\n",
        "\n"
      ]
    },
    {
      "cell_type": "markdown",
      "metadata": {
        "id": "ed5uaz1BKOGx",
        "colab_type": "text"
      },
      "source": [
        "この枠をセルという。この下の行に適当な数値を入れる。そして，実行する。(Enterで改行するとセル内で改行される。その場合は上から順番にコードが解読される)"
      ]
    },
    {
      "cell_type": "markdown",
      "metadata": {
        "id": "AkAJ1Xwa0kJP",
        "colab_type": "text"
      },
      "source": [
        "# 入力する文字\n",
        "## 入力のときの約束ごとー半角と全角ー\n",
        "入力文字は半角と全角がある。セルに入力する際，アルファベット，記号，数値は特別なことがない限り，Pythonに慣れるまでは，半角英数字で入力する。したがって，日本語(全角)は使用しない。使う必要のないところで全角入力をした場合は，減点対象とする。<br>\n",
        "日本語(全角)を用いるのは，データの部分だけである。もちろん，ファイル名は半角の英数字と記号(一部)となるはずである。"
      ]
    },
    {
      "cell_type": "markdown",
      "metadata": {
        "id": "mrQoaCTh0kJP",
        "colab_type": "text"
      },
      "source": [
        "## Pythonで扱える文字や数値\n",
        "Pythonでは，3つのデータ型を扱う。\n",
        "\n",
        "1. <font color=red>int型</font>：1, 2, 0, -1, -2000, $\\cdots$\n",
        "1. <font color=red>float型</font>：2.3, 3.1415, -0.5, 0.0, -10.4 $\\cdots$\n",
        "1. <font color=red>文字列型</font>：'abc', 'apple', \"orange\", \"support\", 'たからづか', '宝塚', 'タロウ', $\\cdots$\n",
        "1. <font color=red>真偽値</font>：True, False \n",
        "\n",
        "セルを追加して，一つずつ確認してみよう。"
      ]
    },
    {
      "cell_type": "markdown",
      "metadata": {
        "id": "sbZSRt6T0kJQ",
        "colab_type": "text"
      },
      "source": [
        "int型は整数のことである。この下にセルを追加して，int型の数値を入力してみよう。<br>\n",
        "<font color=DarkRed>$\\downdownarrows$+コード</font>"
      ]
    },
    {
      "cell_type": "markdown",
      "metadata": {
        "id": "tMmw_gkr0kJR",
        "colab_type": "text"
      },
      "source": [
        "float型は，小数点のある数値のことである。この下にセルを追加して，float型の数値を入力してみよう。<br>\n",
        "<font color=DarkRed>$\\downdownarrows$+コード</font>"
      ]
    },
    {
      "cell_type": "markdown",
      "metadata": {
        "id": "a9S4-VE30kJR",
        "colab_type": "text"
      },
      "source": [
        "文字列型は，`'文字'，\"文字\"`のように，シングルクォーテーションもしくはダブルクォーテーションで囲まれたものを指す。その間に数値があれば，その数値は文字として認識される。この下にセルを追加して，文字列型(例えば自分の名前)を入力してみよう。<br>\n",
        "<font color=DarkRed>$\\downdownarrows$+コード</font>"
      ]
    },
    {
      "cell_type": "markdown",
      "metadata": {
        "id": "jTMnfr5W0kJS",
        "colab_type": "text"
      },
      "source": [
        "真偽値は条件文で用いる値のことである。TrueとFalseがある。下にセルを追加して，どちらか入力してみよう。<br>\n",
        "<font color=DarkRed>$\\downdownarrows$+コード</font> "
      ]
    },
    {
      "cell_type": "markdown",
      "metadata": {
        "id": "-YoD2q6U0kJS",
        "colab_type": "text"
      },
      "source": [
        "# データ型の確認\n",
        "実行されたセルの出力内容が返り値として出力される。その値は，左端に`[ ]`の間(プロンプト)に数値が入力される([参照図](https://drive.google.com/open?id=15_6l3JDziZSJiV3hbSSgma3jIh7LsPU7))。<br>\n",
        "プロンプトに表示された数値を使って，そのセルで実行したデータのタイプを調べてみよう。<br>\n",
        "`_`(アンダースコア)の右にプロンプトの数値を入力して実行するとそのセルの値が表示される。そのセルで実行したデータや値が，`_number`に記憶されていることになる。<br>\n"
      ]
    },
    {
      "cell_type": "markdown",
      "metadata": {
        "id": "fJY7vRPc0kJT",
        "colab_type": "text"
      },
      "source": [
        "上で実行した値を，この下にセルを追加して，プロンプトの数値を使って出力してみよう。<br>\n",
        "<font color=DarkRed>$\\downdownarrows$+コード</font> \n"
      ]
    },
    {
      "cell_type": "markdown",
      "metadata": {
        "id": "XbLlysFQ0kJU",
        "colab_type": "text"
      },
      "source": [
        "次に，上で書いたコードを`type(\"上で書いたコード\")`と書いて，そのコードを下にセルを追加して実行してみよう。<br>\n",
        "例えば，\n",
        "```\n",
        "type(_6)\n",
        "```\n",
        "ように書く。この下にセルを追加して動作をみてみよう。<br>\n",
        "<font color=DarkRed>$\\downdownarrows$+コード</font> \n",
        "\n",
        "\n"
      ]
    },
    {
      "cell_type": "markdown",
      "metadata": {
        "id": "V5uo_ECfLflq",
        "colab_type": "text"
      },
      "source": [
        "つまり，<font color=blue>セルの6に入力されたデータを再利用</font>したことになる。ところが，ここでいう6はセルを繰り返し実行することで，代わってしまう。また，計算を進めていくうえで，同じ文字や数値を再利用しなければならない場面が頻発する。そのようなときには，次に行う変数名を定義することで再利用しやすくなる。<br>"
      ]
    },
    {
      "cell_type": "markdown",
      "metadata": {
        "id": "u6yOT4hL0kJU",
        "colab_type": "text"
      },
      "source": [
        "<font color=red size=10>**重要!!**</font><br>\n",
        "<font size=6>プログラムの基本$\\Longrightarrow$<br>\n",
        "**左**から順番に，<br>**上**から順番にコードが読み込まれる。</font><br>"
      ]
    },
    {
      "cell_type": "markdown",
      "metadata": {
        "id": "1-gRoFuH0kJV",
        "colab_type": "text"
      },
      "source": [
        "# 変数名"
      ]
    },
    {
      "cell_type": "markdown",
      "metadata": {
        "id": "C_jJBHj80kJV",
        "colab_type": "text"
      },
      "source": [
        "これまで行ったデータの再利用\n",
        "データを変数名に代入して，その変数名を用いて計算(処理)することを覚えよう。<br>\n",
        "変数名を用いる場合，ルールを自分で決めることができる。ただし，以下の点に気を付ける必要がある。<br>\n",
        "1. 予約語は用いない。\n",
        "1. 半角英字から始める。\n",
        "1. 半角英数字と`_`(アンダースコア)を用いて後で読み返してもわかるように与える。\n",
        "1. `-`（ハイフン）`/`(スラッシュ)などは，数値計算で使うので使わない方がよい。\n",
        "1. その他\n",
        "\n",
        "予約語とは，Python変数名，クラス名，関数名として，使うことのできない，すでにPythonで用いられている字句のことを言い，以下のものがある。この字句は，変数名として定義しない。<br>\n",
        "<font color=blue>--予約語--</font><br>\n",
        "<font color=blue>False, None, True, and, as, assert, async, await, break,\n",
        "class, continue, def, <br>del, elif, else, except, finally, for,\n",
        "from, global, if, import, in, is, lambda, nonlocal, <br>not,\n",
        "or, pass, raise, return, try, while, with, yield</font>"
      ]
    },
    {
      "cell_type": "markdown",
      "metadata": {
        "id": "tFkE-k9i0kJW",
        "colab_type": "text"
      },
      "source": [
        "では，\n",
        "```\n",
        "num1 = 3.14\n",
        "num2 = 10\n",
        "num3 = 3\n",
        "num4 = -3.14\n",
        "```\n",
        "を下にセルを追加して書いてみよう。<br>\n",
        "<font color=DarkRed>$\\downdownarrows$+コード</font> \n"
      ]
    },
    {
      "cell_type": "markdown",
      "metadata": {
        "id": "8PqONBi20kJZ",
        "colab_type": "text"
      },
      "source": [
        "これは，num1に3.14を`代入せよ`，というコードになる。代入は`=`である。厳密には，同じという意味ではない。あくまで代入である。そのほかも同じことである。<br>\n",
        "次に，\n",
        "```\n",
        "moji_1 = 'tumh'\n",
        "moji_2 = 'takarazuka'\n",
        "```\n",
        "と書いてみよう。<br>\n",
        "<font color=DarkRed>$\\downdownarrows$+コード</font>"
      ]
    },
    {
      "cell_type": "code",
      "metadata": {
        "id": "9nIEijUU0kJa",
        "colab_type": "code",
        "colab": {}
      },
      "source": [
        ""
      ],
      "execution_count": 0,
      "outputs": []
    },
    {
      "cell_type": "markdown",
      "metadata": {
        "id": "hiYJIVS80kJc",
        "colab_type": "text"
      },
      "source": [
        "この`num1`や`num2`，`moji_1`を<font color=red>変数名</font>と言い，これら変数名には，代入されたデータと同じ扱いができる。<br>計算するときは，変数名に代入して，その変数名を使う。そうすることで，再利用がしやすくなる。"
      ]
    },
    {
      "cell_type": "markdown",
      "metadata": {
        "id": "7S59ET2CYAoh",
        "colab_type": "text"
      },
      "source": [
        "### 変数名を用いた計算\n",
        "#### 足し算と引き算"
      ]
    },
    {
      "cell_type": "markdown",
      "metadata": {
        "id": "YWx1u2tWSJfy",
        "colab_type": "text"
      },
      "source": [
        "int型同士の足し算と引き算\n",
        "```\n",
        "print(num2+num3)\n",
        "print(num2-num3)\n",
        "```\n",
        "をしたときの結果をみてみよう。<br>\n",
        "<font color=DarkRed>$\\downdownarrows$+コード</font>"
      ]
    },
    {
      "cell_type": "markdown",
      "metadata": {
        "id": "XZOru5dbT0Z1",
        "colab_type": "text"
      },
      "source": [
        "float型同士の足し算と引き算\n",
        "```\n",
        "print(num4+num1)\n",
        "print(num4-num1)\n",
        "```\n",
        "をしたときの結果をみてみよう。<br>\n",
        "<font color=DarkRed>$\\downdownarrows$+コード</font>"
      ]
    },
    {
      "cell_type": "markdown",
      "metadata": {
        "id": "5k-3Yb-wVPAh",
        "colab_type": "text"
      },
      "source": [
        "int型とfloat型の足し算と引き算\n",
        "```\n",
        "print(num1+num2)\n",
        "print(num1-num3)\n",
        "print(num2+num3+num4)\n",
        "```\n",
        "をしたときの結果をみてみよう。<br>\n",
        "<font color=DarkRed>$\\downdownarrows$+コード</font>"
      ]
    },
    {
      "cell_type": "markdown",
      "metadata": {
        "id": "p52g_FuoX9Qx",
        "colab_type": "text"
      },
      "source": [
        "int型同士の足し算や引き算は，小数点が含まれない，つまり，int型で出力される。ところが，float型が含まれると，自動的にfloat型が出力されるので，知っておこう。"
      ]
    },
    {
      "cell_type": "markdown",
      "metadata": {
        "id": "9qNLsrpnZJY5",
        "colab_type": "text"
      },
      "source": [
        "#### 掛け算"
      ]
    },
    {
      "cell_type": "markdown",
      "metadata": {
        "id": "GsK0xuMaWbej",
        "colab_type": "text"
      },
      "source": [
        "int型同士のかけ算とわり算\n",
        "```\n",
        "print(num2*num3)\n",
        "```\n",
        "をしたときの結果をみてみよう。<br>\n",
        "<font color=DarkRed>$\\downdownarrows$+コード</font>"
      ]
    },
    {
      "cell_type": "markdown",
      "metadata": {
        "id": "7L5KcOu6W_hE",
        "colab_type": "text"
      },
      "source": [
        "float型同士のかけ算とわり算\n",
        "```\n",
        "print(num4*num1)\n",
        "```\n",
        "をしたときの結果をみてみよう。<br>\n",
        "<font color=DarkRed>$\\downdownarrows$+コード</font>"
      ]
    },
    {
      "cell_type": "markdown",
      "metadata": {
        "id": "pAKMqvxDZVaU",
        "colab_type": "text"
      },
      "source": [
        "int型とfloat型のかけ算(float型が含まれる掛け算)\n",
        "```\n",
        "print(num2*num1)\n",
        "```\n",
        "をしたときの結果をみてみよう。<br>\n",
        "<font color=DarkRed>$\\downdownarrows$+コード</font>"
      ]
    },
    {
      "cell_type": "markdown",
      "metadata": {
        "id": "lzg8e3V7Z27f",
        "colab_type": "text"
      },
      "source": [
        "掛け算では，float型が含まれると，float型が出力されるが，掛け算に用いる数値がint型であると，出力される結果はint型のままである。"
      ]
    },
    {
      "cell_type": "markdown",
      "metadata": {
        "id": "dihIDc5PabNY",
        "colab_type": "text"
      },
      "source": [
        "#### 割り算\n",
        "割り算(`/`)では，\n",
        "```\n",
        "print(num2/num3)\n",
        "print(num3/num2)\n",
        "print(num4/num1)\n",
        "```\n",
        "と，必ずfloat型を返す。<br>\n",
        "<font color=DarkRed>$\\downdownarrows$+コード</font>"
      ]
    },
    {
      "cell_type": "markdown",
      "metadata": {
        "id": "eoStCGHeoFPu",
        "colab_type": "text"
      },
      "source": [
        "また，剰余は`%`，剰余は`//`を使う。int型の場合は，int型で出力される。float型が含まれていると出力もfloat型となる。\n",
        "```\n",
        "print(num3//num2)\n",
        "print(num3%num2)\n",
        "\n",
        "num2 = 3.0\n",
        "print(num3//num2)\n",
        "print(num3%num2) \n",
        "```\n",
        "下にセルを追加して書いてみよう。<br>\n",
        "<font color=DarkRed>$\\downdownarrows$+コード</font>"
      ]
    },
    {
      "cell_type": "markdown",
      "metadata": {
        "id": "WdzKfghTqjWD",
        "colab_type": "text"
      },
      "source": [
        "このように，変数名を使って計算することができ，一度定義すると何度も再利用できる。ここで注意がしなければならないのが，計算に用いられるデータの型によっては返される型が異なることがあるので注意しよう。<br>\n",
        "\n"
      ]
    },
    {
      "cell_type": "markdown",
      "metadata": {
        "id": "SxF9kR9QxPOt",
        "colab_type": "text"
      },
      "source": [
        "ここで，さきほど，num2をint型からfloat型に変更した。これは同じ変数名に違うものを再び代入することができる。便利であると同時に，間違った処理をしてしまうことがあるので注意する。<br>\n",
        "今現在のnum1に，格納されている値を\n",
        "```\n",
        "print(num1)\n",
        "```\n",
        "で確認する。次に，num1に\n",
        "```\n",
        "num1 =6.28\n",
        "```\n",
        "と，値を代入すると，num1は，\n",
        "```\n",
        "print(num1)\n",
        "```\n",
        "と変更される。<br>\n",
        "変数名の与え方には工夫が必要である。\n",
        "<br>\n",
        "<font color=DarkRed>$\\downdownarrows$+コード</font>"
      ]
    },
    {
      "cell_type": "markdown",
      "metadata": {
        "id": "CfJKRsXOSlrK",
        "colab_type": "text"
      },
      "source": [
        "では，bool型(真偽値)に対して演算子を用いるとどうなるだろうか。<br>\n",
        "```\n",
        "b0 = False\n",
        "b1 = True\n",
        "d1 = 1.5\n",
        "d2 = 5\n",
        "```\n",
        "と，データを作成する。そして，\n",
        "```\n",
        "print(b0+b1)\n",
        "print(b1+d1)\n",
        "print(b0-d1)\n",
        "print(d2/b0)\n",
        "```\n",
        "の計算結果を確認してみよう。<br>\n",
        "<font color=DarkRed>$\\downdownarrows$+コード</font>"
      ]
    },
    {
      "cell_type": "markdown",
      "metadata": {
        "id": "4xtqa5oyVyXg",
        "colab_type": "text"
      },
      "source": [
        "どんな結果になりましたか？<br>\n",
        "そうです，Falseは0として計算され，Trueは1として計算される。<br>\n",
        "真偽値は，int型のサブクラスであるため，\n",
        "<font color=red>bool型のTrueとFalseは，1と0と等価</font>として扱える。<br>"
      ]
    },
    {
      "cell_type": "markdown",
      "metadata": {
        "id": "1HE38afS0kJv",
        "colab_type": "text"
      },
      "source": [
        "<font color=blue size=4>Point</font><br>\n",
        "int型やfloat型をある変数名を与えたオブジェクトに代入し，その変数名を使って計算処理を行ってきた。これらオブジェクトを作ることによって，計算処理をスムーズにしている。<br>\n",
        "オブジェクトは，数値や文字，あるいはデータを一つの物体として管理して扱えるように，一つの名前を与えられる。そのように考えることで，大きなデータを簡単に扱うことができるのである。<br>\n",
        "その基本となるのが，<font color=red>変数名を作ってある値を代入する</font>という操作である。<br>"
      ]
    },
    {
      "cell_type": "markdown",
      "metadata": {
        "id": "75qOq1ZOXd3h",
        "colab_type": "text"
      },
      "source": [
        "さて，もう一つ，文字列型について，計算してみよう。<br>\n",
        "文字列に用いられる計算記号は，`+`と`*`である。<br>\n",
        "`+`は文字同士の連結を行い，`*`は文字を増やす。<br>\n",
        "実際に動作を確認したほうがわかりやすいので，下にセルを追加し，\n",
        "```\n",
        "moji_1 = 'tumh'\n",
        "moji_2 = 'takarazuka'\n",
        "print(moji_1+moji_2)\n",
        "print(moji*5)\n",
        "```\n",
        "を実行してみよう。<br>\n",
        "<font color=DarkRed>$\\downdownarrows$+コード"
      ]
    },
    {
      "cell_type": "markdown",
      "metadata": {
        "id": "FPBFw7S60kJv",
        "colab_type": "text"
      },
      "source": [
        "変数名の使い方はコードを書けば書くほど，覚えてくるので繰り返し自分で様々なパターンを考えて書き，動作を確認してみよう。"
      ]
    },
    {
      "cell_type": "markdown",
      "metadata": {
        "id": "TUj7PG4Z0kJv",
        "colab_type": "text"
      },
      "source": [
        "# データの操作\n",
        "```\n",
        "moji_1+num2\n",
        "```\n",
        "というコードを実行すると，エラーがでる。これは，文字型同士でないからである。<br>\n",
        "たまに，数値を文字として扱いたい時がある。その対処法として二つ紹介する(他にもいろいろあるので興味がある人は自分で勉強してください)。\n",
        "\n",
        "## int型やfloat型から文字型へ\n",
        "数値を文字として扱えるようにすること上記の問題は解決する。\n",
        "```\n",
        "str(数値)\n",
        "```\n",
        "とするだけである。<br>\n",
        "つまり，\n",
        "```\n",
        "moji_1+str(num2)\n",
        "```\n",
        "となる。また，\n",
        "```\n",
        "moji_1+str(num2)\n",
        "```\n",
        "と，小数点の数値も扱うことができる。\n",
        "\n",
        "## f文字列を用いた方法\n",
        "フォーマット済み文字列リテラルは，Python3.6から追加された機能で，わかりやすい。是非とも覚えて欲しい。<br>\n",
        "\n",
        "f文字列を用いたコードの書き方は実際にやってみるのがよい。\n",
        "```\n",
        "f'例を書く・・・{moji_1}{num2}'\n",
        "```\n",
        "となる。`\"\"`もしくは`''`の中に適当な文字をいれ，その文字内に再利用したいデータや変数名を`{}`で囲って適切な場所におき，最後に`f`を一番前に添える。<br>\n",
        "今すぐは頻発しないが，そのうち何回も使うようになるので，是非覚えよう。"
      ]
    },
    {
      "cell_type": "markdown",
      "metadata": {
        "id": "PAC1NecW0kJw",
        "colab_type": "text"
      },
      "source": [
        "<font color=blue size=5>問題1</font>\n",
        "\n",
        "1. ageという変数名に自分の年齢を代入する。\n",
        "1. nameという変数名に自分の氏名(漢字)を代入する。\n",
        "1. nameEという変数名に英表記の氏名を代入する。\n",
        "1. f-stringsを使って自己紹介の文章を書いてみよう。ただし，name，nameEやageを使う。\n",
        "\n",
        "下に追加してやってみよう。<br>\n",
        "<font color=DarkRed>$\\downdownarrows$+コード</font>\n",
        "    "
      ]
    },
    {
      "cell_type": "markdown",
      "metadata": {
        "id": "Q6mxMnFf0kJ5",
        "colab_type": "text"
      },
      "source": [
        "<font color=blue size=5>問題2</font>\n",
        "\n",
        "問題1で行ったことをヒントにf-stringsを使って自己紹介用の定型文を作ってみよう。<br>\n",
        "\n",
        "|姓|名|姓(フリガナ)|名(フリガナ)|性別|年齢|\n",
        "|-:-|-:-|-:-|-:-|-:-|-:-|\n",
        "|大西|智也|オオニシ|トモヤ|M|42|\n",
        "|宝塚|宝子|タカラヅカ|タカコ|F|25|\n",
        "\n",
        "下に追加してやってみよう。<br>\n",
        "<font color=DarkRed>$\\downdownarrows$+コード</font>"
      ]
    },
    {
      "cell_type": "markdown",
      "metadata": {
        "id": "FobdMJj4ZWxg",
        "colab_type": "text"
      },
      "source": [
        "どうなるだろうか。前者は文字が連なり，後者は文字が繰り返されただろう。このように操作することができる。これはあくまで，文字列の場合に限る。<br>\n",
        "文字列は，<font color=red>**シーケンス**</font>として扱われる。シーケンス型とは，複数の要素をまとめて\b扱える型のことで，一般的にプログラミング言語では「配列」とも言う。Pythonでは，リスト，タプル，レンジなどがこれに含まれる(後で確認する)。<br>\n",
        "また，シーケンス型には要素をの抜き出し，置き換えなどをする`スライス`という機能がある。スライスの指定の方法は，\n",
        "```\n",
        "文字列[開始: 終了: ステップ]\n",
        "```\n",
        "開始,終了,ステップをすべてでき，\n",
        "```\n",
        "文字列[::]\n",
        "文字列[:]\n",
        "```\n",
        "とすることもできる。一般に後者の使用頻度が高い。この場合，開始は`0`，終了は`サイズ`，ステップは`1`となるように決められる([シーケンスのイメージ](https://drive.google.com/open?id=1M_bthK1nrzvbReqULCtrFPHh2-pnXa6f))。<br>\n",
        "サイズは，配列の大きさであり，\n",
        "```\n",
        "len(文字列)\n",
        "```\n",
        "で取得することができる。lenはlength(長さ)の略である。<br>\n",
        "これらはよく使うので覚えておこう。"
      ]
    },
    {
      "cell_type": "markdown",
      "metadata": {
        "id": "ZLUJB7hl0kKE",
        "colab_type": "text"
      },
      "source": [
        "# リスト(list)\n",
        "## リストの作成\n",
        "上記の表を一部抜粋する。\n",
        "```\n",
        "大西\t智也\tオオニシ\tトモヤ\tM\t42\n",
        "```\n",
        "これは，`姓，名，フリガナ(姓)，フリガナ(名)，性別，年齢`という順番でくくられた一つのデータとして`意味付け`することができる(文字や数値はただの記号であり，それに意味持たせるのは定義次第である)。<br>\n",
        "一つのデータ群として扱うことができれば，これらの値はある特定のものに属するデータとしてまとめることができる。そのようなときに，\n",
        "1. list(組み込み関数)\n",
        "1. tuple(組み込み関数)\n",
        "1. dictionary(組み込み関数)\n",
        "1. DataFrame(pandas)\n",
        "1. ndarray(NumPy)\n",
        "\n",
        "というデータ型を用いると，非常に便利である。<br>\n",
        "これらすべての型の基本原形は，listである。"
      ]
    },
    {
      "cell_type": "markdown",
      "metadata": {
        "id": "WeQzot6x0kKE",
        "colab_type": "text"
      },
      "source": [
        "`[]`(角括弧)内に存在するデータを一つのデータ群として扱う。これを`リスト`という。\n",
        "```\n",
        "[\"リスト\"]\n",
        "[\"リスト\", \"abc\", 'リスト', 1, 1.5, -2.0, 0, True]\n",
        "```\n",
        "もリストである。\n",
        "\n",
        "\n"
      ]
    },
    {
      "cell_type": "markdown",
      "metadata": {
        "id": "FjPnrj_X0kKE",
        "colab_type": "text"
      },
      "source": [
        "上の表の一部を抜粋する。\n",
        "```\n",
        "大西　　智也　　オオニシ　　トモヤ　　M　　42\n",
        "```\n",
        "リストに変えてみよう。<br>\n",
        "<font color=DarkRed>$\\downdownarrows$+コード</font>"
      ]
    },
    {
      "cell_type": "markdown",
      "metadata": {
        "id": "d_QI6tBx0kKH",
        "colab_type": "text"
      },
      "source": [
        "このように，リストの中身は，文字型，数値，真偽値，リスト，タプル，DataFrameなど，データ型は何でも良いので，様々なケースに対応できる。"
      ]
    },
    {
      "cell_type": "markdown",
      "metadata": {
        "id": "0tWwFeHx0kKH",
        "colab_type": "text"
      },
      "source": [
        "1. `姓，名，フリガナ(姓)，フリガナ(名)，性別，年齢`の順番に並んだ自分のリストを作成する。\n",
        "1. 上で作成したリストをkihon1(何でも良い)という変数名に代入する。\n",
        "1. そのデータが入っているか確認する。print()を使う(ググっで調べてみよう)。\n",
        "1. 次に，生年月日(西暦，月，日)のリストを作成して，適当な変数名に代入する。\n",
        "1. kihon2(これに限らない)という変数名に，kihon1とリスト形式になった生年月日のリストを作成する。\n",
        "\n",
        "早速，下にセルを追加して書いてみよう。<br>\n",
        "<font color=DarkRed>$\\downdownarrows$+コード</font>\n"
      ]
    },
    {
      "cell_type": "markdown",
      "metadata": {
        "id": "yLRm9P9b0kKV",
        "colab_type": "text"
      },
      "source": [
        "## リストの操作\n",
        "作成した(されている)リストの中身の一部のデータを抽出したり，探したり，書き換えたり，追加したり，削除したり，様々なことができる。<br>\n",
        "上で作成した，kihon2(他の名かもしれない)を用いて説明する。<br>\n",
        "リストが作られると，自動的にシーケンス(連続した)データとして，コンピュータのメモリ装置に記憶される。つまり，そのデータ群に番号がふられる。\n",
        "\n",
        "|リストのデータ|[大西,|智也,|オオニシ,|トモヤ,|M,|42,|[1977,10,1]]|\n",
        "|:-:|:-:|:-:|:-:|:-:|:-:|:-:|:-:|\n",
        "|インデックス$\\rightarrow$|0|1|2|3|4|5|6|\n",
        "|インデックス$\\leftarrow$|-7|-6|-5|-4|-3|-2|-1|\n",
        "\n",
        "### データの抽出\n",
        "特定のデータを抽出したい場合は，`変数名[インデックス番号]`とする。\n",
        "```\n",
        "x = [\"a\",\"b\",\"c\",\"d\",\"e\",\"f\",\"g\"]\n",
        "print(x[0])\n",
        "```\n",
        "このような書き方となる。<br>\n",
        "解説すると，以下の通りである。\n",
        "\n",
        "- 'a'〜'g'のアルファベットをリストに並べて，xという変数名に代入する。\n",
        "- インデックス番号`0`番目のデータをprint関数を用いて表示する。\n",
        "\n",
        "では，上のコードを下のセルに書いて動作を確認してみよう。<br>\n",
        "<font color=DarkRed>$\\downdownarrows$+コード</font>"
      ]
    },
    {
      "cell_type": "markdown",
      "metadata": {
        "id": "eRIFczO30kKX",
        "colab_type": "text"
      },
      "source": [
        "次に，'a'〜'g'すべてを取り出したいときの書き方は，\n",
        "```\n",
        "print(x)\n",
        "print(x[:])\n",
        "```\n",
        "を覚えて欲しい。<br>\n",
        "下にセルを追加して書いてみよう。<br>\n",
        "<font color=DarkRed>$\\downdownarrows$+コード</font>"
      ]
    },
    {
      "cell_type": "markdown",
      "metadata": {
        "id": "WJ0SoRw50kKb",
        "colab_type": "text"
      },
      "source": [
        "次に，'a'〜'd'を抽出したいときは，\n",
        "```\n",
        "print(x[0:4])\n",
        "print(x[:4])\n",
        "```\n",
        "とする。どちらでもよい。<br>\n",
        "ここで注意すること。<br>\n",
        "```\n",
        "print(x[4])\n",
        "```\n",
        "とすると，`e`が表示される。\n",
        "```\n",
        "print(x[0:4])\n",
        "```\n",
        "では，'d'までである。<br>\n",
        "`:`(コロン)の有無で意味が変わってくるので気をつけよう。<br>\n",
        "\n",
        "以上のコードを下のセルに入力して，動作を確認しよう。\n",
        "<br>\n",
        "<font color=DarkRed>$\\downdownarrows$+コード</font>"
      ]
    },
    {
      "cell_type": "markdown",
      "metadata": {
        "id": "gTKupatX0kKi",
        "colab_type": "text"
      },
      "source": [
        "インデックス番号に`-`(マイナス)がついたら，逆順になる。表をみると直感的にわかるだろう。\n",
        "\n",
        "|リストのデータ|'a',|'b',|'c',|'d',|'e',|'f',|'g'|\n",
        "|:-:|:-:|:-:|:-:|:-:|:-:|:-:|:-:|\n",
        "|インデックス$\\rightarrow$|0|1|2|3|4|5|6|\n",
        "|インデックス$\\leftarrow$|-7|-6|-5|-4|-3|-2|-1|\n",
        "\n",
        "リスト内のデータの抽出方法は様々である。プログラムの流れによって使い分ければよいが，今は自分がわかりやすい書き方を覚えておくとよいだろう。<br>\n",
        "```\n",
        "print(x[1:5])\n",
        "print(x[5:1])\n",
        "print(x[-4:])\n",
        "print(x[-4:-1])\n",
        "print(x[-5:-2])\n",
        "```\n",
        "を，下のセルを実行して，その動作を確認しよう。<br>\n",
        "<font color=DarkRed>$\\downdownarrows$+コード</font>\n"
      ]
    },
    {
      "cell_type": "markdown",
      "metadata": {
        "id": "Sc4WBJOT0kKx",
        "colab_type": "text"
      },
      "source": [
        "<font size=5 color=blue>問題3</font>\n",
        "\n",
        "1. kihon2という変数名に，`姓，名，フリガナ(姓)，フリガナ(名)，性別，年齢, 生年月日`のリストを作成する。前に同じことをやっているのでわからない人はそこを見る。\n",
        "1. 年齢のみを表示する。\n",
        "1. 姓，名を表示する。\n",
        "1. 生年月日のみを表示する。\n",
        "1. 生年月日の出生月を表示する。\n",
        "\n",
        "下のセルを追加してやってみよう。<br>\n",
        "<font color=DarkRed>$\\downdownarrows$+コード</font>"
      ]
    },
    {
      "cell_type": "markdown",
      "metadata": {
        "id": "JcbmAMuR0kKx",
        "colab_type": "text"
      },
      "source": [
        "## リストのメソッド\n",
        "メソッドとは，変数や値の後に`.`(ドット)を付けて呼び出すものである。これは，\"クラスで定義された関数\"とされるが，詳細は必要に応じて説明する。ここでは，`.`(ドット)に続くものがメソッドであることを覚えておいてほしい。<br>\n",
        "リストによく用いるメソッドは，感覚的に上3つ(append, index, count)であろう。<br>\n",
        "\n",
        "|メソッド|書きかた|内容|\n",
        "|:-:|:-|:-|\n",
        "|append|list.append(x)|リストの末尾に要素を一つ追加|\n",
        "|index|list.index(x)|リスト中で x と等しい値を持つ最初の要素の位置をゼロから始まる添字で返す|\n",
        "|count|list.count(x)|リストでの x の出現回数を返す|\n",
        "|sort|list.sort()|リストの並べ替え|\n",
        "|extend|list.extend(x)|イテラブルのすべての要素を対象のリストに追加し，リストを拡張|\n",
        "|insert|list.insert(i, x)|指定した位置に要素を挿入|\n",
        "|remove|list.remove(x)|xと等しい値を持つ最初の要素の削除|\n",
        "|pop|list.pop(i)|リスト中の指定された位置にある要素をリストから削除して、その要素を返す|\n",
        "|clear|list.clear()|リストの中のすべての要素を削除する，`del list[:]`と同じ|\n",
        "\n"
      ]
    },
    {
      "cell_type": "markdown",
      "metadata": {
        "id": "653YeRe_0kKx",
        "colab_type": "text"
      },
      "source": [
        "ここでは，appendの使い方について述べる。<br>\n",
        "下のようなリストを作成している。下のリストを実行しておこう。"
      ]
    },
    {
      "cell_type": "code",
      "metadata": {
        "id": "TaXuQHw30kKy",
        "colab_type": "code",
        "colab": {}
      },
      "source": [
        "## 氏名，フリガナ，性別，生年月日，年齢，出身地，ID，パスワード  ##\n",
        "p0 = [\"吉本恵理子\",\"ヨシモトエリコ\",\"女\",19661125,53,\"鳥取県\",942,\"yeU59MzN\"]\n",
        "p1 = [\"門田通夫\",\"カドタミチオ\",\"男\",19600905,59,\"沖縄県\",277,\"gnU4oJac\"]\n",
        "p2 = [\"榎本定雄,エノモトサダオ\",\"男\",19720702,47,\"奈良県\",245,\"u-Bxinn9\"]\n",
        "p3 = [\"丹羽久男\",\"タンバヒサオ\",\"男\",19770605,42,\"岩手県\",314,\"nAYgoLtH\"]\n",
        "p4 = [\"菅将文\",\"カンマサフミ\",\"男\",19671029,52,\"東京都\",132,\"6riM4Myf\"]\n",
        "p5 = [\"八田政利\",\"ヤツタマサトシ\",\"男\",19700330,49,\"福井県\",191,\"Yhs9CBmX\"]\n",
        "p6 = [\"富沢正道\",\"トミザワマサミチ\",\"男\",19751030,44,\"山形県\",395,\"8DJhFyTe\"]\n",
        "p7 = [\"西原美奈\",\"ニシハラミナ\",\"女\",19910601,28,\"奈良県\",62,\"cTcWDQ6z\"]\n",
        "p8 = [\"高松哲也\",\"タカマツテツヤ\",\"男\",19680805,51,\"広島県\",397,\"Ly-zOW4d\"]\n",
        "p9 = [\"石井基之\",\"イシイモトユキ\",\"男\",19940905,25,\"佐賀県\",424,\"aO,TQGMr\"]"
      ],
      "execution_count": 0,
      "outputs": []
    },
    {
      "cell_type": "markdown",
      "metadata": {
        "id": "TyGbekIK0kK0",
        "colab_type": "text"
      },
      "source": [
        "appendの使い方は以下の通りである。挿入したいデータをappendの()に入れて，実行するだけである。<br>\n",
        "ここでよくすることで注意する。何回も実行すると，同じデータが実行した回数分追加されるので注意しよう。"
      ]
    },
    {
      "cell_type": "code",
      "metadata": {
        "id": "3r9lZG_b0kK0",
        "colab_type": "code",
        "colab": {}
      },
      "source": [
        "# 上のp0〜p9の末尾に下の血液型を追加する。\n",
        "p0.append(\"A\")\n",
        "print(p0)\n",
        "## 実行は一回のみ。ために２回実行すると，'A'が二つ，3回実行すると，'A'が3つ追加されている。"
      ],
      "execution_count": 0,
      "outputs": []
    },
    {
      "cell_type": "markdown",
      "metadata": {
        "id": "7fV-gUY90kK3",
        "colab_type": "text"
      },
      "source": [
        "同じように，p1〜p9も追加してみよう。<br>\n",
        "\n",
        "|No|血液型|\n",
        "|:-:|:-:|\n",
        "|p1|A|\n",
        "|p2|B|\n",
        "|p3|AB|\n",
        "|p4|A|\n",
        "|p5|O|\n",
        "|p6|O|\n",
        "|p7|A|\n",
        "|p8|B|\n",
        "|p9|AB|\n",
        "\n",
        "<font color=DarkRed>$\\downdownarrows$+コード</font>"
      ]
    },
    {
      "cell_type": "markdown",
      "metadata": {
        "id": "aR9_JoPv0kLM",
        "colab_type": "text"
      },
      "source": [
        "#### リストのスライス\n",
        "リストはシーケンス型であることは前に触れた。したがって，スライするときは，\n",
        "[これ](https://drive.google.com/open?id=1M_bthK1nrzvbReqULCtrFPHh2-pnXa6f)と同じようにスライスされ，番号が自動的にふられる。そして，指定した文字や数値の位置がどこか取得することができる。"
      ]
    },
    {
      "cell_type": "markdown",
      "metadata": {
        "id": "_ITmjh3D0kLM",
        "colab_type": "text"
      },
      "source": [
        "例えば，\n",
        "```\n",
        "num = [10,11,12,13,14,15,16,17,18,19]\n",
        "```\n",
        "というリストがある。<br>\n",
        "indexは，このリストの中に，`16`は何番目に存在するか？と調べるときなどに用いる場合が多い。\n",
        "```\n",
        "num.index(16)\n",
        "```\n",
        "と書く。<br>\n",
        "この動作について下のセルに書いて確認しよう。<br>\n",
        "<font color=DarkRed>$\\downdownarrows$+コード</font>"
      ]
    },
    {
      "cell_type": "markdown",
      "metadata": {
        "id": "72vXjonj0kLO",
        "colab_type": "text"
      },
      "source": [
        "次に，countの使い方について述べる。<br>\n",
        "countは，あるリストに，指定した値(もしくは文字，真偽値)がいくつ存在するのか，その値を返すメソッドである。<br>\n",
        "例えば，\n",
        "```\n",
        "boo = [True,False,False,True,False,True,True,False,True,False]\n",
        "```\n",
        "というリストがある.<br>\n",
        "このリストの中に，TrueやFalseが何個あるのか，というときに調べるときに，\n",
        "```\n",
        "boo.count(True)\n",
        "```\n",
        "ように用いる。\n",
        "セルを追加して確認してみよう。<br>\n",
        "<font color=DarkRed>$\\downdownarrows$+コード</font>"
      ]
    },
    {
      "cell_type": "markdown",
      "metadata": {
        "id": "ZGxzsSQj0kLQ",
        "colab_type": "text"
      },
      "source": [
        "このように，リスト(変数名)のあとに`.`(ドッド)に続いてコードを書く，というパターンになっている。<br>\n",
        "プログラムは予め決められたルールに従って書くことで，目的に応じて，様々なデータを取得するためのプログラム(指示を与えること)ができる。<br>\n",
        "つまり，仕様によって書き方が若干変わるが，上に書いたメソッドの書き方はある程度統一されている。"
      ]
    },
    {
      "cell_type": "markdown",
      "metadata": {
        "id": "ldOu09JG0kLQ",
        "colab_type": "text"
      },
      "source": [
        "#### len関数の使い方\n",
        "`len`関数は，()の中にあるデータの長さや要素の数を取得する。len関数の書式は，\n",
        "```\n",
        "len(boo)\n",
        "len(num)\n",
        "```\n",
        "となる。<br>\n",
        "リストの中のデータ数の大きさや，文字の長さを調べるのに用いる一つの方法である。<br>\n"
      ]
    },
    {
      "cell_type": "code",
      "metadata": {
        "id": "O8VNmdVr0kLR",
        "colab_type": "code",
        "colab": {}
      },
      "source": [
        "# print(len(boo))\n",
        "# print(len(num))\n"
      ],
      "execution_count": 0,
      "outputs": []
    },
    {
      "cell_type": "markdown",
      "metadata": {
        "id": "oX0dlNFA0kLV",
        "colab_type": "text"
      },
      "source": [
        "<font size=5 color=red>\n",
        "重要<br></font>\n",
        "\n",
        "<font size=5>\n",
        "これらリストの操作と同じようなことが文字列に作用させることができる。<br>\n",
        "</font>\n",
        "\n",
        "- \"宝塚太郎\"のような文字列を数えるときもlen関数を使うことができる。\n",
        "- インデックス番号を使って文字列の一部を抽出，分割，結合(前に示した)することもできる。\n",
        "- 文字列の一部を置き換えることができる。\n",
        "- 特定の文字を検索することができる。\n",
        "- その他\n",
        "\n",
        "これらは，必要に応じて用いる。わからないときは，ググったら何かヒットする。\n",
        "\n",
        "例えば，`宝塚太郎`を姓と名に分けて取得するコードの一例は，\n",
        "```\n",
        "name = '宝塚太郎'\n",
        "sei = name[:2]\n",
        "mei = name[2:]\n",
        "```\n",
        "となる。\n",
        "\n",
        "文字を置き換えるコードは，\n",
        "```\n",
        "name = '宝塚太郎'\n",
        "name2 = name.replace('宝塚','和歌山') ## 宝塚を和歌山へ\n",
        "print(name)\n",
        "print(name2)\n",
        "```\n",
        "となる。\n",
        "\n",
        "文字を検索するときは，\n",
        "```\n",
        "address = \"和歌山県和歌山市中之島2252\"\n",
        "fw =\"中之島\"\n",
        "print(address.find(fw))\n",
        "## ただし，最初の文字のインデックスを返す。\n",
        "## すべての文字のインデックスを取得するには別にプログラムを考える必要がある。\n",
        "```\n",
        "となる。\n"
      ]
    },
    {
      "cell_type": "code",
      "metadata": {
        "id": "Pw5RUTg00kLX",
        "colab_type": "code",
        "colab": {}
      },
      "source": [
        ""
      ],
      "execution_count": 0,
      "outputs": []
    },
    {
      "cell_type": "markdown",
      "metadata": {
        "id": "8XuXqQVd0kLZ",
        "colab_type": "text"
      },
      "source": [
        "# タプル(tuple)\n",
        "リストを表す[]が()に変わった形をタプルという。タプルはリストのようにタプルの中のデータに何が含まれているのか，指定したデータの有無やインデックスは取得可能であるが，追加や変更をすることができない。"
      ]
    },
    {
      "cell_type": "code",
      "metadata": {
        "id": "xYrtQ7TN0kLZ",
        "colab_type": "code",
        "colab": {}
      },
      "source": [
        "## p0をタプルに変更する\n",
        "p0_tuple = tuple(p0)\n",
        "p0_list = list(p0_tuple)\n",
        "print(p0_tuple)\n",
        "print(p0_list)"
      ],
      "execution_count": 0,
      "outputs": []
    },
    {
      "cell_type": "code",
      "metadata": {
        "id": "UbFwdSsq0kLb",
        "colab_type": "code",
        "colab": {}
      },
      "source": [
        "## リストデータの置き換えができるか？\n",
        "p0_list[1] = \"abc\"\n",
        "print(p0_list)\n",
        "p0_tuple[1] = \"abc\"\n",
        "print(p0_tuple)\n"
      ],
      "execution_count": 0,
      "outputs": []
    },
    {
      "cell_type": "code",
      "metadata": {
        "id": "0P_Q5N7k0kLc",
        "colab_type": "code",
        "colab": {}
      },
      "source": [
        "## インデックスの取得\n",
        "print(p0_list.index(53))\n",
        "print(p0_tuple.index(53))"
      ],
      "execution_count": 0,
      "outputs": []
    },
    {
      "cell_type": "code",
      "metadata": {
        "id": "oATY0drw0kLd",
        "colab_type": "code",
        "colab": {}
      },
      "source": [
        "## countはできるか？\n",
        "boo = [True,False,False,True,False,True,True,False,True,False]\n",
        "boo_list = boo.copy()\n",
        "boo_tuple = tuple(boo)\n",
        "print(boo_tuple)\n",
        "print(boo_list.count(True))\n",
        "print(boo_tuple.count(True))"
      ],
      "execution_count": 0,
      "outputs": []
    },
    {
      "cell_type": "markdown",
      "metadata": {
        "id": "zSMbg5q90kLe",
        "colab_type": "text"
      },
      "source": [
        "p0"
      ]
    },
    {
      "cell_type": "markdown",
      "metadata": {
        "id": "hqRXXbtc0kLf",
        "colab_type": "text"
      },
      "source": [
        "<font size=3>\n",
        "ポイント<br>\n",
        "    \n",
        "- まとまったデータを扱いたいとき，第一選択になるのは，`リスト`である。\n",
        "- リストを用いてデータを整理し，必要に応じてtuple形式に変える。\n",
        "- tupleは追加や変更はできないが，その中身をみることはリストと同じように可能である。\n",
        "- tupleを指定するときは，最初から行なうのではなく，変更されたくないデータや固定されるべきデータとしたいときのみ用いると便利である。\n",
        "\n",
        "</font>"
      ]
    },
    {
      "cell_type": "markdown",
      "metadata": {
        "id": "Hn7x3Gi60kLf",
        "colab_type": "text"
      },
      "source": [
        "<font size=5 color=blue>問題4</font>\n",
        "\n",
        "dataという変数名にリスト，\n",
        "```\n",
        "data = [\"吉本恵理子\",\"ヨシモトエリコ\",\"女\",19661125,53,\"鳥取県\",942,\"yeU59MzN\"]\n",
        "```\n",
        "がある。\n",
        "次の問いについて，適切なコードを書いてみよう。\n",
        "1. \"吉本恵理子\"を姓と名に分けて，姓，名の順にリスト形式で現す。\n",
        "1. \"ヨシモトエリコ\"を姓と名に分けて，姓，名の順にリスト形式で現す。\n",
        "1. 吉本さんの生年月日は，19661125である。生年月日のインデックスはどこか記す。\n",
        "1. 吉本さんの生年月日は，1966年11月25日である。生年月日は変わらない。これをタプルで現す。\n",
        "1. data2という新しい変数名に，dataの\"吉本恵理子\"を姓と名でリストにしたもの，\"ヨシモトエリコ\"を姓と名でリストにしたものに置き換える。\n",
        "1. 生年月日の19661125を西暦，月，日に書き換えられたタプルに置き換える。\n",
        "\n",
        "<font color=DarkRed>$\\downdownarrows$+コード</font>"
      ]
    },
    {
      "cell_type": "markdown",
      "metadata": {
        "id": "NP4LmmEz0kLn",
        "colab_type": "text"
      },
      "source": [
        "# 辞書型\n",
        "他のプログラミング言語にない，最強のデータ形式である。様々なデータを扱うことができ，非常に便利なデータ形式である。\n",
        "### 基本構造\n",
        "辞書型はPython特有の表記方法であろう。少し複雑かもしれないが，構造を覚えてしまえば簡単である。色々なところで使われるのでぜひ覚えおきたい。<br>\n",
        "辞書型の基本構造を示す。<br>\n",
        "```\n",
        "{key1:value1, key2:value2, key3:value3, key4:value4,…}\n",
        "```\n",
        "となる。`{}`で囲まれ，要素ごとに，`,`で区切られており，リストやタプルのように順番はない。その代わり，`key`によって，値を得ることができる。また，この辞書型も変数名に代入することができる。<br>\n",
        "さて，リストとタプルの単元で書いたと思うが，次のコードをここでもう一度書いてみよう。"
      ]
    },
    {
      "cell_type": "markdown",
      "metadata": {
        "id": "FmkueRAN0kLo",
        "colab_type": "text"
      },
      "source": [
        "```\n",
        "p0 = [\"吉本恵理子\",\"ヨシモトエリコ\",\"女\",19661125,53,\"鳥取県\",942,\"yeU59MzN\"]\n",
        "p1 = [\"門田通夫\",\"カドタミチオ\",\"男\",19600905,59,\"沖縄県\",277,\"gnU4oJac\"]\n",
        "p2 = [\"榎本定雄,エノモトサダオ\",\"男\",19720702,47,\"奈良県\",245,\"u-Bxinn9\"]\n",
        "p3 = [\"丹羽久男\",\"タンバヒサオ\",\"男\",19770605,42,\"岩手県\",314,\"nAYgoLtH\"]\n",
        "p4 = [\"菅将文\",\"カンマサフミ\",\"男\",19671029,52,\"東京都\",132,\"6riM4Myf\"]\n",
        "p5 = [\"八田政利\",\"ヤツタマサトシ\",\"男\",19700330,49,\"福井県\",191,\"Yhs9CBmX\"]\n",
        "p6 = [\"富沢正道\",\"トミザワマサミチ\",\"男\",19751030,44,\"山形県\",395,\"8DJhFyTe\"]\n",
        "p7 = [\"西原美奈\",\"ニシハラミナ\",\"女\",19910601,28,\"奈良県\",62,\"cTcWDQ6z\"]\n",
        "p8 = [\"高松哲也\",\"タカマツテツヤ\",\"男\",19680805,51,\"広島県\",397,\"Ly-zOW4d\"]\n",
        "p9 = [\"石井基之\",\"イシイモトユキ\",\"男\",19940905,25,\"佐賀県\",424,\"aO,TQGMr\"]\n",
        "```\n",
        "というデータがある。\n",
        "\n",
        "左から，氏名，フリガナ，性別，生年月日，年齢，出身地，ID，パスワード　という順番にデータがある。<br>\n",
        "データの意味がわかっていれば，これ以上触る必要はないかもしれないが，厳密なデータとして扱いたいときは，検索機能を備えたオブジェクトデータにしたい。そのようなときに辞書型が役立つだろう。"
      ]
    },
    {
      "cell_type": "markdown",
      "metadata": {
        "id": "Zlwy2hu70kLo",
        "colab_type": "text"
      },
      "source": [
        "### 辞書形式の作り方\n",
        "IDで管理したい場合，\n",
        "```\n",
        "data_dict = {942:[\"吉本恵理子\",\"ヨシモトエリコ\",\"女\",19661125,53,\"鳥取県\",\"yeU59MzN\"],\n",
        "            277:[\"門田通夫\",\"カドタミチオ\",\"男\",19600905,59,\"沖縄県\",\"gnU4oJac\"],\n",
        "            245:[\"榎本定雄,エノモトサダオ\",\"男\",19720702,47,\"奈良県\",245,\"u-Bxinn9\"],\n",
        "            314:[\"丹羽久男\",\"タンバヒサオ\",\"男\",19770605,42,\"岩手県\",314,\"nAYgoLtH\"],\n",
        "            132:[\"菅将文\",\"カンマサフミ\",\"男\",19671029,52,\"東京都\",\"6riM4Myf\"],\n",
        "            191:[\"八田政利\",\"ヤツタマサトシ\",\"男\",19700330,49,\"福井県\",\"Yhs9CBmX\"],\n",
        "            395:[\"富沢正道\",\"トミザワマサミチ\",\"男\",19751030,44,\"山形県\",\"8DJhFyTe\"],\n",
        "            62:[\"西原美奈\",\"ニシハラミナ\",\"女\",19910601,28,\"奈良県\",\"cTcWDQ6z\"],\n",
        "            397:[\"高松哲也\",\"タカマツテツヤ\",\"男\",19680805,51,\"広島県\",\"Ly-zOW4d\"],\n",
        "            424:[\"石井基之\",\"イシイモトユキ\",\"男\",19940905,25,\"佐賀県\",\"aO,TQGMr\"]\n",
        "            }\n",
        "```\n",
        "というように，書くことができる。<br>\n",
        "これで，key(:より左側の部分)で検索をかけることができる。"
      ]
    },
    {
      "cell_type": "code",
      "metadata": {
        "id": "Frx6VdDe0kLo",
        "colab_type": "code",
        "colab": {}
      },
      "source": [
        "## data_dictの読み込み\n",
        "data_dict = {942:[\"吉本恵理子\",\"ヨシモトエリコ\",\"女\",19661125,53,\"鳥取県\",\"yeU59MzN\"],\n",
        "            277:[\"門田通夫\",\"カドタミチオ\",\"男\",19600905,59,\"沖縄県\",\"gnU4oJac\"],\n",
        "            245:[\"榎本定雄\",\"エノモトサダオ\",\"男\",19720702,47,\"奈良県\",\"u-Bxinn9\"],\n",
        "            314:[\"丹羽久男\",\"タンバヒサオ\",\"男\",19770605,42,\"岩手県\",\"nAYgoLtH\"],\n",
        "            132:[\"菅将文\",\"カンマサフミ\",\"男\",19671029,52,\"東京都\",\"6riM4Myf\"],\n",
        "            191:[\"八田政利\",\"ヤツタマサトシ\",\"男\",19700330,49,\"福井県\",\"Yhs9CBmX\"],\n",
        "            395:[\"富沢正道\",\"トミザワマサミチ\",\"男\",19751030,44,\"山形県\",\"8DJhFyTe\"],\n",
        "            62:[\"西原美奈\",\"ニシハラミナ\",\"女\",19910601,28,\"奈良県\",\"cTcWDQ6z\"],\n",
        "            397:[\"高松哲也\",\"タカマツテツヤ\",\"男\",19680805,51,\"広島県\",\"Ly-zOW4d\"],\n",
        "            424:[\"石井基之\",\"イシイモトユキ\",\"男\",19940905,25,\"佐賀県\",\"aO,TQGMr\"]\n",
        "            }\n",
        "\n",
        "## keyの取得\n",
        "data_key = data_dict.keys()\n",
        "## もしくはリストとして取り出す\n",
        "# data_key = list(data_key)\n",
        "data_key = [*data_dict]\n",
        "# *data_key, = data_dict\n",
        "\n",
        "\n",
        "## valueの取得\n",
        "data_values = data_dict.values()\n",
        "\n",
        "\n",
        "## IDによる検索\n",
        "print(data_dict[data_key[2]])"
      ],
      "execution_count": 0,
      "outputs": []
    },
    {
      "cell_type": "markdown",
      "metadata": {
        "id": "MWXulx730kLq",
        "colab_type": "text"
      },
      "source": [
        "このように，辞書型に検索機能を持たせることができる。膨大なデータを扱うためには，検索機能が重要である。<br>\n",
        "上のデータにもう少し検索機能を持たせてみよう。<br>\n",
        "IDで検索でき，出力されるデータはリスト形式で，7つのデータ(氏名，フリガナ，性別，生年月日，年齢，出身地，パスワード)が出力される。これらのデータのうち，必要なデータのみを出力(例えば，\"出身地\"というキーで出身地を出力)するようなコードを書いてみよう。<br>"
      ]
    },
    {
      "cell_type": "markdown",
      "metadata": {
        "id": "dQKfbgWK0kLr",
        "colab_type": "text"
      },
      "source": [
        "data_dictのkeyが424のvalue\n",
        "```\n",
        "[\"石井基之\",\"イシイモトユキ\",\"男\",19940905,25,\"佐賀県\",\"aO,TQGMr\"]\n",
        "```\n",
        "を，リストを，検索できるように変えてみると，\n",
        "```\n",
        "{\"name\":\"石井基之\", \"furigana\":\"イシイモトユキ\", \n",
        " \"sex\":\"男\", \"birthday\":19940905, \"age\":25, \"birthplace\":\"佐賀県\", \"password\":\"aO,TQGMr\"}\n",
        "```\n",
        "と書くことができる。<br>\n",
        "これをdata_dictのkey424のvalueと入れ替えて，出身地を検索してみよう。"
      ]
    },
    {
      "cell_type": "code",
      "metadata": {
        "id": "CuH75hsc0kLr",
        "colab_type": "code",
        "colab": {}
      },
      "source": [
        "## (例)424のvalueの入れ替え\n",
        "## 入れ替え前の data_dictの確認\n",
        "print(data_dict)\n",
        "\n",
        "## 入れ替える\n",
        "data_dict[424] = {\"name\":\"石井基之\", \"furigana\":\"イシイモトユキ\", \n",
        " \"sex\":\"男\", \"birthday\":19940905, \"age\":25, \"birthplace\":\"佐賀県\", \"password\":\"aO,TQGMr\"}\n",
        "\n",
        "## 入れ替え後のdata_dictの確認。424は辞書型になっているだろう。\n",
        "print(data_dict)"
      ],
      "execution_count": 0,
      "outputs": []
    },
    {
      "cell_type": "markdown",
      "metadata": {
        "id": "VtJWdff00kLs",
        "colab_type": "text"
      },
      "source": [
        "このようにしておくと，\n",
        "```\n",
        "data_dict[424][\"name\"]\n",
        "data_dict[424][\"age\"]\n",
        "```\n",
        "と書けて，名前や年齢など，特定の情報のみを抽出することができる。\n"
      ]
    },
    {
      "cell_type": "code",
      "metadata": {
        "id": "MsrAg0AW0kLs",
        "colab_type": "code",
        "colab": {}
      },
      "source": [
        "# 動作の確認\n",
        "print(data_dict[424][\"name\"])\n",
        "print(data_dict[424][\"age\"])"
      ],
      "execution_count": 0,
      "outputs": []
    },
    {
      "cell_type": "markdown",
      "metadata": {
        "id": "XmdeyrmB0kLu",
        "colab_type": "text"
      },
      "source": [
        "<font color=blue size=5>問題5</font><br>\n",
        "data_dictに含まれる他のデータについても，\n",
        "```\n",
        "{\"name\":\"石井基之\", \"furigana\":\"イシイモトユキ\", \n",
        " \"sex\":\"男\", \"birthday\":19940905, \"age\":25, \"birthplace\":\"佐賀県\", \"password\":\"aO,TQGMr\"}\n",
        "```\n",
        "な形に置き換えなさい。<br>\n",
        "<font color=DarkRed>$\\downdownarrows$+コード</font>"
      ]
    },
    {
      "cell_type": "markdown",
      "metadata": {
        "id": "JAhx-2rD0kLv",
        "colab_type": "text"
      },
      "source": [
        "# 外部データの読み込み\n",
        "医療に関する多くのデータを適切に扱うためには，2次元の表形式のデータフレームを上手に取り扱える想像力が必要になる。<br>\n",
        "その多くのデータは，時系列データである。近年では，サンプリング間隔は1msecのデータ，大量のデータを同時に取り扱う機会が増えてきていおり，分析や解析手法は高度化してきている。<br>\n",
        "\n",
        "ここでは，csv形式のデータを読み込み，読み込んだデータを加工して，出力する方法について学ぶ。\n",
        "\n",
        "## CSVデータとは\n",
        "CSVは，Comma Separated Valuesの略で，`,`(カンマ)で区切られたファイル形式のデータを指し，テキストデータの一種でエクセルのような2次元のデータフレームを扱うときに用いられる形式である。`,`の代わりにタブ形式のファイル(.TSV)もあるが，CSV形式のファイルの存在が割合が多い。\n",
        "\n",
        "## CSV形式データの読み込み\n",
        "外部のライブラリのPandasを使うことを強くお勧めする。<br>\n",
        "Pandasを用いると，データの統計量を取得したり，可視化が簡便にでき，さらにデータ分析（データサイエンス）や機械学習で必要となる作業を簡単に行うことができる。<br>\n",
        "ここでは，先に述べた便利機能を使う前の，データの読み込みとして，Pandasを使う。<br>\n",
        "Pandasを使って外部csvファイルを読み込むために，\n",
        "```\n",
        "import pandas as pd\n",
        "```\n",
        "として，ライブラリをこのカーネルに取り入れる。<br>\n",
        "次に，pandasのメソッドの`read_csv`を使い，\n",
        "```\n",
        "pd.read_csv(ファイル名)\n",
        "```\n",
        "を使ってファイル内のデータを取り込む。<br>\n",
        "では，実際にやってみよう。"
      ]
    },
    {
      "cell_type": "code",
      "metadata": {
        "id": "S-uh1B2M0kLw",
        "colab_type": "code",
        "colab": {}
      },
      "source": [
        "# pandasをpdとしてインポートする\n",
        "import pandas as pd\n",
        "\n",
        "# 'pi.csv'というファイルの中身を読み込んで，dfという変数名に代入する。\n",
        "df = pd.read_csv('personal.csv')\n"
      ],
      "execution_count": 0,
      "outputs": []
    },
    {
      "cell_type": "code",
      "metadata": {
        "id": "7QKl9d6J0kLx",
        "colab_type": "code",
        "colab": {}
      },
      "source": [
        "# dfの最初の5行を確認する\n",
        "df.head()\n"
      ],
      "execution_count": 0,
      "outputs": []
    },
    {
      "cell_type": "code",
      "metadata": {
        "id": "v5zo0oc20kLy",
        "colab_type": "code",
        "colab": {}
      },
      "source": [
        "# dfの最後の5行を確認する\n",
        "df.tail()\n"
      ],
      "execution_count": 0,
      "outputs": []
    },
    {
      "cell_type": "markdown",
      "metadata": {
        "id": "eIV3Glkz0kLz",
        "colab_type": "text"
      },
      "source": [
        "ここまで進むと，Pythonの第一関門は突破された！<br>\n",
        "この後は，この読み込んだデータをどうするのか？統計処理したいのか？，データ整理したいのか？，計算したいのか？，によって変わってくる。<br>\n",
        "<br>"
      ]
    },
    {
      "cell_type": "markdown",
      "metadata": {
        "id": "NuJaMjmh0kL0",
        "colab_type": "text"
      },
      "source": [
        "#### 読み込んだデータをdata_dictに追加してみよう。\n",
        "ここではdfのデータを一つずつ読み込み，`data_dict`に追加していく。<br>\n",
        "リストへの追加は`append`を使う。辞書型の追加は`update`となる。<br>\n",
        "\n",
        "さて，dfはDataFrame型である。"
      ]
    },
    {
      "cell_type": "markdown",
      "metadata": {
        "id": "NDNPs0qp0kL0",
        "colab_type": "text"
      },
      "source": [
        "はじめに，列名を変更する。変更する名前は，data_dictで使えるように同じキーを使用しよう。"
      ]
    },
    {
      "cell_type": "code",
      "metadata": {
        "id": "qMZpjW0i0kL0",
        "colab_type": "code",
        "colab": {}
      },
      "source": [
        "# DataFrame型(df)の列名へのアクセスは，df.columnsで，それを代入し直す(置き換える)列名をリストで与える。\n",
        "df.columns = [\"name\", \"furigana\", \"sex\", \"birthday\", \"age\", \"birthplace\",'number', \"password\"]\n",
        "df.head()"
      ],
      "execution_count": 0,
      "outputs": []
    },
    {
      "cell_type": "markdown",
      "metadata": {
        "id": "mOuMWbVQ0kL3",
        "colab_type": "text"
      },
      "source": [
        "DataFrameを辞書型に置き換えたいのであるが，data_dictに含まれるキーと合うように転置（縦と横を入れ替える）。置き換えやすくするために，\n",
        "```\n",
        "dfT = df.T\n",
        "dfT\n",
        "```"
      ]
    },
    {
      "cell_type": "code",
      "metadata": {
        "id": "bNZeCYxv0kL4",
        "colab_type": "code",
        "colab": {}
      },
      "source": [
        "dfT = df.T\n",
        "dfT"
      ],
      "execution_count": 0,
      "outputs": []
    },
    {
      "cell_type": "markdown",
      "metadata": {
        "id": "rkU8OW7N0kL5",
        "colab_type": "text"
      },
      "source": [
        "このdfTを辞書型に変換する。それを`dfT_dict`に代入する。\n",
        "```\n",
        "dfT_dict = dfT.to_dict()\n",
        "```\n",
        "と下のセルに書いてみよう。to_dict()はDataFrameからdictionaryに変換するメソッドである。"
      ]
    },
    {
      "cell_type": "code",
      "metadata": {
        "id": "ENd4nRlf0kL6",
        "colab_type": "code",
        "colab": {}
      },
      "source": [
        "dfT_dict = dfT.to_dict()"
      ],
      "execution_count": 0,
      "outputs": []
    },
    {
      "cell_type": "markdown",
      "metadata": {
        "id": "l9Era5oL0kL8",
        "colab_type": "text"
      },
      "source": [
        "dfT_dictのデータのKeyに該当する値を取り出し，そのvalueのnumberを該当するvalueのKeyとし，valueに含まれるnumberを削除することで，data_dictと同じ内容にすることができる。<br>\n",
        "ここで，辞書型内の要素を削除する方法は，`del文`もしくは，`pop()`が良いでしょう。<br>\n",
        "`pop()`は削除した値を返し，`del文`は指定したものを削除する。ここでは両方使う<br>\n",
        "では，\n",
        "```\n",
        "dfT_dict.keys()\n",
        "```\n",
        "と書いて，dfT_dictのキーの一覧をみてみよう。"
      ]
    },
    {
      "cell_type": "code",
      "metadata": {
        "id": "cP8Xo3fn0kL8",
        "colab_type": "code",
        "colab": {}
      },
      "source": [
        "# ここに上のコードを書いて確認する\n",
        "dfT_dict.keys()"
      ],
      "execution_count": 0,
      "outputs": []
    },
    {
      "cell_type": "markdown",
      "metadata": {
        "id": "Dfdy_TyJ0kL-",
        "colab_type": "text"
      },
      "source": [
        "そのうちの一つのデータを先に書いた手続きに従って整理してみると，\n",
        "```\n",
        "newid = dfT_dict[0].pop('number')\n",
        "dfT_dict[newid] = dfT_dict[0]\n",
        "del dfT_dict[0]\n",
        "```\n",
        "となる。下のセルで確認してみよう。"
      ]
    },
    {
      "cell_type": "code",
      "metadata": {
        "id": "S9GQiPIa0kL_",
        "colab_type": "code",
        "colab": {}
      },
      "source": [
        "## 上のコードを書いて動作を確認する\n"
      ],
      "execution_count": 0,
      "outputs": []
    },
    {
      "cell_type": "markdown",
      "metadata": {
        "id": "Ke948LrM0kMA",
        "colab_type": "text"
      },
      "source": [
        "これをdfT_dictすべてのvalueに対して行いたい。<br>\n",
        "次は，\n",
        "```\n",
        "newid = dfT_dict[1].pop('number')\n",
        "dfT_dict[newid] = dfT_dict[1]\n",
        "del dfT_dict[1]\n",
        "```\n",
        "となる。その次は，\n",
        "```\n",
        "newid = dfT_dict[2].pop('number')\n",
        "dfT_dict[newid] = dfT_dict[2]\n",
        "del dfT_dict[2]\n",
        "```\n",
        "となる。そして，\n",
        "```\n",
        "newid = dfT_dict[3].pop('number')\n",
        "dfT_dict[newid] = dfT_dict[3]\n",
        "del dfT_dict[3]\n",
        "```\n",
        "となる。どこが変わっているだろうか？<br>\n",
        "すでに気づいているだろう。そう，3箇所の数値が変わっているだけである。<br>\n",
        "このようなケースは，繰り返し文という構文を用いるのがよい。<br>\n",
        "for文はプログラムを勉強する上で，重要な構文である。"
      ]
    },
    {
      "cell_type": "markdown",
      "metadata": {
        "id": "f5COtb6Y0kMA",
        "colab_type": "text"
      },
      "source": [
        "## for文\n",
        "基本形は，\n",
        "```\n",
        "for i in range(10):\n",
        "    print(i)\n",
        "```\n",
        "である。<br>\n",
        "`for i in range(10)`で，`i` に0,1,2,...,9の順に代入するという意味になる。そして，`:`で，区切って，この構文はまだ終わらないことを教える(プログラムは一行ずつ順番に読んでいくので，`:`がなければこれで終わり...とコンピュータが判断してしまう)。<br>\n",
        "[for文の基本形](https://drive.google.com/open?id=1NURns0ZLvGZkbcrpkzuE9HdPN3y4KJYj)\n",
        "<br>\n",
        "先頭から半角で4つのスペースを与えて，操作・処理したい内容を指示する。ここでは，`print(i)`(`i`(数字)を表示)としたした。<br>\n",
        "これは，**for文**のパターンである。その[フローチャート](https://drive.google.com/open?id=1uYVfA4YvH2qdso4UJcoRbL_VXcZ93NIi)である。<br>\n",
        "\n",
        "重要な点を次にまとめる。<br>\n",
        "- シー-ケンス型のデータをある記号に代入(`in`)する。\n",
        "- `:`を忘れない。\n",
        "- 具体的な処理はブロックを作って指示する。ブロックと単位は，半角スペース4つ分であること。\n",
        "- 繰り返し練習する。\n",
        "\n",
        "上の繰り返し文の基本形を下にセルを追加して書いてみよう。<br>\n",
        "<font color=DarkRed>$\\downdownarrows$+コード</font>"
      ]
    },
    {
      "cell_type": "markdown",
      "metadata": {
        "id": "1d0-Pyzq0kMB",
        "colab_type": "text"
      },
      "source": [
        "では，早速`dfT_dict`の処理を繰り返し行わせるプログラム書いてみよう。<br>\n",
        "その前に，もう一つ便利なことを示しておく。<br>\n",
        "for文の場合，基本形の`range()`の部分は，シーケンスであれば何でも入る(ほとんどのシーケンスデータを処理してくれる)。つまり，配列しているデータは何でもよいことになる。もちろんリストもその一つに含まれる。<br>\n",
        "ということは，ここの`dfT_dict`のキーをリスト化してそれをfor文に用いることができる。<br>\n",
        "`dfT_dict`のキーは，<br>\n",
        "```\n",
        "dfT_dict_key = [*dfT_dict]\n",
        "```\n",
        "<u>**新たに構文を作る必要はない！！**</u><br>\n",
        "<font size=5 color=red>プログラムの基本は，すでに存在するものをできるだけ再利用すること</font>\n"
      ]
    },
    {
      "cell_type": "markdown",
      "metadata": {
        "id": "reDLCuti0kMB",
        "colab_type": "text"
      },
      "source": [
        "`dfT_dict_key`を使ってfor文を書いてみると，\n",
        "\n",
        "```\n",
        "for i in dfT_dict_key:\n",
        "    newid = dfT_dict[i].pop('number')\n",
        "    dfT_dict[newid] = dfT_dict[i]\n",
        "    del dfT_dict[i]\n",
        "```\n",
        "となる。<br>\n",
        "変更できているか，\n",
        "```\n",
        "print(dfT_dict)\n",
        "```\n",
        "で確認してみよう。<br>\n",
        "<font color=DarkRed>$\\downdownarrows$+コード</font>"
      ]
    },
    {
      "cell_type": "markdown",
      "metadata": {
        "id": "GWVXxLuC0kME",
        "colab_type": "text"
      },
      "source": [
        "そして，もともと存在したデータ`data_dict`と今回整理したデータ`dfT_dict_key`を合わせて新しいデータベースを作って完了となる。<br>\n",
        "要するに，`data_dict`と`dfT_dict_key`を結合すればよい。<br>\n",
        "辞書の結合や追加は`update`でできる。\n",
        "コードは，\n",
        "```\n",
        "data_dict.update(dfT_dict_key)\n",
        "```\n",
        "である。これは，`data_dict`に`dfT_dict_key`を合わせる,ということである。<br>\n",
        "したがって，\n",
        "data_dictの中身が増えているはずである！"
      ]
    },
    {
      "cell_type": "markdown",
      "metadata": {
        "id": "9TMp-CL60kMF",
        "colab_type": "text"
      },
      "source": [
        "<font size=3>**辞書型のまとめ**</font><br>\n",
        "\n",
        "- 辞書型は汎用性に優れる。\n",
        "- for文はプログラム言語を勉強する上で基本的な構文である。その作用について理解しよう。\n",
        "- 利点・欠点を理解して使い方を勉強する。\n",
        "    "
      ]
    },
    {
      "cell_type": "markdown",
      "metadata": {
        "id": "9bpUN9Ly0kMF",
        "colab_type": "text"
      },
      "source": [
        "おまけ<br>\n",
        "以上の内容を書いているとあることに気づく。`data_dict`に`dfT_dict_key`を結合する方法を。<br>\n",
        "そのコードを書いてみよう。<br>"
      ]
    },
    {
      "cell_type": "code",
      "metadata": {
        "id": "Vm8pIGcc0kMF",
        "colab_type": "code",
        "colab": {}
      },
      "source": [
        "import pandas as pd ## import は一回すればいいので不要かも。\n",
        "\n",
        "## 乱数の部分がnumberとしてキーになる。\n",
        "## 行名にして読みこんでおく。ここが変更するためのポイント。\n",
        "df = pd.read_csv('/Users/tumh/Desktop/personal.csv', index_col=6)\n",
        "## 列名を変えて，転置して，DataFrameから辞書型に変換すると，前にやったdfT_dict_keyの状態になる。\n",
        "df.columns = [\"name\", \"furigana\", \"sex\", \"birthday\", \"age\", \"birthplace\", \"password\"]\n",
        "df = df.T\n",
        "dfT_dict_key_1 = df.to_dict()\n",
        "print(dfT_dict_key_1)\n",
        "## 以上である。"
      ],
      "execution_count": 0,
      "outputs": []
    },
    {
      "cell_type": "markdown",
      "metadata": {
        "id": "OCYb_HFx0kMG",
        "colab_type": "text"
      },
      "source": [
        "あれ？for文を使わないていいじゃないか！！<br>\n",
        "そうなんです，<font color=red>目的を達成するための方法は複数ある。</font>その中でも一番スマートな方法，わかりやすい方法を考案することがおもしろい。<br>\n",
        "結果は同じだが，その過程は様々である。これを考えるのが楽しい！！"
      ]
    },
    {
      "cell_type": "markdown",
      "metadata": {
        "id": "lfjX0KEB0kMH",
        "colab_type": "text"
      },
      "source": [
        "## pickleによる保存\n",
        "外部のファイルからデータを読み込むことができたので，それを保存してみよう。<br>\n",
        "一番手っ取り早いのが，`pickle`を使うことである。`pickle`はpythonに依存するデータ形式をすべて一時的に保存することができる。Pythonで扱えるデータは`pickle`を使って多分すべて保存できる。<br>\n",
        "早速やってみよう。<br>\n",
        "コードは2行で済み(importを含めばと3行)，\n",
        "```\n",
        "import pickle\n",
        "with open(ファイル名,'wb') as ff:\n",
        "    pickle.dump(オブジェクト, ff)\n",
        "```\n",
        "である。<br>\n",
        "下のセルを実行すると，カレントディレクトリに，ファイル名が現れているだろう。"
      ]
    },
    {
      "cell_type": "code",
      "metadata": {
        "id": "qMYfchNK0kMH",
        "colab_type": "code",
        "colab": {}
      },
      "source": [
        "import pickle\n",
        "with open(\"file.pickle\",\"wb\") as ff:\n",
        "    pickle.dump(data_dict,ff)"
      ],
      "execution_count": 0,
      "outputs": []
    },
    {
      "cell_type": "markdown",
      "metadata": {
        "id": "QfyZHlwo0kMI",
        "colab_type": "text"
      },
      "source": [
        "# Pandasを使ったデータ整理\n",
        "データを読み込むために使用したPandasは，データを整理したり，簡単な集計作業をするときに非常に役に立つ。多くのデータは縦横に広がる2次元配列のデータであることが多い。PandasのDataFrameでは，2次元配列を操作する際に便利である。<br>\n",
        "ここでは，データを読み込み，簡単な集計やグラフを書けるようにする。\n",
        "\n",
        "- Pandasのread_csvを使って\"file2.csv\"の外部ファイルを読み込む\n",
        "- データの全体をみる\n",
        "- データを選択する\n",
        "\n",
        " * ilocを使って，特定のデータを取得する\n",
        " * 読み込んだデータの検索をかける\n"
      ]
    },
    {
      "cell_type": "markdown",
      "metadata": {
        "id": "G7R1-RCL0kMJ",
        "colab_type": "text"
      },
      "source": [
        "## Pandasのインポート\n",
        "Pandasを用いる際，一番最初に\n",
        "```\n",
        "import pandas as pd\n",
        "```\n",
        "と書く。"
      ]
    },
    {
      "cell_type": "code",
      "metadata": {
        "id": "5U6ZK2pp0kMJ",
        "colab_type": "code",
        "colab": {}
      },
      "source": [
        "# import pandas as pdと，このセルに書く"
      ],
      "execution_count": 0,
      "outputs": []
    },
    {
      "cell_type": "markdown",
      "metadata": {
        "id": "MaM8qCHJ0kML",
        "colab_type": "text"
      },
      "source": [
        "## 外部データの読み込み\n",
        "外部データの読み込みは，前に行ったので，ここではコードだけ書いておく。<br>\n",
        "ここでは，\"file2020.csv\"というファイルに存在するデータを読み込んで，適当な変数名(dat)に代入する。\n",
        "```\n",
        "dat = pd.read_csv(\"file2020.csv\")\n",
        "```\n",
        "pd.read_csv()を用いる際，様々な条件を与えて読み込むことができる。\n",
        "```\n",
        "pd.read_csv?\n",
        "```\n",
        "のように，`?`を入れると，メソッドや関数の説明が表示される。"
      ]
    },
    {
      "cell_type": "code",
      "metadata": {
        "id": "pI2GaUHs0kML",
        "colab_type": "code",
        "colab": {}
      },
      "source": [
        "## 詳細を知りたい人は，このセルを実行して説明を読む。もしくは，ググってみる。\n",
        "import pandas as pd\n",
        "pd.read_csv?\n"
      ],
      "execution_count": 0,
      "outputs": []
    },
    {
      "cell_type": "code",
      "metadata": {
        "id": "BMvKQ5ad0kMP",
        "colab_type": "code",
        "colab": {}
      },
      "source": [
        "## 上の説明を読んでこのセルに必要なコードを書く。\n",
        "dat = pd.read_csv(\"file2020.csv\")\n",
        "dat.head()"
      ],
      "execution_count": 0,
      "outputs": []
    },
    {
      "cell_type": "markdown",
      "metadata": {
        "id": "Rzl7Aalc0kMR",
        "colab_type": "text"
      },
      "source": [
        "#### 全体の把握\n",
        "データを読み込んだり，整理した後は，必ず全体をみなければならない。ここでは，`head()`や`tail()`で表の前後を確認した。その中身についてもう少し確認する。<br>\n",
        "ここでは，名前やフリガナ，生年月日を除いてその属性を確認してみよう。\n",
        "はじめに，`discribe()`を用いて，\n",
        "```\n",
        "dat.describe()\n",
        "```\n",
        "と書く。数値データであれば，平均や四分位数などが自動で出力される。<br>\n",
        "データが文字の場合は，カウントしたり，どのようなデータが含まれるのか確認する。<br>\n",
        "`value_counts()`を使うと，\n",
        "bloodtypeの場合，\n",
        "```\n",
        "dat[\"bloodtype\"].value_counts()\n",
        "```\n",
        "birthplaceの場合\n",
        "```\n",
        "dat[\"birthplace\"].value_counts()\n",
        "```\n",
        "sexの場合，\n",
        "```\n",
        "dat[\"sex\"].value_counts()\n",
        "```\n",
        "と列名を変えるだけで，取得することができる。<br>\n",
        "これらは全体を把握するための一例である。その他にも様々なまとめ方があるので，データの内容に合わせた対応をしてほしい。<br>\n",
        "\n",
        "では，ここで書いているコードを実際に動かして動作を確認してみよう。"
      ]
    },
    {
      "cell_type": "code",
      "metadata": {
        "id": "vUwudv0S0kMS",
        "colab_type": "code",
        "colab": {}
      },
      "source": [
        "## discribe()を用いる\n"
      ],
      "execution_count": 0,
      "outputs": []
    },
    {
      "cell_type": "code",
      "metadata": {
        "id": "Jv2Dx_Xb0kMT",
        "colab_type": "code",
        "colab": {}
      },
      "source": [
        "## value_counts()を用いて，bloodtypeを\n"
      ],
      "execution_count": 0,
      "outputs": []
    },
    {
      "cell_type": "code",
      "metadata": {
        "id": "bJ1EzfFQ0kMU",
        "colab_type": "code",
        "colab": {}
      },
      "source": [
        "## value_counts()を用いて，birthplaceを\n"
      ],
      "execution_count": 0,
      "outputs": []
    },
    {
      "cell_type": "code",
      "metadata": {
        "id": "r_SkzeMH0kMV",
        "colab_type": "code",
        "colab": {}
      },
      "source": [
        "## value_counts()を用いて，sexを\n"
      ],
      "execution_count": 0,
      "outputs": []
    },
    {
      "cell_type": "markdown",
      "metadata": {
        "id": "6l5qQRcddlPc",
        "colab_type": "text"
      },
      "source": [
        "<font color=blue size=5>問題6</font><br>\n",
        "ここでは，階層のことを理解しつつ，特定のファイルのデータを読み込むことを目指す。\n",
        "1. ドライブをマウントする。\n",
        "1. `pandas`の`read_csv()`を使って，<font color=blue>My Drive$\\rightarrow$classroom$\\rightarrow$memdata$\\rightarrow$data_1.csv</font>を読み込む。\n",
        "1. 読み込んだ最初の部分を表示する。\n",
        "\n"
      ]
    },
    {
      "cell_type": "markdown",
      "metadata": {
        "id": "TNYNuiL10kMW",
        "colab_type": "text"
      },
      "source": [
        "### データの選択\n",
        "リストのように，特定のデータのみにアクセスしたいとき，様々な方法があるが，ここでは`iloc`を使う。<br>\n",
        "#### nameだけを取り出したいとき\n",
        "Pythonでインデックスをカウントするときは，0,1,2,$\\dots$と，`0`から数えるという決まりがあった。PandasのDataFrameでも同じように扱わなければならず，nameは0列目に存在する。<br>\n",
        "ということは，datの0列目をすべて取得(表示)するコードは，\n",
        "```\n",
        "dat.iloc[:,0]\n",
        "```\n",
        "となる。<br>\n",
        "一番最初に表示される名前を取り出したいときは，\n",
        "```\n",
        "dat.iloc[0,0]\n",
        "```\n",
        "となる。<br>\n",
        "では，上から順番に1から数えるとして，10から20番目の人たちの名前を抽出したいときは，\n",
        "```\n",
        "dat.iloc[9:20,0]\n",
        "```\n",
        "となる。<br>\n",
        "上から25番目までで，名前から性別の範囲を取得したい場合，\n",
        "```\n",
        "dat.iloc[:25,:3]\n",
        "```\n",
        "と書く。<br>\n",
        "では，\n",
        "```\n",
        "dat.iloc[3:8,[0,4]]\n",
        "```\n",
        "のように書くと，どのようなデータが取得できるだろうか？\n",
        "```\n",
        "dat.iloc[:10,[2,4]]\n",
        "```\n",
        "のように書くと，どのようなデータが取得できるだろうか？\n",
        "```\n",
        "dat.iloc[100:,:2]\n",
        "```\n",
        "と書くとどうだろうか？<br>\n",
        "\n",
        "それぞれセルに書いて動作を確認してみよう。"
      ]
    },
    {
      "cell_type": "markdown",
      "metadata": {
        "id": "Pi3ItWLq0kMW",
        "colab_type": "text"
      },
      "source": [
        "### データの検索\n",
        "どこに必要なデータが存在しているのかわからない。その場合は検索してみよう。<br>\n",
        "一つの条件で検索したり，複数の条件で検索したりとケースによって検索の内容が変わってくる。<br>\n",
        "ここでは，一つの条件で検索する方法，複数の条件で検索する方法について，それらのコードを書いてみよう。\n",
        "`query()`というメソッドを使う。<br>\n",
        "例えば，このデータの中に，10才未満の人だけを集めたいとき，\n",
        "```\n",
        "dat.query('age<10')\n",
        "```\n",
        "とし，10才以上30才未満のデータを抽出したいとき，\n",
        "```\n",
        "dat.query('10<=age<30')\n",
        "```\n",
        "として，検索できる。<br>\n",
        "10才以上30才未満以外のデータは，\n",
        "```\n",
        "dat.query('not 10<=age<30')\n",
        "```\n",
        "とする。\n",
        "\n",
        "次に，複数の条件で検索する場合の例を示す。<br>\n",
        "50才代でO型の人は，\n",
        "```\n",
        "dat.query(\"50<=age<60 & bloodtype=='O'\")\n",
        "```\n",
        "となり，同じ年代でO型以外の人は，\n",
        "```\n",
        "dat.query(\"50<=age<60 & bloodtype!='O'\")\n",
        "```\n",
        "となる。さらに，和歌山県出身，20〜60才で，0型以外の人は，\n",
        "```\n",
        "dat.query(\"20<=age<=60 & bloodtype!='O' & birthplace=='和歌山県'\")\n",
        "```\n",
        "となる。\n",
        "\n",
        "このように比較演算子と列名やそこに含むデータを組み合わせることで独自の検索機能を持たせることができる。<br>\n",
        "では，これらの動作を下に新たにセルを追加して，確認してみよう。\n"
      ]
    },
    {
      "cell_type": "markdown",
      "metadata": {
        "id": "zAfdACk70kMW",
        "colab_type": "text"
      },
      "source": [
        "<font size=5 color=blue >問題6</font><br>\n",
        "1. mydという変数名にfile2020.csvのデータを代入せよ。\n",
        "1. 変数名mydの最初の部分を表示せよ。\n",
        "1. 変数名mydのうち，最初から10行目以降，20行の計11行　　　のデータを表示せよ。\n",
        "1. 近畿2府4県のデータは何件ずつ含まれるか求めよ。\n",
        "\n",
        "以上，Pythonコードを下のセルに書いてみよう。必要に応じてセルは追加せよ。"
      ]
    },
    {
      "cell_type": "code",
      "metadata": {
        "id": "qkaEyoew0kMX",
        "colab_type": "code",
        "colab": {}
      },
      "source": [
        ""
      ],
      "execution_count": 0,
      "outputs": []
    },
    {
      "cell_type": "markdown",
      "metadata": {
        "id": "PIzKNUET0kMY",
        "colab_type": "text"
      },
      "source": [
        "### まとめ\n",
        "Pandasの汎用性は驚異である。ここで紹介したものはほんの一部である。<br>\n",
        "将来必要なデータ解析スキルを助けるものとなるだろう。<br>\n",
        "ここまでできれば，ググることで自分の技にすることができる。"
      ]
    },
    {
      "cell_type": "markdown",
      "metadata": {
        "id": "fUkRhc_v0kMY",
        "colab_type": "text"
      },
      "source": [
        "# 数値計算\n",
        "PythonはNumPyという数値計算に特化したライブラリが存在する。<br>\n",
        "NumPyのすばらしさは実際に動かしながら体験してほしい。<br>\n",
        "## NumPyの基礎\n",
        "NumPyは，科学技術計算でもっともよく使われる基本的なライブラリである。多次元配列を処理することができるなど，機能的に優れているだけでなく，C言語で書かれたモジュールであり，処理が高速である。様々なライブラリの基礎になっている。<br>\n",
        "### numpyのインポート\n",
        "通例のようにNumpyを「as np」として，インポートする。\n",
        "```\n",
        "import numpy as np\n",
        "```\n",
        "とする。\n",
        "\n",
        "### 配列操作\n",
        "#### 配列\n",
        "まずは，-5から5までの配列を作成してみよう。NumPyにおいて，配列はarrayオブジェクトとして構成される。\n",
        "配列の作成は，\n",
        "```\n",
        "data = np.array([4,2,-5,-1,-2,-4,0,5,1,3,-3])\n",
        "data\n",
        "```\n",
        "\n",
        "#### データ型\n",
        "int8，int16，uint8，uint16，float16，float32などのデータ型がある。ここではあまり使用しないので，詳細は割愛する。\n",
        "\n",
        "#### 次元数と要素数\n",
        "配列の次元数を取得するには，\n",
        "```\n",
        "data.ndim\n",
        "```\n",
        "を使用し，要素数を取得するには，\n",
        "```\n",
        "data.size\n",
        "```\n",
        "を用いる。その他に，意味合いは異なるもののshapeを使い，\n",
        "```\n",
        "data.shape\n",
        "```\n",
        "と，データのサイズを取得することができる。\n",
        "\n",
        "#### すべての要素に対する計算\n",
        "配列のサイズが異なる計算では，自動的に要素の大きさを揃えて計算してくれる。Pythonのリストでは，一つずつ要素を取り出す処理が必要であるが，NumPyの配列ではその処理が不要である。<br>\n",
        "`data`に10を加算する場合，\n",
        "```\n",
        "data+10\n",
        "```\n",
        "とすれば，`data+np.array([10,10,10,10,10,10,10,10,10,10,10])`として計算してくれる。<br>\n",
        "\n",
        "この機能のおかげでプログラムはスマートになり，処理速度を速めている。\n",
        "\n",
        "\n",
        "\n",
        "\n",
        "\n",
        "## データの読み込みとNumPy配列\n",
        "データの読み込みはPandasのread_csvで行い，数値計算はNumPyを用いることがポピュラーな方法である。この流れに従って解説していきたい。\n",
        "1. データの読み込み\n",
        "1. 空データはないか？nan(not a number)はないか？\n",
        "1. DataFrameからndarrayへの変更\n",
        "1. 読み込んだデータの確認(文字型になっていないか？)\n",
        "1. フレームの計算\n",
        "\n",
        "ここ(ag_data.csv)に加速度・角速度センサーで計測したデータがある。<br>\n",
        "加速度・角速度は右手座標系に従っている。数値の単位は，0.1mG, 0.01deg/secである。\n",
        "\n",
        "\n",
        "## NumPy配列化\n",
        "ライブラリのインポートをしておく。ここでは，PandasとNumPyを使う。<br>\n",
        "ライブラリは用いるものをまとめて最初にインポートしておくとよい。<br>\n",
        "Pythonでは，`p`an`d`asをpd，`n`um`p`yをnpとして，インポートする。この書き方が正しいのかわからないが，多くの方々がこの書き方でインポートしているのでそれに倣う。\n",
        "```\n",
        "import pandas as pd\n",
        "import numpy  as np\n",
        "```\n",
        "\n",
        "データの読み込みは，Pandasのread_csvを用いる。<br>\n",
        "読み込んだあとは，`head`を用いてデータが読み込まれているか確認する。\n",
        "```\n",
        "dat = pd.read_csv(\"ag_data.csv\")\n",
        "#dat = pd.read_csv(\"/content/drive/My Drive/2020_joho_siryo/ag_data.csv\")\n",
        "dat.head()\n",
        "```\n",
        "一行目もデータであることが判明する。読み込むときに列名を与えて，一行目もデータとして扱えるようにする。列名は，\n",
        "```\n",
        "abc = [\"type\",\"time\",\"accx\",\"accy\",\"accz\",\"angx\",\"angy\",\"angz\"]\n",
        "```\n",
        "としておく。<br>\n",
        "再度pd.read_csvを使い，列名を与えるコードを引数に追加して，\n",
        "\n",
        "```\n",
        "abc = [\"type\",\"time\",\"accx\",\"accy\",\"accz\",\"angx\",\"angy\",\"angz\"]\n",
        "dat = pd.read_csv(\"ag_data.csv\",names=abc)\n",
        "```\n",
        "と書くことで，一行目は列名にならず，データとしてdatに格納される。<br>\n",
        "一応，not a number(データなし)の箇所がないことを確認する。<br>\n",
        "```\n",
        "dat.isnull().any()\n",
        "```\n",
        "isnullで非数かどうかを調べ，それが一つでもあれば，Trueで返すanyを使う。<br>\n",
        "もしTrueなら，どこかに空があることを示す。<br>\n",
        "\n",
        "最後に，\n",
        "```\n",
        "df = dat.iloc[:,1:].values\n",
        "```\n",
        "として，DataFrame型からNumPyの配列に数値データを変更しておく。typeの列は不要である。<br>\n",
        "\n",
        "<font size=4 color=\"red\">多くのデータは，read_csvで読み込み，NumPy配列化される。このようにしておくことで，その後の計算や処理がスムーズに行われやすくなる。</font>この過程は是非ともできるようになっておこう。<br>\n",
        "下にセルを追加してこれまでのコードを書いて実行してみよう。<br>\n",
        "<font color=DarkRed>$\\downdownarrows$+コード</font>"
      ]
    },
    {
      "cell_type": "markdown",
      "metadata": {
        "id": "4vMFrPzp0kMZ",
        "colab_type": "text"
      },
      "source": [
        "<font color=Blue size=5>問題7</font>\n",
        "1. 上で読み込んだデータはセンサーを机の上に静止させて計測している。どの軸が鉛直方向を向いているか？\n",
        "1. その理由も述べよ。\n",
        "\n",
        "<font color=DarkRed>$\\downdownarrows$+テキスト</font>\n"
      ]
    },
    {
      "cell_type": "markdown",
      "metadata": {
        "id": "LsTricvL0kMa",
        "colab_type": "text"
      },
      "source": [
        "# Matplotlibによる作図\n",
        "\n",
        "得られたデータがどのようなパターンを示すのか，可視化(作図)すれば一目瞭然である。作図に特化したライブラリはMatplotlibであり，様々な図を作成することができる。<br>\n",
        "ここでは基本的なplot関数と，histgram関数を用いる。\n",
        "\n",
        "## plot関数\n",
        "作図で最も基本的な作図をしてくれる。データを引数として渡すだけで作図をしてくれる。早速さっき取り込んだデータを作図してみよう。<br>\n",
        "はじめに，\n",
        "```\n",
        "import matplotlib.pyplot as plt\n",
        "```\n",
        "として，ライブラリをインポートする。書き方は，通例に倣いこのように書くことを覚えよう。これで，Pythonでデータ解析するときに用いる3つの主要なライブラリ(`Pandas，NumPy，Matplotlib`)が出揃った。<br>\n",
        "リストのインデックス取得のときのように指定することで，NumPy配列の特定のデータを取得することができる。<br>\n",
        "2次元配列の場合，`[縦へ,横へ]`というように指定できる。一列目すべてを取得するには，\n",
        "```\n",
        "df[:,0]\n",
        "```\n",
        "と書き，一行目を取得する場合は，\n",
        "```\n",
        "df[0:,:]\n",
        "```\n",
        "と書くことができる。<br>\n",
        "また，2~4行目を取得するには，\n",
        "```\n",
        "df[:,1:4]\n",
        "```\n",
        "と書く。<br>\n",
        "\n",
        "では，dfのデータは，左からtime(msec)，x,y,z軸の加速度，および，x,y,zの角速度の値がそれぞれ記録されている。そのうち，加速度データの様子を示してみよう。<br>\n",
        "x軸の加速度は，\n",
        "```\n",
        "fig = plt.figure()\n",
        "plt.plot(df[:,1])\n",
        "```\n",
        "y軸の加速度は，\n",
        "```\n",
        "fig = plt.figure()\n",
        "plt.plot(df[:,2])\n",
        "```\n",
        "z軸の加速度は，\n",
        "```\n",
        "fig = plt.figure()\n",
        "plt.plot(df[:,3])\n",
        "```\n",
        "とかける。<br>\n",
        "\n",
        "最初に図を書くスペースを確保し，そのスペースにplot(データ)を使って作図する。()内に作図したいデータを挿入する。<br>\n",
        "一つずつ上のコードをこの下にセルを追加して書いてみよう。<br>\n",
        "<font color=DarkRed>$\\downdownarrows$+コード</font>"
      ]
    },
    {
      "cell_type": "markdown",
      "metadata": {
        "id": "hx_Wecau0kMe",
        "colab_type": "text"
      },
      "source": [
        "さて，作図できただろうか？<br>\n",
        "これら図を見るとどうなっているだろうか？よく考えてみよう。"
      ]
    },
    {
      "cell_type": "markdown",
      "metadata": {
        "id": "VydUjUYk0kMe",
        "colab_type": "text"
      },
      "source": [
        "<font size=5 color=blue>問題8 </font><br>\n",
        "x，y，zの角速度の単純図(プロット図)を作図してみよう。<br>\n",
        "<font color=DarkRed>$\\downdownarrows$+コード</font>"
      ]
    },
    {
      "cell_type": "markdown",
      "metadata": {
        "id": "mqYPrt5E0kMi",
        "colab_type": "text"
      },
      "source": [
        "# 機器による計測\n",
        "近年では，センサー機器の性能が進み，様々なセンサーが我々の生活を支えている。スマフォ，家電製品，自動車など，目的を達成するために機器が自動運転できるようになってきている。我々人間はスイッチを押すだけで事足りる(スイッチマン)。<br>\n",
        "リハビリの場面でも，センサー機器を用いた計測システムは導入されている。その多くは，前述のようにスイッチをおくだけで計測され，非常に便利なものとなっている。<br>\n",
        "ところが，計測の原理，解析の方法に着目した学習はハード面の問題があったが，最近はその問題がなくなってきた。生の計測データを直接みながら考え，そのデータが示す意味を解釈できるようになってきている。それを実現しているのが，フリーのプログラミング言語とその環境である。<br>\n",
        "\n",
        "データには，<font color=red>アナログとデジタル</font>がある。アナログは連続的に表わすことができ，どの時点でも表現することができる。デジタルは，途切れ途切れに表現され，ある時点を具体的な値で表現する。例えば，音楽のレコードはアナログ，CDはデジタルのデータである。<br>\n",
        "\n",
        "センサーなどの電子機器はある時点ごとにデータを取得する。つまり，データとデータの間には間隔が存在する，デジタル機器である。この世のほとんどはデジタル機器になってしまっている。ただ，デジタル機器で計測すると，A時点とB時点に特定を値を取得できるが，A時点とB時点の間がどうなっているか，知ることができない。したがって，単位時間にどれだけのデータを取得できるか，重要となる。<br>\n",
        "例えば，あなたがある人の位置情報を取得するとする。その人の移動を追跡するのに，1時間に2個のデータと，60個のデータではどちらが正確にその人の移動を追跡できるだろうか。前者では10分おきにその人の位置を取得しているものの，30分間は追跡ができていないので，どこに行ったのかはわからない(30分あれば徒歩で2kmの移動可)。後者は，1分間に1回の位置情報を取得しているのでその人の行動は予測しやすくなる。<br>\n",
        "このように，単位時間当たりのデータの数が多ければ多いほど正確に変化をとらえることができる。単位時間当たりのデータ数をサンプリング数，あるいはデータとデータの間隔をサンプリング間隔として，計測する際は知っておかなければならない。映像であれば，fps(frame per second)という単位がつく。<br>"
      ]
    },
    {
      "cell_type": "markdown",
      "metadata": {
        "id": "3dKa5uV_0kMj",
        "colab_type": "text"
      },
      "source": [
        "## サンプリング間隔の取得\n",
        "DataFrame型のdatに戻って，timeの列をみてみる。<br>\n",
        "この列は，<font color=red>Unixtime(UTC)</font>の形式で書かれる。UTCの1970年1月1日0時0分0秒からの経過秒数のことである。日本時間はUTC時間+9時間なので，Unixtimeが0のときは，日本時間は，1970年1月1日9時0分0秒となる。<br>\n",
        "ここでは，時刻をmsec単位にして取得される。\n",
        "離散時刻を$k(k=0,1,2,3,\\cdots)$ とし，計測の開始時刻を$p_k$ ，終了時刻を$q_k$ とする。その時間を$t=q_k-p_k$とする。$t$の間に取得されたデータ数が$n$あるとする。サンプリング間隔をsとすると，<br>\n",
        "$\\displaystyle{s=\\frac{t}{n}}$<br>\n",
        "で求めることができる。<br>\n",
        "ここで，前に読み込んだデータdatのサンプリング間隔を求めてみよう。<br>\n",
        "以下の手順で読み込み，timeの列だけを変数名agtimeに格納しよう。<br>\n",
        "必要なライブラリをインポートする。\n",
        "```\n",
        "import pandas as pd\n",
        "import numpy as np\n",
        "import matplotlib.pyplot as plt\n",
        "```\n",
        "pandasのread_csvメソッドを使ってag_data.csvに保存されているデータを読み込む。headerには，`[\"type\",\"time\",\"accx\",\"accy\",\"accz\",\"angx\",\"angy\",\"angz\"]`と指定して(自分が分かりやすいものにしてもよい)，\n",
        "```\n",
        "n = [\"type\",\"time\",\"accx\",\"accy\",\"accz\",\"angx\",\"angy\",\"angz\"]\n",
        "dat = pd.read_csv(\"ag_data.csv\",names=n)\n",
        "```\n",
        "とする。そして，データの中身を\n",
        "```\n",
        "dat.head()\n",
        "```\n",
        "で確認する。\n",
        "```\n",
        "type\ttime\taccx\taccy\taccz\tangx\tangy\tangz\n",
        "0\tags\t31729186\t75\t130\t10119\t41\t30\t-47\n",
        "1\tags\t31729187\t89\t108\t10092\t41\t30\t-47\n",
        "2\tags\t31729188\t60\t96\t10094\t35\t36\t-59\n",
        "3\tags\t31729189\t58\t128\t10099\t35\t48\t-65\n",
        "4\tags\t31729190\t84\t150\t10089\t35\t48\t-65\n",
        "```\n",
        "よう表示できたらOK!<br>\n",
        "次に，timeの列部分のみを抽出しよう。<br>\n",
        "\n",
        "部分抽出の方法はいろいろある。ここでは，\n",
        "```\n",
        "tt = dat.time.values\n",
        "```\n",
        "とする(不明なことは調べましょう)。<br>\n"
      ]
    },
    {
      "cell_type": "markdown",
      "metadata": {
        "id": "KLohFAVC0kMl",
        "colab_type": "text"
      },
      "source": [
        "<font size=5 color=blue>復習</font><br>\n",
        "- ttの最初の数値を変数名startに格納せよ。\n",
        "- ttの最後の数値を変数名endに格納せよ。\n",
        "- startとendの差を変数名diffに格納せよ。\n",
        "- データ数をlenを使って取得し，変数名ssに格納せよ。"
      ]
    },
    {
      "cell_type": "markdown",
      "metadata": {
        "id": "jRvPJSbA0kMm",
        "colab_type": "text"
      },
      "source": [
        "次にサンプリング間隔を計算してみよう。<br>\n",
        "```\n",
        "diff/ss\n",
        "```\n",
        "として，サンプリング間隔(単位:mm)が取得できる。<>\n",
        "セルを追加して書いてみよう。<br>\n",
        "<font color=DarkRed>$\\downdownarrows$+コード</font>"
      ]
    },
    {
      "cell_type": "markdown",
      "metadata": {
        "id": "mNrZ-r1C0kMm",
        "colab_type": "text"
      },
      "source": [
        "<font size=5 color=blue>問題9</font><br>\n",
        "ファイル名`data_3.csv`にある計測データは，`ag_data.csv`と同じ状態で計測した。<br>\n",
        "このファイルのサンプリング間隔を求めて，[ココ](https://forms.gle/UkkNRjBBpSj2BUJ99)をクリックして解答せよ。"
      ]
    },
    {
      "cell_type": "markdown",
      "metadata": {
        "id": "zD9ktcTF0kMm",
        "colab_type": "text"
      },
      "source": [
        "## 時刻の取得\n",
        "data_3.csvの計測された時刻を取得してみよう。<br>\n",
        "data_3.csvの最初の時刻は，`31729190`となる。この単位は`ミリ秒`で表している。\n",
        "- この時刻を`秒`単位になおす。\n",
        "- この時刻の，`分`，`秒`，，`ミリ秒`を取得する。\n",
        "- この時刻の`hour`を取得する(何`時`何`分`何`秒`何`ミリ秒`で表す)。\n",
        "\n",
        "以上のことを下にセルを追加して書いてみよう。<br>\n",
        "<font color=DarkRed>$\\downdownarrows$+コード</font>"
      ]
    },
    {
      "cell_type": "markdown",
      "metadata": {
        "id": "qo2sAOaX0kMq",
        "colab_type": "text"
      },
      "source": [
        "これらは，`31729190`に対して行った。ではその他の値に対して，同じことを書くのは，\n",
        "- 非常に面倒\n",
        "- 効率が悪い\n",
        "- 間違いが生じる\n",
        "\n",
        "となる。<br>\n",
        "このような場合，<font color=red>関数</font>を作ると解決できる。<br>"
      ]
    },
    {
      "cell_type": "markdown",
      "metadata": {
        "id": "xx3jUQ6t0kMq",
        "colab_type": "text"
      },
      "source": [
        "# 関数\n",
        "$f(x)=ax^2+bx+c$は「$x$によって，その結果が変わる」ことと解釈することができる。このこｔにPythonの「関数」も似ており，「何らかの値を入れるとそれに見合った値が結果として得られる」という構造を示すものを指す。<br>\n",
        "\n",
        "関数に渡す値（関数への入力値）のことを「引数(ひきすう)」と呼ぶ。「関数に引数を渡して，関数のコードを実行し，その処理結果を得る」ことことができる。関数を呼び出したときに得られる結果のことを「`戻り値`(あるいは`返り値`)」という。<br>\n",
        "関数は，<font color=red>def</font>から始まり，任意の関数名と括弧`()`，必要に応じて引数を括弧の中に入れて<font color=red>:</font>で終えて，改行する。それに続けて，処理過程を書いて最後に`return`で戻り値を指定する。\n",
        "基本形は，\n",
        "```\n",
        "def zoo(引数1,引数2):\n",
        "    processing 1\n",
        "    processing 2\n",
        "    processing 3\n",
        "    return 0\n",
        "```\n",
        "となり，processingの前は，半角4つのスペースをおき，関数のブロックを形成する。戻り値(return)は処理過程の途中で書かず，最後に書く。returnと値との間には半角のスペースをあける。"
      ]
    },
    {
      "cell_type": "markdown",
      "metadata": {
        "id": "IyfQWbY00kMr",
        "colab_type": "text"
      },
      "source": [
        "$f(x)=ax^2+bx+c$のうち，xは引数に該当し，$f(x)$は戻り値に該当する。$a=2,b=5,c=10$とすると，\n",
        "```\n",
        "def kansu(x):\n",
        "    r = 2*x**2+5*x+10\n",
        "    return r\n",
        "```\n",
        "と書くことができる。"
      ]
    },
    {
      "cell_type": "markdown",
      "metadata": {
        "id": "xY-avpCe0kMr",
        "colab_type": "text"
      },
      "source": [
        "<font color=blue size=5>問題10</font> <br>\n",
        "1. 関数を勉強してきた。折角なので，ミリ秒で表される時刻を〇時〇分〇秒〇と，〇の部分を返り値としてはきだす関数を作ってみよう。そして，最後に実行結果を示して，動作を確認する。\n",
        " - `31729190`をJST形式表記へ\n",
        " - 使う計算記号は，%，//，= と，変数名\n",
        "1. `data_3.csv`のタイムを一気に変更してみよう。"
      ]
    },
    {
      "cell_type": "markdown",
      "metadata": {
        "id": "xJP8dGNc0kMu",
        "colab_type": "text"
      },
      "source": [
        "# 条件文(if～elif～else文)\n",
        "\n",
        "前の単元で課題となっている，複数あるファイル名のうち，**`14`という文字が含まれているファイルだけがほしい・・・**そんな課題だった。<br>\n",
        "この問題はまず，もし，**○○が□□なら△△をし，そうでなければ▽▽する**，という場合分けする構文を勉強する必要がある。<br>\n",
        "それをプログラムで書くと，\n",
        "```\n",
        "if ○○==□□:\n",
        "    処理1\n",
        "else:\n",
        "    処理2\n",
        "```\n",
        "となる。\n",
        "\n",
        "```\n",
        "if 条件式:\n",
        "    条件式がTrueのときの処理\n",
        "else:\n",
        "    条件式がFalseのときの処理\n",
        "```\n",
        "と，表現を変える。これをif～else文という。\n",
        "\n",
        "簡単な例を書てみよう。\n",
        "```\n",
        "a = 10\n",
        "b = 5\n",
        "if a<b:\n",
        "    print(f\"{a}は{a}より小さいです\")\n",
        "else:\n",
        "    print(f\"{a}は{a}より大きいもしくは等しいです\")\n",
        "```\n",
        "\n",
        "次に示す内容に合わせて，プログラムを書いてみよう。<br>\n",
        "\n",
        "- 収縮期血圧の分類があります。<br>\n",
        "- ある人の収縮期血圧の値(110～180で適当な数値)を，bpという変数名に代入します。<br>\n",
        "- bpが140以上の場合，血圧が高いです，と表示してください。<br>\n",
        "- bpが140未満の場合，正常血圧です，と表示してください。\n",
        "\n",
        "\n",
        "同じテーマで，プログラムに挑戦してみよう。\n",
        "\n",
        "- ある人の収縮期血圧の値(110～180で適当な数値)を，bpという変数名に代入します。\n",
        "- bpが120より小さい場合，至適血圧です，と表示する。\n",
        "- bpが120以上かつ130未満の場合，正常血圧です，と表示する。\n",
        "- bpが130以上かつ140未満の場合，正常高血圧です，と表示する。\n",
        "- bpが140以上かつ160未満の場合，Ⅰ度高血圧です，と表示する。\n",
        "- bpが160以上かつ180未満の場合，Ⅱ度高血圧です，と表示する。\n",
        "- bpが180以上の場合，Ⅲ度高血圧です，と表示する。\n",
        "\n",
        "このプログラムを作る際のフローチャートとイメージ図をみたいときは，[<font size=5>ココ</font>](https://drive.google.com/open?id=1riNdjyGTKGGxX-2FfwyyfEPVYhC9iBw5)と[<font size=5>ココ</font>](https://drive.google.com/open?id=1bNps7mPhfSfpj8wEiEo4cJ52dr5XCHBX)をクリックする。<br>\n",
        "\n",
        "\n",
        "### コンピュータのプログラムの読み取り\n",
        "そもそも，コンピュータはプログラムをどのように読み取るのか。<br>\n",
        "入力されたコードを一行ずつ順番に実行していく。ところが，一行ずつ順番に読んでいかずに，同じ処理を繰り返したい，プログラムを終えることなく，何回も繰り返してほしい，逆にスキップしてほしい，など，様々ケースをコンピュータに指示したい。このようなときに用いるのがフロー制御文と呼ばれるものである。フローチャートで表現することができるので，このように呼ばれているらしい。<br>\n",
        "フロー制御は，フロー制御文とコードブロックに分けることができ，**Pythonではコードブロックをインデントによって表し**，だれが書いても同じコードになるように工夫されている。これによって，可読性がよくなったと言われている。<br>\n",
        "次に，インデントによって書かれるプログラムについてまとめる。\n",
        "\n",
        "### インデントによるブロックの定義\n",
        "前に勉強した`for文`，`while文`や今勉強している`if文`，また，後で勉強する`def文`や後期に勉強する`class文`では，条件式や引数を設定した後，どこまで処理するのか，あるいは，何を処理するのか，何を示しているのか，コンピュータに指示をしなければならない。その指示の仕方は，他のプログラミング言語では，`{ }`を使うが，`Python`では，インデント(半角スペース4つ分)を処理範囲のブロックとして定義する。このことは，Pythonコードを分かりやすくするためのアイデアで，Pythonを理解する上で非常に重要なので，その意味を理解してほしい。<br>\n",
        "インデントの使い方について，イメージ図を[<font size=5>ココ</font>](https://drive.google.com/open?id=1DujtyXIq8NoTl_lwA7c-7CJKIRL62OXh)に示す。<br>\n",
        "\n",
        "\n",
        "#### `input`を使ったデータ入力\n",
        "\n",
        "性別や年齢と血圧を取得する必要がある。それらのデータを入力して，プログラムに反映させるには，`input`を使うのが簡単である。例のコードは，\n",
        "```\n",
        "age = input(\"あなたの年齢は？\")\n",
        "print(age)\n",
        "```\n",
        "すると，入力した値がstr型で表示される。`input`は，入力待ちの状態となり，入力された文字をstr型で返す関数である。<br>\n",
        "年齢は，数値で取得したい。どうすればよいか，考えてみよう。<br>\n",
        "\n",
        "```\n",
        "age = int(input(\"あなたの年齢は？\"))\n",
        "print(age)\n",
        "```\n",
        "とする。<br>\n",
        "<br>\n",
        "プログラムの問題でエラーを回避するために，\n",
        "```\n",
        "age = int(input(\"あなたの年齢は？\"))\n",
        "age = int(float(age))\n",
        "print(age)\n",
        "```\n",
        "としておく。詳細は省く。\n",
        "\n",
        "### 年齢と性別による血圧判定\n",
        "血圧は，年齢とともに高くなる。また，男性のほうが少し高めである。<br>そのような特性を反映させた血圧自動判定システムを組んでみよう。\n",
        "\n",
        "```\n",
        "femalebp = {\"20\":(118,75),\"30\":(125,79),\"40\":(131,84),\"50\":(138,85),\"60\":(143,84),\"70\":(147,80)}\n",
        "malebp ={\"20\":(113,76),\"30\":(115,71),\"40\":(125,77),\"50\":(133,81),\"60\":(141,81),\"70\":(146,78)}\n",
        "BB = {\"f\":femalebp,\"m\":malebp}\n",
        "sex = input(\"性別は？\\n男性→f\\n女性→m\\n\")\n",
        "age = input(\"年齢は？\\n\")\n",
        "age = int(float(age))\n",
        "sbp = input(\"上の血圧は？\\n\")\n",
        "sbp = int(float(sbp))\n",
        "dbp = input(\"下の血圧は？\\n\")\n",
        "dbp = int(float(dbp))\n",
        "b1,b0 = BB[sex][str(10*(age//10))]       \n",
        "\n",
        "if sbp>b1 and dbp>b0:\n",
        "    print(\"血圧は高めです。\")\n",
        "\n",
        "elif (sbp>b1 and dbp<=b0) or (sbp<=b1 and dbp>b0):\n",
        "    print(\"注意しましょう。\")\n",
        "\n",
        "else:\n",
        "    print(\"正常です。\")\n",
        "```\n",
        "\n",
        "\n",
        "重要なのは，<font color=red size=5>ブロックを間違えないこと</font>である。<br>\n"
      ]
    },
    {
      "cell_type": "code",
      "metadata": {
        "id": "ifVw6GCZf5O7",
        "colab_type": "code",
        "outputId": "7d667262-ab6b-4020-f106-05579db40ee3",
        "colab": {
          "base_uri": "https://localhost:8080/",
          "height": 139
        }
      },
      "source": [
        "from google.colab import drive\n",
        "drive.mount('/gdrive')\n",
        "%cd /gdrive"
      ],
      "execution_count": 0,
      "outputs": [
        {
          "output_type": "stream",
          "text": [
            "Go to this URL in a browser: https://accounts.google.com/o/oauth2/auth?client_id=947318989803-6bn6qk8qdgf4n4g3pfee6491hc0brc4i.apps.googleusercontent.com&redirect_uri=urn%3aietf%3awg%3aoauth%3a2.0%3aoob&response_type=code&scope=email%20https%3a%2f%2fwww.googleapis.com%2fauth%2fdocs.test%20https%3a%2f%2fwww.googleapis.com%2fauth%2fdrive%20https%3a%2f%2fwww.googleapis.com%2fauth%2fdrive.photos.readonly%20https%3a%2f%2fwww.googleapis.com%2fauth%2fpeopleapi.readonly\n",
            "\n",
            "Enter your authorization code:\n",
            "··········\n",
            "Mounted at /gdrive\n",
            "/gdrive\n"
          ],
          "name": "stdout"
        }
      ]
    },
    {
      "cell_type": "code",
      "metadata": {
        "id": "q68h8GQMf6Zb",
        "colab_type": "code",
        "colab": {}
      },
      "source": [
        ""
      ],
      "execution_count": 0,
      "outputs": []
    },
    {
      "cell_type": "code",
      "metadata": {
        "id": "j61Ss7zXhtHR",
        "colab_type": "code",
        "colab": {}
      },
      "source": [
        "from google.colab.patches import cv2_imshow"
      ],
      "execution_count": 0,
      "outputs": []
    },
    {
      "cell_type": "code",
      "metadata": {
        "id": "wpl-2yljhtGm",
        "colab_type": "code",
        "outputId": "3bee95bf-c72b-465f-cb5f-c819bbcb04ba",
        "colab": {
          "base_uri": "https://localhost:8080/",
          "height": 406
        }
      },
      "source": [
        "!curl -o logo.png https://colab.research.google.com/img/colab_favicon_256px.png\n",
        "import cv2\n",
        "img = cv2.imread('logo.png', cv2.IMREAD_UNCHANGED)\n",
        "cv2_imshow(img)"
      ],
      "execution_count": 0,
      "outputs": [
        {
          "output_type": "stream",
          "text": [
            "  % Total    % Received % Xferd  Average Speed   Time    Time     Time  Current\n",
            "                                 Dload  Upload   Total   Spent    Left  Speed\n",
            "\r  0     0    0     0    0     0      0      0 --:--:-- --:--:-- --:--:--     0Warning: Failed to create the file logo.png: Operation not supported\n",
            "\r 25  5500   25  1377    0     0  21515      0 --:--:-- --:--:-- --:--:-- 21515\n",
            "curl: (23) Failed writing body (0 != 1377)\n"
          ],
          "name": "stdout"
        },
        {
          "output_type": "error",
          "ename": "AttributeError",
          "evalue": "ignored",
          "traceback": [
            "\u001b[0;31m---------------------------------------------------------------------------\u001b[0m",
            "\u001b[0;31mAttributeError\u001b[0m                            Traceback (most recent call last)",
            "\u001b[0;32m<ipython-input-6-d52d15654b89>\u001b[0m in \u001b[0;36m<module>\u001b[0;34m()\u001b[0m\n\u001b[1;32m      2\u001b[0m \u001b[0;32mimport\u001b[0m \u001b[0mcv2\u001b[0m\u001b[0;34m\u001b[0m\u001b[0;34m\u001b[0m\u001b[0m\n\u001b[1;32m      3\u001b[0m \u001b[0mimg\u001b[0m \u001b[0;34m=\u001b[0m \u001b[0mcv2\u001b[0m\u001b[0;34m.\u001b[0m\u001b[0mimread\u001b[0m\u001b[0;34m(\u001b[0m\u001b[0;34m'logo.png'\u001b[0m\u001b[0;34m,\u001b[0m \u001b[0mcv2\u001b[0m\u001b[0;34m.\u001b[0m\u001b[0mIMREAD_UNCHANGED\u001b[0m\u001b[0;34m)\u001b[0m\u001b[0;34m\u001b[0m\u001b[0;34m\u001b[0m\u001b[0m\n\u001b[0;32m----> 4\u001b[0;31m \u001b[0mcv2_imshow\u001b[0m\u001b[0;34m(\u001b[0m\u001b[0mimg\u001b[0m\u001b[0;34m)\u001b[0m\u001b[0;34m\u001b[0m\u001b[0;34m\u001b[0m\u001b[0m\n\u001b[0m",
            "\u001b[0;32m/usr/local/lib/python3.6/dist-packages/google/colab/patches/__init__.py\u001b[0m in \u001b[0;36mcv2_imshow\u001b[0;34m(a)\u001b[0m\n\u001b[1;32m     20\u001b[0m       \u001b[0mimage\u001b[0m\u001b[0;34m.\u001b[0m\u001b[0;34m\u001b[0m\u001b[0;34m\u001b[0m\u001b[0m\n\u001b[1;32m     21\u001b[0m   \"\"\"\n\u001b[0;32m---> 22\u001b[0;31m   \u001b[0ma\u001b[0m \u001b[0;34m=\u001b[0m \u001b[0ma\u001b[0m\u001b[0;34m.\u001b[0m\u001b[0mclip\u001b[0m\u001b[0;34m(\u001b[0m\u001b[0;36m0\u001b[0m\u001b[0;34m,\u001b[0m \u001b[0;36m255\u001b[0m\u001b[0;34m)\u001b[0m\u001b[0;34m.\u001b[0m\u001b[0mastype\u001b[0m\u001b[0;34m(\u001b[0m\u001b[0;34m'uint8'\u001b[0m\u001b[0;34m)\u001b[0m\u001b[0;34m\u001b[0m\u001b[0;34m\u001b[0m\u001b[0m\n\u001b[0m\u001b[1;32m     23\u001b[0m   \u001b[0;31m# cv2 stores colors as BGR; convert to RGB\u001b[0m\u001b[0;34m\u001b[0m\u001b[0;34m\u001b[0m\u001b[0;34m\u001b[0m\u001b[0m\n\u001b[1;32m     24\u001b[0m   \u001b[0;32mif\u001b[0m \u001b[0ma\u001b[0m\u001b[0;34m.\u001b[0m\u001b[0mndim\u001b[0m \u001b[0;34m==\u001b[0m \u001b[0;36m3\u001b[0m\u001b[0;34m:\u001b[0m\u001b[0;34m\u001b[0m\u001b[0;34m\u001b[0m\u001b[0m\n",
            "\u001b[0;31mAttributeError\u001b[0m: 'NoneType' object has no attribute 'clip'"
          ]
        }
      ]
    },
    {
      "cell_type": "code",
      "metadata": {
        "id": "eAtERoDNhyOs",
        "colab_type": "code",
        "colab": {}
      },
      "source": [
        ""
      ],
      "execution_count": 0,
      "outputs": []
    }
  ]
}