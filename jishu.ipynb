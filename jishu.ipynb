{
 "cells": [
  {
   "cell_type": "markdown",
   "metadata": {},
   "source": [
    "# セルとセルの実行\n",
    "\n",
    "## セルとは\n",
    "コンピュータに我々の指示を与えるためにプログラムコードを書くスペースのことである。これは，Jupyter NotebookやJupyter Labの環境によるものである。<br>\n",
    "その他，授業で導入予定のGoogle Colaboratoryにも`セル`が存在し，ここにコードを書く。\n",
    "\n",
    "## セルの実行\n",
    "セルに書いたプログラム(コード)をコンピュータに指示するとき，`shift`キー+`Enter`キー(Macは`Return`キー)を押す。すると，セルの中身をコンピュータに指示することになる。この過程を`実行`という。<br>\n",
    "Colaboratoryの場合は，セルの左端にある，`▶︎`のマークをクリックしても実行される。`shift`キー+`Enter`キーのどちらを使用してもよい。<br>\n",
    "次のことを確認しよう。\n",
    "1. セルに適当な数値(半角)を入れて実行する。そのときの動作を確認する。\n",
    "1. セルの中にある`#`(ナンバーという)より右はコメントアウトといって，主に，プログラムの作用や目的などをコメントとして残すために用いる。したがって，左から順番にコンピュータは読み込む。"
   ]
  },
  {
   "cell_type": "code",
   "execution_count": null,
   "metadata": {},
   "outputs": [],
   "source": [
    "## まずは適当に使ってみる。壊れることはない。\n",
    "## この枠をセルという。この下の行に適当な数値を入れる。そして，実行する。(Enterで改行するとセル内で改行される。その場合は上から順番にコードが解読される)\n"
   ]
  },
  {
   "cell_type": "markdown",
   "metadata": {},
   "source": [
    "# 入力する文字\n",
    "## 入力のときの約束ごとー半角と全角ー\n",
    "入力文字は半角と全角がある。セルに入力する際，アルファベット，記号，数値は特別なことがない限り，Pythonに慣れるまでは，半角英数字で入力する。したがって，日本語(全角)は使用しない。使う必要のないところで全角入力をした場合は，減点対象とする。<br>\n",
    "日本語(全角)を用いるのは，データの部分だけである。もちろん，ファイル名は半角の英数字と記号(一部)となるはずである。"
   ]
  },
  {
   "cell_type": "markdown",
   "metadata": {},
   "source": [
    "## Pythonで扱える文字や数値\n",
    "Pythonでは，3つのデータ型を扱う。\n",
    "\n",
    "1. <font color=red>int型</font>：1, 2, 0, -1, -2000, $\\cdots$\n",
    "1. <font color=red>float型</font>：2.3, 3.1415, -0.5, 0.0, -10.4 $\\cdots$\n",
    "1. <font color=red>文字列型</font>：'abc', 'apple', \"orange\", \"support\", 'たからづか', '宝塚', 'タロウ', $\\cdots$\n",
    "1. <font color=red>真偽値</font>：True, False \n",
    "\n",
    "以下に一つずつ確認してみよう。"
   ]
  },
  {
   "cell_type": "code",
   "execution_count": null,
   "metadata": {},
   "outputs": [],
   "source": [
    "## int型になるように，自分の年齢を入力して実行する\n"
   ]
  },
  {
   "cell_type": "code",
   "execution_count": null,
   "metadata": {},
   "outputs": [],
   "source": [
    "## float型になるように，自分の身長を入力して実行する\n"
   ]
  },
  {
   "cell_type": "code",
   "execution_count": null,
   "metadata": {},
   "outputs": [],
   "source": [
    "## 自分の氏名を文字列型にして実行する\n"
   ]
  },
  {
   "cell_type": "code",
   "execution_count": null,
   "metadata": {},
   "outputs": [],
   "source": [
    "## 真を入力する。\n"
   ]
  },
  {
   "cell_type": "code",
   "execution_count": null,
   "metadata": {},
   "outputs": [],
   "source": [
    "## 偽を入力する。\n"
   ]
  },
  {
   "cell_type": "markdown",
   "metadata": {},
   "source": [
    "# データ型の確認\n",
    "セルがエラーすることなく実行されると左端に`[ ]`の間に数値が入力される。このPromptの数値を使って，該当するセルで実行したデータのタイプを調べてみよう。<br>\n",
    "`_`(アンダースコア)の右にPromptの数値を入力して実行するとそのセルの値が表示される。そのセルで実行したデータや値が，`_number`に記憶されていることになる。<br>\n",
    "上で実行した値を下のセルを使って表示してみよう。\n"
   ]
  },
  {
   "cell_type": "code",
   "execution_count": null,
   "metadata": {},
   "outputs": [],
   "source": [
    "## 1つ目"
   ]
  },
  {
   "cell_type": "code",
   "execution_count": null,
   "metadata": {},
   "outputs": [],
   "source": [
    "## 2つ目"
   ]
  },
  {
   "cell_type": "code",
   "execution_count": null,
   "metadata": {},
   "outputs": [],
   "source": [
    "## 3つ目"
   ]
  },
  {
   "cell_type": "code",
   "execution_count": null,
   "metadata": {},
   "outputs": [],
   "source": [
    "## 4つ目"
   ]
  },
  {
   "cell_type": "markdown",
   "metadata": {},
   "source": [
    "次に，上で書いたコードを`type(\"上で書いたコード\")`と書いて，そのコードを実行してみよう。<br>\n",
    "例：\n",
    "```\n",
    "type(_6)\n",
    "```"
   ]
  },
  {
   "cell_type": "code",
   "execution_count": null,
   "metadata": {},
   "outputs": [],
   "source": [
    "## 1つ目"
   ]
  },
  {
   "cell_type": "code",
   "execution_count": null,
   "metadata": {},
   "outputs": [],
   "source": [
    "## 2つ目"
   ]
  },
  {
   "cell_type": "code",
   "execution_count": null,
   "metadata": {},
   "outputs": [],
   "source": [
    "## 3つ目"
   ]
  },
  {
   "cell_type": "code",
   "execution_count": null,
   "metadata": {},
   "outputs": [],
   "source": [
    "## 4つ目"
   ]
  },
  {
   "cell_type": "markdown",
   "metadata": {},
   "source": [
    "このように，データの型が表示(出力)される。これは，<u>`( )`の中のデータを表示しなさい</u>，という指示を与えているコードであり，そのようにコンピュータが我々の指示を聞いてくれたことになる。<br>\n",
    "\n",
    "<font color=red size=10>**重要!!**</font><br>\n",
    "<font size=6>プログラムの基本$\\Longrightarrow$<br>\n",
    "**左**から順番に，<br>**上**から順番にコードが読み込まれる。</font><br>"
   ]
  },
  {
   "cell_type": "markdown",
   "metadata": {},
   "source": [
    "# 変数名"
   ]
  },
  {
   "cell_type": "markdown",
   "metadata": {},
   "source": [
    "データを変数名に代入して，その変数名を用いて計算(処理)することを覚えよう。<br>\n",
    "変数名を用いる場合，ルールを自分で決めることができる。ただし，以下の点に気を付ける必要がある。<br>\n",
    "1. 予約語は用いない。\n",
    "1. 半角英字から始める。\n",
    "1. 半角英数字と`_`(アンダースコア)を用いて後で読み返してもわかるように与える。\n",
    "1. `-`（ハイフン）`/`(スラッシュ)などは，数値計算で使うので使わない方がよい。\n",
    "1. その他\n",
    "\n",
    "予約語とは，Python変数名，クラス名，関数名として，使うことのできない，すでにPythonで用いられている字句のことを言い，以下のものがある。この字句は，変数名として定義しない。<br>\n",
    "--予約語--<br>\n",
    "`False`, `None`, `True`, `and`, `as`, `assert`, `async`, `await`, `break`,<br>\n",
    "`class`, `continue`, `def`, `del`, `elif`, `else`, `except`, `finally`, `for`,<br>\n",
    "`from`, `global`, `if`, `import`, `in`, `is`, `lambda`, `nonlocal`, `not`,<br>\n",
    "`or`, `pass`, `raise`, `return`, `try`, `while`, `with`, `yield`"
   ]
  },
  {
   "cell_type": "markdown",
   "metadata": {},
   "source": [
    "では，この例を下のセルに入力してみよう。\n",
    "```\n",
    "num1 = 3.14\n",
    "num2 = 10\n",
    "num3 = 5\n",
    "```"
   ]
  },
  {
   "cell_type": "code",
   "execution_count": null,
   "metadata": {},
   "outputs": [],
   "source": []
  },
  {
   "cell_type": "markdown",
   "metadata": {},
   "source": [
    "これは，num1に3.14を`代入せよ`，というコードになる。代入は`=`である。厳密には，同じという意味ではない。あくまで代入である。そのほかも同じことである。<br>\n",
    "次に，\n",
    "```\n",
    "moji_1 = 'tumh'\n",
    "moji_2 = 'takarazuka'\n",
    "```\n",
    "と書いて実行してみよう。"
   ]
  },
  {
   "cell_type": "code",
   "execution_count": null,
   "metadata": {},
   "outputs": [],
   "source": []
  },
  {
   "cell_type": "markdown",
   "metadata": {},
   "source": [
    "このnum1やnum2，moji_1を変数名と言い，これら変数名には，代入されたデータと同じ扱いができる。そして，一般に変数名を使って計算する。"
   ]
  },
  {
   "cell_type": "code",
   "execution_count": null,
   "metadata": {},
   "outputs": [],
   "source": [
    "## 足し算(+)\n",
    "# 3.14+10\n",
    "num1+num2"
   ]
  },
  {
   "cell_type": "code",
   "execution_count": null,
   "metadata": {},
   "outputs": [],
   "source": [
    "## 引き算(-)\n",
    "#　3.14-10\n",
    "num1-num2"
   ]
  },
  {
   "cell_type": "code",
   "execution_count": null,
   "metadata": {},
   "outputs": [],
   "source": [
    "## 掛け算(*)\n",
    "## 3.14*5\n",
    "num1*num3"
   ]
  },
  {
   "cell_type": "code",
   "execution_count": null,
   "metadata": {},
   "outputs": [],
   "source": [
    "## 割り算(/)\n",
    "## 10/5\n",
    "num2/num3"
   ]
  },
  {
   "cell_type": "code",
   "execution_count": null,
   "metadata": {},
   "outputs": [],
   "source": [
    "## 商(//)\n",
    "## 10/5\n",
    "num2/num3"
   ]
  },
  {
   "cell_type": "code",
   "execution_count": null,
   "metadata": {},
   "outputs": [],
   "source": [
    "## 剰余(%)\n",
    "## 10%5\n",
    "num2%num3"
   ]
  },
  {
   "cell_type": "code",
   "execution_count": null,
   "metadata": {},
   "outputs": [],
   "source": [
    "## 結合\n",
    "# 'tumh'+'takarazuka'\n",
    "moji_1+moji_2"
   ]
  },
  {
   "cell_type": "markdown",
   "metadata": {},
   "source": [
    "文字列同士の足し算は文字が連結する。文字型と数値の足し算はできない。"
   ]
  },
  {
   "cell_type": "markdown",
   "metadata": {},
   "source": [
    "変数名の使い方はコードを書けば書くほど，覚えてくるので繰り返し自分で様々なパターンを考えて書き，動作を確認してみよう。"
   ]
  },
  {
   "cell_type": "markdown",
   "metadata": {},
   "source": [
    "# 文字と数値の結合\n",
    "```\n",
    "moji_1+num2\n",
    "```\n",
    "というコードを実行すると，エラーがでる。これは，文字型同士でないからである。<br>\n",
    "たまに，数値を文字として扱いたい時がある。その対処法として二つ紹介する(他にもいろいろあるので興味がある人は自分で勉強してください)。\n",
    "\n",
    "## int型やfloat型から文字型へ\n",
    "数値を文字として扱えるようにすること上記の問題は解決する。\n",
    "```\n",
    "str(数値)\n",
    "```\n",
    "とするだけである。<br>\n",
    "つまり，\n",
    "```\n",
    "moji_1+str(num2)\n",
    "```\n",
    "となる。また，\n",
    "```\n",
    "moji_1+str(num2)\n",
    "```\n",
    "と，小数点の数値も扱うことができる。\n",
    "\n",
    "## f-stringsを用いた方法\n",
    "`str()`を使えば，簡単に数値を文字に置き換えることができる。<br>\n",
    "前に述べたが，プログラムでは，変数名を多様することが一般的である。変数名を直接文字に組み込むと，直感的に理解でき，後々解読しやすくなる。<br>\n",
    "他に，文章を作成する方法は`format()`を用いるものがある。<br>\n",
    "f-stringsを用いたコードの書き方は，\n",
    "```\n",
    "f'例を書く・・・{moji_1}{num2}'\n",
    "```\n",
    "となる。基本形は`f'適当な文章{変数名もしくはデータ}'`となる。"
   ]
  },
  {
   "cell_type": "markdown",
   "metadata": {},
   "source": [
    "# 問題1_文章の作成方法\n",
    "\n",
    "1. ageという変数名に自分の年齢を代入する。\n",
    "1. nameという変数名に自分の氏名(漢字)を代入する。\n",
    "1. nameEという変数名に英表記の氏名を代入する。\n",
    "1. f-stringsを使って自己紹介の文章を書いてみよう。ただし，name，nameEやageを使う。\n",
    "    "
   ]
  },
  {
   "cell_type": "code",
   "execution_count": null,
   "metadata": {},
   "outputs": [],
   "source": [
    "##記入欄"
   ]
  },
  {
   "cell_type": "code",
   "execution_count": null,
   "metadata": {},
   "outputs": [],
   "source": [
    "##記入欄"
   ]
  },
  {
   "cell_type": "code",
   "execution_count": null,
   "metadata": {},
   "outputs": [],
   "source": [
    "##記入欄"
   ]
  },
  {
   "cell_type": "code",
   "execution_count": null,
   "metadata": {},
   "outputs": [],
   "source": [
    "##記入欄"
   ]
  },
  {
   "cell_type": "markdown",
   "metadata": {},
   "source": [
    "# 問題2\n",
    "\n",
    "問題1で行ったことをヒントにf-stringsを使って自己紹介用の定型文を作ってみよう。<br>\n",
    "\n",
    "|姓|名|姓(フリガナ)|名(フリガナ)|性別|年齢|\n",
    "|-:-|-:-|-:-|-:-|-:-|-:-|\n",
    "|大西|智也|オオニシ|トモヤ|M|42|\n",
    "|岡本|加奈子|オカモト|カナコ|F|25|\n",
    "\n",
    "*セルは必要に応じて増やす。"
   ]
  },
  {
   "cell_type": "code",
   "execution_count": null,
   "metadata": {},
   "outputs": [],
   "source": []
  },
  {
   "cell_type": "code",
   "execution_count": null,
   "metadata": {},
   "outputs": [],
   "source": []
  },
  {
   "cell_type": "code",
   "execution_count": null,
   "metadata": {},
   "outputs": [],
   "source": []
  },
  {
   "cell_type": "code",
   "execution_count": null,
   "metadata": {},
   "outputs": [],
   "source": []
  },
  {
   "cell_type": "code",
   "execution_count": null,
   "metadata": {},
   "outputs": [],
   "source": []
  },
  {
   "cell_type": "markdown",
   "metadata": {},
   "source": [
    "# リスト(list)\n",
    "## リストの作成\n",
    "上記の表を一部抜粋する。\n",
    "```\n",
    "大西\t智也\tオオニシ\tトモヤ\tM\t42\n",
    "```\n",
    "これは，`姓，名，フリガナ(姓)，フリガナ(名)，性別，年齢`という順番でくくられた一つのデータとして`意味付け`することができる(文字や数値はただの記号であり，それに意味持たせるのは定義次第である)。<br>\n",
    "一つのデータ群として扱うことができれば，これらの値はある特定のものに属するデータとしてまとめることができる。そのようなときに，\n",
    "1. list(組み込み関数)\n",
    "1. tuple(組み込み関数)\n",
    "1. dictionary(組み込み関数)\n",
    "1. DataFrame(pandas)\n",
    "1. ndarray(NumPy)\n",
    "\n",
    "というデータ型を用いると，非常に便利である。<br>\n",
    "これらすべての型の基本原形は，listである。"
   ]
  },
  {
   "cell_type": "markdown",
   "metadata": {},
   "source": [
    "`[]`(角括弧)内に存在するデータを一つのデータ群として扱う。これを`リスト`という。\n",
    "```\n",
    "[\"リスト\"]\n",
    "[\"リスト\", \"abc\", 'リスト', 1, 1.5, -2.0, 0, True]\n",
    "```\n",
    "もリストである。\n",
    "\n",
    "\n"
   ]
  },
  {
   "cell_type": "markdown",
   "metadata": {},
   "source": [
    "上の表の一部を抜粋する。これをリストに変えてみよう。"
   ]
  },
  {
   "cell_type": "code",
   "execution_count": null,
   "metadata": {},
   "outputs": [],
   "source": [
    "大西　　智也　　オオニシ　　トモヤ　　M　　42"
   ]
  },
  {
   "cell_type": "markdown",
   "metadata": {},
   "source": [
    "このように，リストの中身は，文字型，数値，真偽値，リスト，タプル，DataFrameなど，データ型は何でも良いので，様々なケースに対応できる。"
   ]
  },
  {
   "cell_type": "markdown",
   "metadata": {},
   "source": [
    "1. `姓，名，フリガナ(姓)，フリガナ(名)，性別，年齢`の順番に並んだ自分のリストを作成する。\n",
    "1. 上で作成したリストをkihon1(何でも良い)という変数名に代入する。\n",
    "1. そのデータが入っているか確認する。print()を使う(ググっで調べてみよう)。\n",
    "1. 次に，生年月日(西暦，月，日)のリストを作成して，適当な変数名に代入する。\n",
    "1. kihon2(これに限らない)という変数名に，kihon1とリスト形式になった生年月日のリストを作成する。"
   ]
  },
  {
   "cell_type": "code",
   "execution_count": null,
   "metadata": {},
   "outputs": [],
   "source": [
    "## 1つ目"
   ]
  },
  {
   "cell_type": "code",
   "execution_count": null,
   "metadata": {},
   "outputs": [],
   "source": [
    "## 2つ目"
   ]
  },
  {
   "cell_type": "code",
   "execution_count": null,
   "metadata": {},
   "outputs": [],
   "source": [
    "## 3つ目"
   ]
  },
  {
   "cell_type": "code",
   "execution_count": null,
   "metadata": {},
   "outputs": [],
   "source": [
    "## 4つ目"
   ]
  },
  {
   "cell_type": "code",
   "execution_count": null,
   "metadata": {},
   "outputs": [],
   "source": [
    "## 5つ目"
   ]
  },
  {
   "cell_type": "markdown",
   "metadata": {},
   "source": [
    "## リストの操作\n",
    "作成した(されている)リストの中身の一部のデータを抽出したり，探したり，書き換えたり，追加したり，削除したり，様々なことができる。<br>\n",
    "上で作成した，kihon2(他の名かもしれない)を用いて説明する。<br>\n",
    "リストが作られると，自動的にシーケンス(連続した)データとして，コンピュータのメモリ装置に記憶される。つまり，そのデータ群に番号がふられる。\n",
    "\n",
    "|リストのデータ|[大西,|智也,|オオニシ,|トモヤ,|M,|42,|[1977,10,1]]|\n",
    "|:-:|:-:|:-:|:-:|:-:|:-:|:-:|:-:|\n",
    "|インデックス$\\rightarrow$|0|1|2|3|4|5|6|\n",
    "|インデックス$\\leftarrow$|-7|-6|-5|-4|-3|-2|-1|\n",
    "\n",
    "### データの抽出\n",
    "特定のデータを抽出したい場合は，`変数名[インデックス番号]`とする。\n",
    "```\n",
    "x = [\"a\",\"b\",\"c\",\"d\",\"e\",\"f\",\"g\"]\n",
    "print(x[0])\n",
    "```\n",
    "このような書き方となる。<br>\n",
    "解説すると，以下の通りである。\n",
    "\n",
    "- 'a'〜'g'のアルファベットをリストに並べて，xという変数名に代入する。\n",
    "- インデックス番号`0`番目のデータをprint関数を用いて表示する。\n",
    "\n",
    "では，上のコードを下のセルに書いて動作を確認してみよう。"
   ]
  },
  {
   "cell_type": "code",
   "execution_count": null,
   "metadata": {},
   "outputs": [],
   "source": []
  },
  {
   "cell_type": "markdown",
   "metadata": {},
   "source": [
    "次に，'a'〜'g'すべてを取り出したいときの書き方は，\n",
    "```\n",
    "print(x)\n",
    "print(x[:])\n",
    "```\n",
    "を覚えて欲しい。<br>\n",
    "下のセルのコメントアウトを外して(#を消して)，実行(動作を確認）する。"
   ]
  },
  {
   "cell_type": "code",
   "execution_count": null,
   "metadata": {},
   "outputs": [],
   "source": [
    "#print(x)"
   ]
  },
  {
   "cell_type": "code",
   "execution_count": null,
   "metadata": {},
   "outputs": [],
   "source": [
    "#print(x[:])"
   ]
  },
  {
   "cell_type": "markdown",
   "metadata": {},
   "source": [
    "次に，'a'〜'd'を抽出したいときは，\n",
    "```\n",
    "print(x[0:4])\n",
    "print(x[:4])\n",
    "```\n",
    "とする。どちらでもよい。<br>\n",
    "ここで注意すること。<br>\n",
    "```\n",
    "print(x[4])\n",
    "```\n",
    "とすると，`e`が表示される。\n",
    "```\n",
    "print(x[0:4])\n",
    "```\n",
    "では，'d'までである。<br>\n",
    "`:`(コロン)の有無で意味が変わってくるので気をつけよう。<br>\n",
    "\n",
    "以上のコードを下のセルに入力して，動作を確認しよう。"
   ]
  },
  {
   "cell_type": "code",
   "execution_count": null,
   "metadata": {},
   "outputs": [],
   "source": []
  },
  {
   "cell_type": "code",
   "execution_count": null,
   "metadata": {},
   "outputs": [],
   "source": []
  },
  {
   "cell_type": "code",
   "execution_count": null,
   "metadata": {},
   "outputs": [],
   "source": []
  },
  {
   "cell_type": "code",
   "execution_count": null,
   "metadata": {},
   "outputs": [],
   "source": []
  },
  {
   "cell_type": "markdown",
   "metadata": {},
   "source": [
    "インデックス番号に`-`(マイナス)がついたら，逆順になる。表をみると直感的にわかるだろう。\n",
    "\n",
    "|リストのデータ|'a',|'b',|'c',|'d',|'e',|'f',|'g'|\n",
    "|:-:|:-:|:-:|:-:|:-:|:-:|:-:|:-:|\n",
    "|インデックス$\\rightarrow$|0|1|2|3|4|5|6|\n",
    "|インデックス$\\leftarrow$|-7|-6|-5|-4|-3|-2|-1|\n",
    "\n",
    "リスト内のデータの抽出方法は様々である。プログラムの流れによって使い分ければよいが，今は自分がわかりやすい書き方を覚えておくとよいだろう。<br>\n",
    "下のセルを実行して，その動作を確認しよう。"
   ]
  },
  {
   "cell_type": "code",
   "execution_count": null,
   "metadata": {},
   "outputs": [],
   "source": [
    "print(x[1:5])"
   ]
  },
  {
   "cell_type": "code",
   "execution_count": null,
   "metadata": {},
   "outputs": [],
   "source": [
    "print(x[5:1])"
   ]
  },
  {
   "cell_type": "code",
   "execution_count": null,
   "metadata": {},
   "outputs": [],
   "source": [
    "print(x[-4:])"
   ]
  },
  {
   "cell_type": "code",
   "execution_count": null,
   "metadata": {},
   "outputs": [],
   "source": [
    "print(x[-4:-1])"
   ]
  },
  {
   "cell_type": "code",
   "execution_count": null,
   "metadata": {},
   "outputs": [],
   "source": [
    "print(x[-5:-2])"
   ]
  },
  {
   "cell_type": "code",
   "execution_count": null,
   "metadata": {},
   "outputs": [],
   "source": []
  },
  {
   "cell_type": "markdown",
   "metadata": {},
   "source": [
    "# 問題3\n",
    "1. kihon2という変数名に，`姓，名，フリガナ(姓)，フリガナ(名)，性別，年齢, 生年月日`のリストを作成する。前に同じことをやっているのでわからない人はそこを見る。\n",
    "1. 年齢のみを表示する。\n",
    "1. 姓，名を表示する。\n",
    "1. 生年月日のみを表示する。\n",
    "1. 生年月日の出生月を表示する。"
   ]
  },
  {
   "cell_type": "markdown",
   "metadata": {},
   "source": [
    "## リストのメソッド\n",
    "メソッドとは，変数や値の後に`.`(ドット)を付けて呼び出すものである。これは，\"クラスで定義された関数\"とされるが，詳細は必要に応じて説明する。ここでは，`.`(ドット)に続くものがメソッドであることを覚えておいてほしい。<br>\n",
    "リストによく用いるメソッドは，感覚的に上3つ(append, index, count)であろう。<br>\n",
    "\n",
    "|メソッド|書きかた|内容|\n",
    "|:-:|:-|:-|\n",
    "|append|list.append(x)|リストの末尾に要素を一つ追加|\n",
    "|index|list.index(x)|リスト中で x と等しい値を持つ最初の要素の位置をゼロから始まる添字で返す|\n",
    "|count|list.count(x)|リストでの x の出現回数を返す|\n",
    "|sort|list.sort()|リストの並べ替え|\n",
    "|extend|list.extend(x)|イテラブルのすべての要素を対象のリストに追加し，リストを拡張|\n",
    "|insert|list.insert(i, x)|指定した位置に要素を挿入|\n",
    "|remove|list.remove(x)|xと等しい値を持つ最初の要素の削除|\n",
    "|pop|list.pop(i)|リスト中の指定された位置にある要素をリストから削除して、その要素を返す|\n",
    "|clear|list.clear()|リストの中のすべての要素を削除する，`del list[:]`と同じ|\n",
    "\n"
   ]
  },
  {
   "cell_type": "markdown",
   "metadata": {},
   "source": [
    "下のようなリストを作成している。ここでは，appendの使い方について述べる。"
   ]
  },
  {
   "cell_type": "code",
   "execution_count": null,
   "metadata": {},
   "outputs": [],
   "source": [
    "## 氏名，フリガナ，性別，生年月日，年齢，出身地，ID，パスワード  ##\n",
    "p0 = [\"吉本恵理子\",\"ヨシモトエリコ\",\"女\",19661125,53,\"鳥取県\",942,\"yeU59MzN\"]\n",
    "p1 = [\"門田通夫\",\"カドタミチオ\",\"男\",19600905,59,\"沖縄県\",277,\"gnU4oJac\"]\n",
    "p2 = [\"榎本定雄,エノモトサダオ\",\"男\",19720702,47,\"奈良県\",245,\"u-Bxinn9\"]\n",
    "p3 = [\"丹羽久男\",\"タンバヒサオ\",\"男\",19770605,42,\"岩手県\",314,\"nAYgoLtH\"]\n",
    "p4 = [\"菅将文\",\"カンマサフミ\",\"男\",19671029,52,\"東京都\",132,\"6riM4Myf\"]\n",
    "p5 = [\"八田政利\",\"ヤツタマサトシ\",\"男\",19700330,49,\"福井県\",191,\"Yhs9CBmX\"]\n",
    "p6 = [\"富沢正道\",\"トミザワマサミチ\",\"男\",19751030,44,\"山形県\",395,\"8DJhFyTe\"]\n",
    "p7 = [\"西原美奈\",\"ニシハラミナ\",\"女\",19910601,28,\"奈良県\",62,\"cTcWDQ6z\"]\n",
    "p8 = [\"高松哲也\",\"タカマツテツヤ\",\"男\",19680805,51,\"広島県\",397,\"Ly-zOW4d\"]\n",
    "p9 = [\"石井基之\",\"イシイモトユキ\",\"男\",19940905,25,\"佐賀県\",424,\"aO,TQGMr\"]"
   ]
  },
  {
   "cell_type": "markdown",
   "metadata": {},
   "source": [
    "appendの使い方は以下の通りである。挿入したいデータをappendの()に入れて，実行するだけである。<br>\n",
    "ここでよくすることで注意する。何回も実行すると，同じデータが実行した回数分追加されるので注意しよう。"
   ]
  },
  {
   "cell_type": "code",
   "execution_count": null,
   "metadata": {},
   "outputs": [],
   "source": [
    "# 上のp0〜p9の末尾に下の血液型を追加する。\n",
    "p0.append(\"A\")\n",
    "print(p0)\n",
    "## 実行は一回のみ。ために２回実行すると，'A'が二つ，3回実行すると，'A'が3つ追加されている。"
   ]
  },
  {
   "cell_type": "markdown",
   "metadata": {},
   "source": [
    "同じように，p1〜p9も追加してみよう。"
   ]
  },
  {
   "cell_type": "code",
   "execution_count": null,
   "metadata": {},
   "outputs": [],
   "source": [
    "#p1 \"A\""
   ]
  },
  {
   "cell_type": "code",
   "execution_count": null,
   "metadata": {},
   "outputs": [],
   "source": [
    "#p2 \"AB\""
   ]
  },
  {
   "cell_type": "code",
   "execution_count": null,
   "metadata": {},
   "outputs": [],
   "source": [
    "#p3 \"O\""
   ]
  },
  {
   "cell_type": "code",
   "execution_count": null,
   "metadata": {},
   "outputs": [],
   "source": [
    "#p4 \"A\""
   ]
  },
  {
   "cell_type": "code",
   "execution_count": null,
   "metadata": {},
   "outputs": [],
   "source": [
    "#p5 \"B\""
   ]
  },
  {
   "cell_type": "code",
   "execution_count": null,
   "metadata": {},
   "outputs": [],
   "source": [
    "#p6 \"A\""
   ]
  },
  {
   "cell_type": "code",
   "execution_count": null,
   "metadata": {},
   "outputs": [],
   "source": [
    "#p7 \"B\""
   ]
  },
  {
   "cell_type": "code",
   "execution_count": null,
   "metadata": {},
   "outputs": [],
   "source": [
    "#p8 \"A\""
   ]
  },
  {
   "cell_type": "code",
   "execution_count": null,
   "metadata": {},
   "outputs": [],
   "source": [
    "#p9 \"O\""
   ]
  },
  {
   "cell_type": "markdown",
   "metadata": {},
   "source": [
    "indexの使い方について述べる。<br>\n",
    "indexは指定した文字や数値の位置がどこか取得することができる。"
   ]
  },
  {
   "cell_type": "markdown",
   "metadata": {},
   "source": [
    "例えば，\n",
    "```\n",
    "num = [10,11,12,13,14,15,16,17,18,19]\n",
    "```\n",
    "というリストがある。<br>\n",
    "indexは，このリストの中に，`16`は何番目に存在するか？と調べるときなどに用いる場合が多い。\n",
    "```\n",
    "num.index(16)\n",
    "```\n",
    "と書く。<br>\n",
    "この動作について下のセルに書いて確認しよう。"
   ]
  },
  {
   "cell_type": "code",
   "execution_count": null,
   "metadata": {},
   "outputs": [],
   "source": [
    "## 上のコードをコピペして動作を確認する。\n"
   ]
  },
  {
   "cell_type": "markdown",
   "metadata": {},
   "source": [
    "次に，countの使い方について述べる。<br>\n",
    "countは，あるリストに，指定した値(もしくは文字，真偽値)がいくつ存在するのか，その値を返すメソッドである。<br>\n",
    "例えば，\n",
    "```\n",
    "boo = [True,False,False,True,False,True,True,False,True,False]\n",
    "```\n",
    "というリストがある.<br>\n",
    "このリストの中に，TrueやFalseが何個あるのか，というときに調べるときに，\n",
    "```\n",
    "boo.count(True)\n",
    "```\n",
    "ように用いる。"
   ]
  },
  {
   "cell_type": "code",
   "execution_count": null,
   "metadata": {},
   "outputs": [],
   "source": [
    "## 上のコードをコピペして動作を確認する。\n"
   ]
  },
  {
   "cell_type": "markdown",
   "metadata": {},
   "source": [
    "このように，リスト(変数名)のあとに`.`(ドッド)に続くメソッドを指定するパターンとなっている。<br>\n",
    "プログラムは予め決められたルールに従って書くと，目的に応じて，様々なデータを取得するためのプログラム(指示を与えること)ができる。<br>\n",
    "つまり，上に書いたメソッドの書き方はパターンが決められており，あとは仕様によって書き方が変わる。"
   ]
  },
  {
   "cell_type": "markdown",
   "metadata": {},
   "source": [
    "#### len関数の使い方\n",
    "`len`関数は，()の中にあるデータの長さや要素の数を取得する。len関数の書式は，\n",
    "```\n",
    "len(boo)\n",
    "len(num)\n",
    "```\n",
    "となる。<br>\n",
    "リストの中のデータ数の大きさや，文字の長さを調べるのに用いる一つの方法である。<br>\n"
   ]
  },
  {
   "cell_type": "code",
   "execution_count": null,
   "metadata": {},
   "outputs": [],
   "source": [
    "# print(len(boo))\n",
    "# print(len(num))\n"
   ]
  },
  {
   "cell_type": "markdown",
   "metadata": {},
   "source": [
    "<font size=5 color=red>\n",
    "重要<br></font>\n",
    "\n",
    "<font size=5>\n",
    "これらリストの操作と同じようなことが文字列に作用させることができる。<br>\n",
    "</font>\n",
    "\n",
    "- \"宝塚太郎\"のような文字列を数えるときもlen関数を使うことができる。\n",
    "- インデックス番号を使って文字列の一部を抽出，分割，結合(前に示した)することもできる。\n",
    "- 文字列の一部を置き換えることができる。\n",
    "- 特定の文字を検索することができる。\n",
    "- その他\n",
    "\n",
    "これらは，必要に応じて用いる。わからないときは，ググったら何かヒットする。\n",
    "\n",
    "例えば，`宝塚太郎`を姓と名に分けて取得するコードの一例は，\n",
    "```\n",
    "name = '宝塚太郎'\n",
    "sei = name[:2]\n",
    "mei = name[2:]\n",
    "```\n",
    "となる。\n",
    "\n",
    "文字を置き換えるコードは，\n",
    "```\n",
    "name = '宝塚太郎'\n",
    "name2 = name.replace('宝塚','和歌山') ## 宝塚を和歌山へ\n",
    "print(name)\n",
    "print(name2)\n",
    "```\n",
    "となる。\n",
    "\n",
    "文字を検索するときは，\n",
    "```\n",
    "address = \"和歌山県和歌山市中之島2252\"\n",
    "fw =\"中之島\"\n",
    "print(address.find(fw))\n",
    "## ただし，最初の文字のインデックスを返す。\n",
    "## すべての文字のインデックスを取得するには別にプログラムを考える必要がある。\n",
    "```\n",
    "となる。\n"
   ]
  },
  {
   "cell_type": "code",
   "execution_count": null,
   "metadata": {},
   "outputs": [],
   "source": []
  },
  {
   "cell_type": "markdown",
   "metadata": {},
   "source": [
    "# タプル(tuple)\n",
    "リストを表す[]が()に変わった形をタプルという。タプルはリストのようにタプルの中のデータに何が含まれているのか，指定したデータの有無やインデックスは取得可能であるが，追加や変更をすることができない。"
   ]
  },
  {
   "cell_type": "code",
   "execution_count": null,
   "metadata": {},
   "outputs": [],
   "source": [
    "## p0をタプルに変更する\n",
    "p0_tuple = tuple(p0)\n",
    "p0_list = list(p0_tuple)\n",
    "print(p0_tuple)\n",
    "print(p0_list)"
   ]
  },
  {
   "cell_type": "code",
   "execution_count": null,
   "metadata": {},
   "outputs": [],
   "source": [
    "## リストデータの置き換えができるか？\n",
    "p0_list[1] = \"abc\"\n",
    "print(p0_list)\n",
    "p0_tuple[1] = \"abc\"\n",
    "print(p0_tuple)\n"
   ]
  },
  {
   "cell_type": "code",
   "execution_count": null,
   "metadata": {},
   "outputs": [],
   "source": [
    "## インデックスの取得\n",
    "print(p0_list.index(53))\n",
    "print(p0_tuple.index(53))"
   ]
  },
  {
   "cell_type": "code",
   "execution_count": null,
   "metadata": {},
   "outputs": [],
   "source": [
    "## countはできるか？\n",
    "boo = [True,False,False,True,False,True,True,False,True,False]\n",
    "boo_list = boo.copy()\n",
    "boo_tuple = tuple(boo)\n",
    "print(boo_tuple)\n",
    "print(boo_list.count(True))\n",
    "print(boo_tuple.count(True))"
   ]
  },
  {
   "cell_type": "markdown",
   "metadata": {},
   "source": [
    "p0"
   ]
  },
  {
   "cell_type": "markdown",
   "metadata": {},
   "source": [
    "<font size=3>\n",
    "ポイント<br>\n",
    "    \n",
    "- まとまったデータを扱いたいとき，第一選択になるのは，`リスト`である。\n",
    "- リストを用いてデータを整理し，必要に応じてtuple形式に変える。\n",
    "- tupleは追加や変更はできないが，その中身をみることはリストと同じように可能である。\n",
    "- tupleを指定するときは，最初から行なうのではなく，変更されたくないデータや固定されるべきデータとしたいときのみ用いると便利である。\n",
    "\n",
    "</font>"
   ]
  },
  {
   "cell_type": "markdown",
   "metadata": {},
   "source": [
    "# 問題4\n",
    "dataという変数名にリスト，\n",
    "```\n",
    "data = [\"吉本恵理子\",\"ヨシモトエリコ\",\"女\",19661125,53,\"鳥取県\",942,\"yeU59MzN\"]\n",
    "```\n",
    "がある。\n",
    "次の問いについて，適切なコードを書いてみよう。\n",
    "1. \"吉本恵理子\"を姓と名に分けて，姓，名の順にリスト形式で現す。\n",
    "1. \"ヨシモトエリコ\"を姓と名に分けて，姓，名の順にリスト形式で現す。\n",
    "1. 吉本さんの生年月日は，19661125である。生年月日のインデックスはどこか記す。\n",
    "1. 吉本さんの生年月日は，1966年11月25日である。生年月日は変わらない。これをタプルで現す。\n",
    "1. data2という新しい変数名に，dataの\"吉本恵理子\"を姓と名でリストにしたもの，\"ヨシモトエリコ\"を姓と名でリストにしたものに置き換える。\n",
    "1. 生年月日の19661125を西暦，月，日に書き換えられたタプルに置き換える。"
   ]
  },
  {
   "cell_type": "code",
   "execution_count": null,
   "metadata": {},
   "outputs": [],
   "source": [
    "## 1"
   ]
  },
  {
   "cell_type": "code",
   "execution_count": null,
   "metadata": {},
   "outputs": [],
   "source": [
    "## 2"
   ]
  },
  {
   "cell_type": "code",
   "execution_count": null,
   "metadata": {},
   "outputs": [],
   "source": [
    "## 3"
   ]
  },
  {
   "cell_type": "code",
   "execution_count": null,
   "metadata": {},
   "outputs": [],
   "source": [
    "## 4"
   ]
  },
  {
   "cell_type": "code",
   "execution_count": null,
   "metadata": {},
   "outputs": [],
   "source": [
    "## 5"
   ]
  },
  {
   "cell_type": "code",
   "execution_count": null,
   "metadata": {},
   "outputs": [],
   "source": [
    "## 6"
   ]
  },
  {
   "cell_type": "markdown",
   "metadata": {},
   "source": [
    "# 辞書型\n",
    "他のプログラミング言語にない，最強のデータ形式である。様々なデータを扱うことができ，非常に便利なデータ形式である。\n",
    "### 基本構造\n",
    "辞書型はPython特有の表記方法であろう。少し複雑かもしれないが，構造を覚えてしまえば簡単である。色々なところで使われるのでぜひ覚えおきたい。<br>\n",
    "辞書型の基本構造を示す。<br>\n",
    "```\n",
    "{key1:value1, key2:value2, key3:value3, key4:value4,…}\n",
    "```\n",
    "となる。`{}`で囲まれ，要素ごとに，`,`で区切られており，リストやタプルのように順番はない。その代わり，`key`によって，値を得ることができる。また，この辞書型も変数名に代入することができる。<br>\n",
    "さて，リストとタプルの単元で書いたと思うが，次のコードをここでもう一度書いてみよう。"
   ]
  },
  {
   "cell_type": "markdown",
   "metadata": {},
   "source": [
    "```\n",
    "p0 = [\"吉本恵理子\",\"ヨシモトエリコ\",\"女\",19661125,53,\"鳥取県\",942,\"yeU59MzN\"]\n",
    "p1 = [\"門田通夫\",\"カドタミチオ\",\"男\",19600905,59,\"沖縄県\",277,\"gnU4oJac\"]\n",
    "p2 = [\"榎本定雄,エノモトサダオ\",\"男\",19720702,47,\"奈良県\",245,\"u-Bxinn9\"]\n",
    "p3 = [\"丹羽久男\",\"タンバヒサオ\",\"男\",19770605,42,\"岩手県\",314,\"nAYgoLtH\"]\n",
    "p4 = [\"菅将文\",\"カンマサフミ\",\"男\",19671029,52,\"東京都\",132,\"6riM4Myf\"]\n",
    "p5 = [\"八田政利\",\"ヤツタマサトシ\",\"男\",19700330,49,\"福井県\",191,\"Yhs9CBmX\"]\n",
    "p6 = [\"富沢正道\",\"トミザワマサミチ\",\"男\",19751030,44,\"山形県\",395,\"8DJhFyTe\"]\n",
    "p7 = [\"西原美奈\",\"ニシハラミナ\",\"女\",19910601,28,\"奈良県\",62,\"cTcWDQ6z\"]\n",
    "p8 = [\"高松哲也\",\"タカマツテツヤ\",\"男\",19680805,51,\"広島県\",397,\"Ly-zOW4d\"]\n",
    "p9 = [\"石井基之\",\"イシイモトユキ\",\"男\",19940905,25,\"佐賀県\",424,\"aO,TQGMr\"]\n",
    "```\n",
    "というデータがある。\n",
    "\n",
    "左から，氏名，フリガナ，性別，生年月日，年齢，出身地，ID，パスワード　という順番にデータがある。<br>\n",
    "データの意味がわかっていれば，これ以上触る必要はないかもしれないが，厳密なデータとして扱いたいときは，検索機能を備えたオブジェクトデータにしたい。そのようなときに辞書型が役立つだろう。"
   ]
  },
  {
   "cell_type": "markdown",
   "metadata": {},
   "source": [
    "### 辞書形式の作り方\n",
    "IDで管理したい場合，\n",
    "```\n",
    "data_dict = {942:[\"吉本恵理子\",\"ヨシモトエリコ\",\"女\",19661125,53,\"鳥取県\",\"yeU59MzN\"],\n",
    "            277:[\"門田通夫\",\"カドタミチオ\",\"男\",19600905,59,\"沖縄県\",\"gnU4oJac\"],\n",
    "            245:[\"榎本定雄,エノモトサダオ\",\"男\",19720702,47,\"奈良県\",245,\"u-Bxinn9\"],\n",
    "            314:[\"丹羽久男\",\"タンバヒサオ\",\"男\",19770605,42,\"岩手県\",314,\"nAYgoLtH\"],\n",
    "            132:[\"菅将文\",\"カンマサフミ\",\"男\",19671029,52,\"東京都\",\"6riM4Myf\"],\n",
    "            191:[\"八田政利\",\"ヤツタマサトシ\",\"男\",19700330,49,\"福井県\",\"Yhs9CBmX\"],\n",
    "            395:[\"富沢正道\",\"トミザワマサミチ\",\"男\",19751030,44,\"山形県\",\"8DJhFyTe\"],\n",
    "            62:[\"西原美奈\",\"ニシハラミナ\",\"女\",19910601,28,\"奈良県\",\"cTcWDQ6z\"],\n",
    "            397:[\"高松哲也\",\"タカマツテツヤ\",\"男\",19680805,51,\"広島県\",\"Ly-zOW4d\"],\n",
    "            424:[\"石井基之\",\"イシイモトユキ\",\"男\",19940905,25,\"佐賀県\",\"aO,TQGMr\"]\n",
    "            }\n",
    "```\n",
    "というように，書くことができる。<br>\n",
    "これで，key(:より左側の部分)で検索をかけることができる。"
   ]
  },
  {
   "cell_type": "code",
   "execution_count": null,
   "metadata": {},
   "outputs": [],
   "source": [
    "## data_dictの読み込み\n",
    "data_dict = {942:[\"吉本恵理子\",\"ヨシモトエリコ\",\"女\",19661125,53,\"鳥取県\",\"yeU59MzN\"],\n",
    "            277:[\"門田通夫\",\"カドタミチオ\",\"男\",19600905,59,\"沖縄県\",\"gnU4oJac\"],\n",
    "            245:[\"榎本定雄\",\"エノモトサダオ\",\"男\",19720702,47,\"奈良県\",\"u-Bxinn9\"],\n",
    "            314:[\"丹羽久男\",\"タンバヒサオ\",\"男\",19770605,42,\"岩手県\",\"nAYgoLtH\"],\n",
    "            132:[\"菅将文\",\"カンマサフミ\",\"男\",19671029,52,\"東京都\",\"6riM4Myf\"],\n",
    "            191:[\"八田政利\",\"ヤツタマサトシ\",\"男\",19700330,49,\"福井県\",\"Yhs9CBmX\"],\n",
    "            395:[\"富沢正道\",\"トミザワマサミチ\",\"男\",19751030,44,\"山形県\",\"8DJhFyTe\"],\n",
    "            62:[\"西原美奈\",\"ニシハラミナ\",\"女\",19910601,28,\"奈良県\",\"cTcWDQ6z\"],\n",
    "            397:[\"高松哲也\",\"タカマツテツヤ\",\"男\",19680805,51,\"広島県\",\"Ly-zOW4d\"],\n",
    "            424:[\"石井基之\",\"イシイモトユキ\",\"男\",19940905,25,\"佐賀県\",\"aO,TQGMr\"]\n",
    "            }\n",
    "\n",
    "## keyの取得\n",
    "data_key = data_dict.keys()\n",
    "## もしくはリストとして取り出す\n",
    "# data_key = list(data_key)\n",
    "data_key = [*data_dict]\n",
    "# *data_key, = data_dict\n",
    "\n",
    "\n",
    "## valueの取得\n",
    "data_values = data_dict.values()\n",
    "\n",
    "\n",
    "## IDによる検索\n",
    "print(data_dict[data_key[2]])"
   ]
  },
  {
   "cell_type": "markdown",
   "metadata": {},
   "source": [
    "このように，辞書型に検索機能を持たせることができる。膨大なデータを扱うためには，検索機能が重要である。<br>\n",
    "上のデータにもう少し検索機能を持たせてみよう。<br>\n",
    "IDで検索でき，出力されるデータはリスト形式で，7つのデータ(氏名，フリガナ，性別，生年月日，年齢，出身地，パスワード)が出力される。これらのデータのうち，必要なデータのみを出力(例えば，\"出身地\"というキーで出身地を出力)するようなコードを書いてみよう。<br>"
   ]
  },
  {
   "cell_type": "markdown",
   "metadata": {},
   "source": [
    "data_dictのkeyが424のvalue\n",
    "```\n",
    "[\"石井基之\",\"イシイモトユキ\",\"男\",19940905,25,\"佐賀県\",\"aO,TQGMr\"]\n",
    "```\n",
    "を，リストを，検索できるように変えてみると，\n",
    "```\n",
    "{\"name\":\"石井基之\", \"furigana\":\"イシイモトユキ\", \n",
    " \"sex\":\"男\", \"birthday\":19940905, \"age\":25, \"birthplace\":\"佐賀県\", \"password\":\"aO,TQGMr\"}\n",
    "```\n",
    "と書くことができる。<br>\n",
    "これをdata_dictのkey424のvalueと入れ替えて，出身地を検索してみよう。"
   ]
  },
  {
   "cell_type": "code",
   "execution_count": null,
   "metadata": {},
   "outputs": [],
   "source": [
    "## (例)424のvalueの入れ替え\n",
    "## 入れ替え前の data_dictの確認\n",
    "print(data_dict)\n",
    "\n",
    "## 入れ替える\n",
    "data_dict[424] = {\"name\":\"石井基之\", \"furigana\":\"イシイモトユキ\", \n",
    " \"sex\":\"男\", \"birthday\":19940905, \"age\":25, \"birthplace\":\"佐賀県\", \"password\":\"aO,TQGMr\"}\n",
    "\n",
    "## 入れ替え後のdata_dictの確認。424は辞書型になっているだろう。\n",
    "print(data_dict)"
   ]
  },
  {
   "cell_type": "markdown",
   "metadata": {},
   "source": [
    "このようにしておくと，\n",
    "```\n",
    "data_dict[424][\"name\"]\n",
    "data_dict[424][\"age\"]\n",
    "```\n",
    "と書けて，名前や年齢など，特定の情報のみを抽出することができる。\n"
   ]
  },
  {
   "cell_type": "code",
   "execution_count": null,
   "metadata": {},
   "outputs": [],
   "source": [
    "# 動作の確認\n",
    "print(data_dict[424][\"name\"])\n",
    "print(data_dict[424][\"age\"])"
   ]
  },
  {
   "cell_type": "markdown",
   "metadata": {},
   "source": [
    "# 問題5\n",
    "data_dictに含まれる他のデータについても，\n",
    "```\n",
    "{\"name\":\"石井基之\", \"furigana\":\"イシイモトユキ\", \n",
    " \"sex\":\"男\", \"birthday\":19940905, \"age\":25, \"birthplace\":\"佐賀県\", \"password\":\"aO,TQGMr\"}\n",
    "```\n",
    "な形に置き換えなさい。"
   ]
  },
  {
   "cell_type": "code",
   "execution_count": null,
   "metadata": {},
   "outputs": [],
   "source": [
    "## コード記入欄\n",
    "###\n",
    "\n",
    " \n",
    "\n",
    "\n",
    "\n",
    "\n",
    "\n",
    "###\n",
    "print(data_dict)"
   ]
  },
  {
   "cell_type": "markdown",
   "metadata": {},
   "source": [
    "# 外部データの読み込み\n",
    "医療に関する多くのデータを適切に扱うためには，2次元の表形式のデータフレームを上手に取り扱える想像力が必要になる。<br>\n",
    "その多くのデータは，時系列データである。近年では，サンプリング間隔は1msecのデータ，大量のデータを同時に取り扱う機会が増えてきていおり，分析や解析手法は高度化してきている。<br>\n",
    "\n",
    "ここでは，csv形式のデータを読み込み，読み込んだデータを加工して，出力する方法について学ぶ。"
   ]
  },
  {
   "cell_type": "markdown",
   "metadata": {},
   "source": [
    "### CSVデータとは\n",
    "CSVは，Comma Separated Valuesの略で，`,`(カンマ)で区切られたファイル形式のデータを指し，テキストデータの一種でエクセルのような2次元のデータフレームを扱うときに用いられる形式である。`,`の代わりにタブ形式のファイル(.TSV)もあるが，CSV形式のファイルの存在が割合が多い。"
   ]
  },
  {
   "cell_type": "markdown",
   "metadata": {},
   "source": [
    "### CSV形式データの読み込み"
   ]
  },
  {
   "cell_type": "markdown",
   "metadata": {},
   "source": [
    "外部のライブラリのPandasを使うことを強くお勧めする。<br>\n",
    "Pandasを用いると，データの統計量を取得したり，可視化が簡便にでき，さらにデータ分析（データサイエンス）や機械学習で必要となる作業を簡単に行うことができる。<br>\n",
    "ここでは，先に述べた便利機能を使う前の，データの読み込みとして，Pandasを使う。<br>\n",
    "Pandasを使って外部csvファイルを読み込むために，\n",
    "```\n",
    "import pandas as pd\n",
    "```\n",
    "として，ライブラリをこのカーネルに取り入れる。<br>\n",
    "次に，pandasのメソッドの`read_csv`を使い，\n",
    "```\n",
    "pd.read_csv(ファイル名)\n",
    "```\n",
    "を使ってファイル内のデータを取り込む。<br>\n",
    "では，実際にやってみよう。"
   ]
  },
  {
   "cell_type": "code",
   "execution_count": null,
   "metadata": {},
   "outputs": [],
   "source": [
    "# pandasをpdとしてインポートする\n",
    "import pandas as pd\n",
    "\n",
    "# 'pi.csv'というファイルの中身を読み込んで，dfという変数名に代入する。\n",
    "df = pd.read_csv('/Users/tumh/Desktop/personal.csv')\n"
   ]
  },
  {
   "cell_type": "code",
   "execution_count": null,
   "metadata": {},
   "outputs": [],
   "source": [
    "# dfの最初の5行を確認する\n",
    "df.head()\n"
   ]
  },
  {
   "cell_type": "code",
   "execution_count": null,
   "metadata": {},
   "outputs": [],
   "source": [
    "# dfの最後の5行を確認する\n",
    "df.tail()\n"
   ]
  },
  {
   "cell_type": "markdown",
   "metadata": {},
   "source": [
    "ここまで進むと，Pythonの第一関門は突破された！<br>\n",
    "この後は，この読み込んだデータをどうするのか？統計処理したいのか？，データ整理したいのか？，計算したいのか？，によって変わってくる。<br>\n",
    "<br>"
   ]
  },
  {
   "cell_type": "markdown",
   "metadata": {},
   "source": [
    "#### 読み込んだデータをdata_dictに追加してみよう。\n",
    "ここではdfのデータを一つずつ読み込み，`data_dict`に追加していく。<br>\n",
    "リストへの追加は`append`を使う。辞書型の追加は`update`となる。<br>\n",
    "\n",
    "さて，dfはDataFrame型である。"
   ]
  },
  {
   "cell_type": "markdown",
   "metadata": {},
   "source": [
    "はじめに，列名を変更する。変更する名前は，data_dictで使えるように同じキーを使用しよう。"
   ]
  },
  {
   "cell_type": "code",
   "execution_count": null,
   "metadata": {},
   "outputs": [],
   "source": [
    "# DataFrame型(df)の列名へのアクセスは，df.columnsで，それを代入し直す(置き換える)列名をリストで与える。\n",
    "df.columns = [\"name\", \"furigana\", \"sex\", \"birthday\", \"age\", \"birthplace\",'number', \"password\"]\n",
    "df.head()"
   ]
  },
  {
   "cell_type": "markdown",
   "metadata": {},
   "source": [
    "DataFrameを辞書型に置き換えたいのであるが，data_dictに含まれるキーと合うように転置（縦と横を入れ替える）。置き換えやすくするために，\n",
    "```\n",
    "dfT = df.T\n",
    "dfT\n",
    "```"
   ]
  },
  {
   "cell_type": "code",
   "execution_count": null,
   "metadata": {},
   "outputs": [],
   "source": [
    "dfT = df.T\n",
    "dfT"
   ]
  },
  {
   "cell_type": "markdown",
   "metadata": {},
   "source": [
    "このdfTを辞書型に変換する。それを`dfT_dict`に代入する。\n",
    "```\n",
    "dfT_dict = dfT.to_dict()\n",
    "```\n",
    "と下のセルに書いてみよう。to_dict()はDataFrameからdictionaryに変換するメソッドである。"
   ]
  },
  {
   "cell_type": "code",
   "execution_count": null,
   "metadata": {},
   "outputs": [],
   "source": [
    "dfT_dict = dfT.to_dict()"
   ]
  },
  {
   "cell_type": "markdown",
   "metadata": {},
   "source": [
    "dfT_dictのデータのKeyに該当する値を取り出し，そのvalueのnumberを該当するvalueのKeyとし，valueに含まれるnumberを削除することで，data_dictと同じ内容にすることができる。<br>\n",
    "ここで，辞書型内の要素を削除する方法は，`del文`もしくは，`pop()`が良いでしょう。<br>\n",
    "`pop()`は削除した値を返し，`del文`は指定したものを削除する。ここでは両方使う<br>\n",
    "では，\n",
    "```\n",
    "dfT_dict.keys()\n",
    "```\n",
    "と書いて，dfT_dictのキーの一覧をみてみよう。"
   ]
  },
  {
   "cell_type": "code",
   "execution_count": null,
   "metadata": {},
   "outputs": [],
   "source": [
    "# ここに上のコードを書いて確認する\n",
    "dfT_dict.keys()"
   ]
  },
  {
   "cell_type": "markdown",
   "metadata": {},
   "source": [
    "そのうちの一つのデータを先に書いた手続きに従って整理してみると，\n",
    "```\n",
    "newid = dfT_dict[0].pop('number')\n",
    "dfT_dict[newid] = dfT_dict[0]\n",
    "del dfT_dict[0]\n",
    "```\n",
    "となる。下のセルで確認してみよう。"
   ]
  },
  {
   "cell_type": "code",
   "execution_count": null,
   "metadata": {},
   "outputs": [],
   "source": [
    "## 上のコードを書いて動作を確認する\n"
   ]
  },
  {
   "cell_type": "markdown",
   "metadata": {},
   "source": [
    "これをdfT_dictすべてのvalueに対して行いたい。<br>\n",
    "次は，\n",
    "```\n",
    "newid = dfT_dict[1].pop('number')\n",
    "dfT_dict[newid] = dfT_dict[1]\n",
    "del dfT_dict[1]\n",
    "```\n",
    "となる。その次は，\n",
    "```\n",
    "newid = dfT_dict[2].pop('number')\n",
    "dfT_dict[newid] = dfT_dict[2]\n",
    "del dfT_dict[2]\n",
    "```\n",
    "となる。そして，\n",
    "```\n",
    "newid = dfT_dict[3].pop('number')\n",
    "dfT_dict[newid] = dfT_dict[3]\n",
    "del dfT_dict[3]\n",
    "```\n",
    "となる。どこが変わっているだろうか？<br>\n",
    "すでに気づいているだろう。そう，3箇所の数値が変わっているだけである。<br>\n",
    "このようなケースは，繰り返し文という構文を用いるのがよい。<br>\n",
    "for文はプログラムを勉強する上で，重要な構文である。"
   ]
  },
  {
   "cell_type": "markdown",
   "metadata": {},
   "source": [
    "### for文\n",
    "基本形は，\n",
    "```\n",
    "for i in range(10):\n",
    "    print(i)\n",
    "```\n",
    "である。<br>\n",
    "`for i in range(10)`で，`i` に0,1,2,...,9の順に代入するという意味になる。そして，`:`で，区切って，この構文はまだ終わらないことを教える(プログラムは一行ずつ順番に読んでいくので，`:`がなければこれで終わり...とコンピュータが判断してしまう)。<br>\n",
    "\n",
    "<img src=\"for.png\" width=\"400px\"><br>\n",
    "先頭から半角で4つのスペースを与えて，操作・処理したい内容を指示する。ここでは，`print(i)`(`i`(数字)を表示)としたした。<br>\n",
    "これは，**for文**のパターンである。フローチャートが書けば下図のようになる。<br>\n",
    "<img src=\"kurikaeshi.png\" width=\"700px\"><br>\n",
    "\n",
    "重要な点を次にまとめる。<br>\n",
    "- シー-ケンス型のデータをある記号に代入(`in`)する。\n",
    "- `:`を忘れない。\n",
    "- 具体的な処理はブロックを作って指示する。ブロックと単位は，半角スペース4つ分であること。\n",
    "- 繰り返し練習する。"
   ]
  },
  {
   "cell_type": "code",
   "execution_count": null,
   "metadata": {},
   "outputs": [],
   "source": [
    "## for文の基本形をこのセルに書いて動作を確認してみよう。\n"
   ]
  },
  {
   "cell_type": "markdown",
   "metadata": {},
   "source": [
    "では，早速`dfT_dict`の処理を繰り返し行わせるプログラム書いてみよう。<br>\n",
    "その前に，もう一つ便利なことを示しておく。<br>\n",
    "for文の場合，基本形の`range()`の部分は，シーケンスであれば何でも入る(ほとんどのシーケンスデータを処理してくれる)。つまり，配列しているデータは何でもよいことになる。もちろんリストもその一つに含まれる。<br>\n",
    "ということは，ここの`dfT_dict`のキーをリスト化してそれをfor文に用いることができる。<br>\n",
    "`dfT_dict`のキーは，<br>\n",
    "```\n",
    "dfT_dict_key = [*dfT_dict]\n",
    "```\n",
    "<u>**新たに構文を作る必要はない！！**</u><br>\n",
    "<font size=5 color=red>プログラムの基本は，すでに存在するものをできるだけ再利用すること</font>\n"
   ]
  },
  {
   "cell_type": "markdown",
   "metadata": {},
   "source": [
    "`dfT_dict_key`を使ってfor文を書いてみると，\n",
    "\n",
    "```\n",
    "for i in dfT_dict_key:\n",
    "    newid = dfT_dict[i].pop('number')\n",
    "    dfT_dict[newid] = dfT_dict[i]\n",
    "    del dfT_dict[i]\n",
    "```\n",
    "となる。<br>\n",
    "変更できているか，\n",
    "```\n",
    "print(dfT_dict)\n",
    "```\n",
    "で確認する。"
   ]
  },
  {
   "cell_type": "code",
   "execution_count": null,
   "metadata": {},
   "outputs": [],
   "source": [
    "# 上のコードを書いて確認する\n"
   ]
  },
  {
   "cell_type": "code",
   "execution_count": null,
   "metadata": {},
   "outputs": [],
   "source": [
    "# "
   ]
  },
  {
   "cell_type": "markdown",
   "metadata": {},
   "source": [
    "そして，もともと存在したデータ`data_dict`と今回整理したデータ`dfT_dict_key`を合わせて新しいデータベースを作って完了となる。<br>\n",
    "要するに，`data_dict`と`dfT_dict_key`を結合すればよい。<br>\n",
    "辞書の結合や追加は`update`でできる。\n",
    "コードは，\n",
    "```\n",
    "data_dict.update(dfT_dict_key)\n",
    "```\n",
    "である。これは，`data_dict`に`dfT_dict_key`を合わせる,ということである。<br>\n",
    "したがって，\n",
    "data_dictの中身が増えているはずである！"
   ]
  },
  {
   "cell_type": "markdown",
   "metadata": {},
   "source": [
    "<font size=3>**辞書型のまとめ**</font><br>\n",
    "\n",
    "- 辞書型は汎用性に優れる。\n",
    "- for文はプログラム言語を勉強する上で基本的な構文である。その作用について理解しよう。\n",
    "- 利点・欠点を理解して使い方を勉強する。\n",
    "    "
   ]
  },
  {
   "cell_type": "markdown",
   "metadata": {},
   "source": [
    "おまけ<br>\n",
    "以上の内容を書いているとあることに気づく。`data_dict`に`dfT_dict_key`を結合する方法を。<br>\n",
    "そのコードを書いてみよう。<br>"
   ]
  },
  {
   "cell_type": "code",
   "execution_count": null,
   "metadata": {},
   "outputs": [],
   "source": [
    "import pandas as pd ## import は一回すればいいので不要かも。\n",
    "\n",
    "## 乱数の部分がnumberとしてキーになる。\n",
    "## 行名にして読みこんでおく。ここが変更するためのポイント。\n",
    "df = pd.read_csv('/Users/tumh/Desktop/personal.csv', index_col=6)\n",
    "## 列名を変えて，転置して，DataFrameから辞書型に変換すると，前にやったdfT_dict_keyの状態になる。\n",
    "df.columns = [\"name\", \"furigana\", \"sex\", \"birthday\", \"age\", \"birthplace\", \"password\"]\n",
    "df = df.T\n",
    "dfT_dict_key_1 = df.to_dict()\n",
    "print(dfT_dict_key_1)\n",
    "## 以上である。"
   ]
  },
  {
   "cell_type": "markdown",
   "metadata": {},
   "source": [
    "あれ？for文を使わないていいじゃないか！！<br>\n",
    "そうなんです，<font color=red>目的を達成するための方法は複数ある。</font>その中でも一番スマートな方法，わかりやすい方法を考案することがおもしろい。<br>\n",
    "結果は同じだが，その過程は様々である。これを考えるのが楽しい！！"
   ]
  },
  {
   "cell_type": "markdown",
   "metadata": {},
   "source": [
    "### 保存\n",
    "外部のファイルからデータを読み込むことができたので，それを保存してみよう。<br>\n",
    "一番手っ取り早いのが，`pickle`を使うことである。`pickle`はpythonに依存するデータ形式をすべて一時的に保存することができる。Pythonで扱えるデータは`pickle`を使って多分すべて保存できる。<br>\n",
    "早速やってみよう。<br>\n",
    "コードは2行で済み(importを含めばと3行)，\n",
    "```\n",
    "import pickle\n",
    "with open(ファイル名,'wb') as ff:\n",
    "    pickle.dump(オブジェクト, ff)\n",
    "```\n",
    "である。<br>\n",
    "下のセルを実行すると，カレントディレクトリに，ファイル名が現れているだろう。"
   ]
  },
  {
   "cell_type": "code",
   "execution_count": null,
   "metadata": {},
   "outputs": [],
   "source": [
    "import pickle\n",
    "with open(\"file.pickle\",\"wb\") as ff:\n",
    "    pickle.dump(data_dict,ff)"
   ]
  },
  {
   "cell_type": "markdown",
   "metadata": {},
   "source": [
    "# Pandasを使ったデータ整理\n",
    "データを読み込むために使用したPandasは，データを整理したり，簡単な集計作業をするときに非常に役に立つ。多くのデータは縦横に広がる2次元配列のデータであることが多い。PandasのDataFrameでは，2次元配列を操作する際に便利である。<br>\n",
    "ここでは，データを読み込み，簡単な集計やグラフを書けるようにする。\n",
    "\n",
    "- Pandasのread_csvを使って\"file2.csv\"の外部ファイルを読み込む\n",
    "- データの全体をみる\n",
    "- データを選択する\n",
    "\n",
    " * ilocを使って，特定のデータを取得する\n",
    " * 読み込んだデータの検索をかける\n"
   ]
  },
  {
   "cell_type": "markdown",
   "metadata": {},
   "source": [
    "#### Pandasのインポート\n",
    "Pandasを用いる際，一番最初に\n",
    "```\n",
    "import pandas as pd\n",
    "```\n",
    "と書く。"
   ]
  },
  {
   "cell_type": "code",
   "execution_count": null,
   "metadata": {},
   "outputs": [],
   "source": [
    "# import pandas as pdと，このセルに書く"
   ]
  },
  {
   "cell_type": "markdown",
   "metadata": {},
   "source": [
    "### 外部データの読み込み\n",
    "外部データの読み込みは，前に行ったので，ここではコードだけ書いておく。<br>\n",
    "ここでは，\"file2020.csv\"というファイルに存在するデータを読み込んで，適当な変数名(dat)に代入する。\n",
    "```\n",
    "dat = pd.read_csv(\"file2020.csv\")\n",
    "```\n",
    "pd.read_csv()を用いる際，様々な条件を与えて読み込むことができる。\n",
    "```\n",
    "pd.read_csv?\n",
    "```\n",
    "のように，`?`を入れると，メソッドや関数の説明が表示される。"
   ]
  },
  {
   "cell_type": "code",
   "execution_count": null,
   "metadata": {},
   "outputs": [],
   "source": [
    "## 詳細を知りたい人は，このセルを実行して説明を読む。もしくは，ググってみる。\n",
    "import pandas as pd\n",
    "pd.read_csv?\n"
   ]
  },
  {
   "cell_type": "code",
   "execution_count": null,
   "metadata": {},
   "outputs": [],
   "source": [
    "## 上の説明を読んでこのセルに必要なコードを書く。\n",
    "dat = pd.read_csv(\"/Users/tumh/Desktop/file2020.csv\")\n",
    "dat.head()"
   ]
  },
  {
   "cell_type": "markdown",
   "metadata": {},
   "source": [
    "#### 全体の把握\n",
    "データを読み込んだり，整理した後は，必ず全体をみなければならない。ここでは，`head()`や`tail()`で表の前後を確認した。その中身についてもう少し確認する。<br>\n",
    "ここでは，名前やフリガナ，生年月日を除いてその属性を確認してみよう。\n",
    "はじめに，`discribe()`を用いて，\n",
    "```\n",
    "dat.describe()\n",
    "```\n",
    "と書く。数値データであれば，平均や四分位数などが自動で出力される。<br>\n",
    "データが文字の場合は，カウントしたり，どのようなデータが含まれるのか確認する。<br>\n",
    "`value_counts()`を使うと，\n",
    "bloodtypeの場合，\n",
    "```\n",
    "dat[\"bloodtype\"].value_counts()\n",
    "```\n",
    "birthplaceの場合\n",
    "```\n",
    "dat[\"birthplace\"].value_counts()\n",
    "```\n",
    "sexの場合，\n",
    "```\n",
    "dat[\"sex\"].value_counts()\n",
    "```\n",
    "と列名を変えるだけで，取得することができる。<br>\n",
    "これらは全体を把握するための一例である。その他にも様々なまとめ方があるので，データの内容に合わせた対応をしてほしい。<br>\n",
    "\n",
    "では，ここで書いているコードを実際に動かして動作を確認してみよう。"
   ]
  },
  {
   "cell_type": "code",
   "execution_count": null,
   "metadata": {},
   "outputs": [],
   "source": [
    "## discribe()を用いる\n"
   ]
  },
  {
   "cell_type": "code",
   "execution_count": null,
   "metadata": {},
   "outputs": [],
   "source": [
    "## value_counts()を用いて，bloodtypeを\n"
   ]
  },
  {
   "cell_type": "code",
   "execution_count": null,
   "metadata": {},
   "outputs": [],
   "source": [
    "## value_counts()を用いて，birthplaceを\n"
   ]
  },
  {
   "cell_type": "code",
   "execution_count": null,
   "metadata": {},
   "outputs": [],
   "source": [
    "## value_counts()を用いて，sexを\n"
   ]
  },
  {
   "cell_type": "markdown",
   "metadata": {},
   "source": [
    "### データの選択\n",
    "リストのように，特定のデータのみにアクセスしたいとき，様々な方法があるが，ここでは`iloc`を使う。<br>\n",
    "#### nameだけを取り出したいとき\n",
    "Pythonでインデックスをカウントするときは，0,1,2,$\\dots$と，`0`から数えるという決まりがあった。PandasのDataFrameでも同じように扱わなければならず，nameは0列目に存在する。<br>\n",
    "ということは，datの0列目をすべて取得(表示)するコードは，\n",
    "```\n",
    "dat.iloc[:,0]\n",
    "```\n",
    "となる。<br>\n",
    "一番最初に表示される名前を取り出したいときは，\n",
    "```\n",
    "dat.iloc[0,0]\n",
    "```\n",
    "となる。<br>\n",
    "では，上から順番に1から数えるとして，10から20番目の人たちの名前を抽出したいときは，\n",
    "```\n",
    "dat.iloc[9:20,0]\n",
    "```\n",
    "となる。<br>\n",
    "上から25番目までで，名前から性別の範囲を取得したい場合，\n",
    "```\n",
    "dat.iloc[:25,:3]\n",
    "```\n",
    "と書く。<br>\n",
    "では，\n",
    "```\n",
    "dat.iloc[3:8,[0,4]]\n",
    "```\n",
    "のように書くと，どのようなデータが取得できるだろうか？\n",
    "```\n",
    "dat.iloc[:10,[2,4]]\n",
    "```\n",
    "のように書くと，どのようなデータが取得できるだろうか？\n",
    "```\n",
    "dat.iloc[100:,:2]\n",
    "```\n",
    "と書くとどうだろうか？<br>\n",
    "\n",
    "それぞれセルに書いて動作を確認してみよう。"
   ]
  },
  {
   "cell_type": "markdown",
   "metadata": {},
   "source": [
    "#### データの検索\n",
    "どこに必要なデータが存在しているのかわからない。その場合は検索してみよう。<br>\n",
    "一つの条件で検索したり，複数の条件で検索したりとケースによって検索の内容が変わってくる。<br>\n",
    "ここでは，一つの条件で検索する方法，複数の条件で検索する方法について，それらのコードを書いてみよう。\n",
    "`query()`というメソッドを使う。<br>\n",
    "例えば，このデータの中に，10才未満の人だけを集めたいとき，\n",
    "```\n",
    "dat.query('age<10')\n",
    "```\n",
    "とし，10才以上30才未満のデータを抽出したいとき，\n",
    "```\n",
    "dat.query('10<=age<30')\n",
    "```\n",
    "として，検索できる。<br>\n",
    "10才以上30才未満以外のデータは，\n",
    "```\n",
    "dat.query('not 10<=age<30')\n",
    "```\n",
    "とする。\n",
    "\n",
    "次に，複数の条件で検索する場合の例を示す。<br>\n",
    "50才代でO型の人は，\n",
    "```\n",
    "dat.query(\"50<=age<60 & bloodtype=='O'\")\n",
    "```\n",
    "となり，同じ年代でO型以外の人は，\n",
    "```\n",
    "dat.query(\"50<=age<60 & bloodtype!='O'\")\n",
    "```\n",
    "となる。さらに，和歌山県出身，20〜60才で，0型以外の人は，\n",
    "```\n",
    "dat.query(\"20<=age<=60 & bloodtype!='O' & birthplace=='和歌山県'\")\n",
    "```\n",
    "となる。\n",
    "\n",
    "このように比較演算子と列名やそこに含むデータを組み合わせることで独自の検索機能を持たせることができる。<br>\n",
    "では，これらの動作を下に新たにセルを追加して，確認してみよう。\n"
   ]
  },
  {
   "cell_type": "markdown",
   "metadata": {},
   "source": [
    "<font size=5 color=blue >問題6</font><br>\n",
    "1. mydという変数名にfile2020.csvのデータを代入せよ。\n",
    "1. 変数名mydの最初の部分を表示せよ。\n",
    "1. 変数名mydのうち，最初から10行目以降，20行の計11行　　　のデータを表示せよ。\n",
    "1. 近畿2府4県のデータは何件ずつ含まれるか求めよ。\n",
    "\n",
    "以上，Pythonコードを下のセルに書いてみよう。必要に応じてセルは追加せよ。"
   ]
  },
  {
   "cell_type": "code",
   "execution_count": null,
   "metadata": {},
   "outputs": [],
   "source": []
  },
  {
   "cell_type": "markdown",
   "metadata": {},
   "source": [
    "#### まとめ\n",
    "Pandasの汎用性は驚異である。ここで紹介したものはほんの一部である。<br>\n",
    "将来必要なデータ解析スキルを助けるものとなるだろう。<br>\n",
    "ここまでできれば，ググることで自分の技にすることができる。"
   ]
  },
  {
   "cell_type": "markdown",
   "metadata": {},
   "source": []
  }
 ],
 "metadata": {
  "kernelspec": {
   "display_name": "Python 3",
   "language": "python",
   "name": "python3"
  },
  "language_info": {
   "codemirror_mode": {
    "name": "ipython",
    "version": 3
   },
   "file_extension": ".py",
   "mimetype": "text/x-python",
   "name": "python",
   "nbconvert_exporter": "python",
   "pygments_lexer": "ipython3",
   "version": "3.7.7"
  }
 },
 "nbformat": 4,
 "nbformat_minor": 4
}
