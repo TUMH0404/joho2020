{
  "nbformat": 4,
  "nbformat_minor": 0,
  "metadata": {
    "colab": {
      "name": "LatterTerm_01.ipynb",
      "provenance": [],
      "collapsed_sections": [
        "ofI4HrWcYIf0",
        "hzB65lx_YMoy",
        "O7Q2UjVKuP90"
      ],
      "mount_file_id": "1vfsWUvrV2Hv2lCAdvWNWb_1V-G79qNxE",
      "authorship_tag": "ABX9TyNKVtVctsGHHmjGaFKIvN9/",
      "include_colab_link": true
    },
    "kernelspec": {
      "name": "python3",
      "display_name": "Python 3"
    }
  },
  "cells": [
    {
      "cell_type": "markdown",
      "metadata": {
        "id": "view-in-github",
        "colab_type": "text"
      },
      "source": [
        "<a href=\"https://colab.research.google.com/github/TUMH0404/joho2020/blob/master/LatterTerm_01.ipynb\" target=\"_parent\"><img src=\"https://colab.research.google.com/assets/colab-badge.svg\" alt=\"Open In Colab\"/></a>"
      ]
    },
    {
      "cell_type": "markdown",
      "metadata": {
        "id": "Z55zkvKdsGRP"
      },
      "source": [
        "# 表をPythonコードで読みこむために必要なこと\n"
      ]
    },
    {
      "cell_type": "markdown",
      "metadata": {
        "id": "DWfvqNMZsgOu"
      },
      "source": [
        "[COP](https://raw.githubusercontent.com/TUMH0404/kinematicstraining/master/samplecop.csv)の表をPythonで読み込んで図示するまでの操作等を体験してみよう。"
      ]
    },
    {
      "cell_type": "markdown",
      "metadata": {
        "id": "wGuLMctFsPZ6"
      },
      "source": [
        "## 文字コードについて\n",
        "* `utf-8`と`shift-JIS`の違い\n",
        "* 文字コードを指定するときに用いるコード`encoding`、`decoding`\n",
        "* [utf-8のファイル](https://raw.githubusercontent.com/TUMH0404/kinematicstraining/master/samplecoputf8.csv)と[shift-JISのファイル](https://raw.githubusercontent.com/TUMH0404/kinematicstraining/master/samplecop.csv)を比較してみよう。\n",
        "* 二つのファイルを読み込んでみよう。"
      ]
    },
    {
      "cell_type": "markdown",
      "metadata": {
        "id": "sTpLiarfw49V"
      },
      "source": [
        "#### open()を使う"
      ]
    },
    {
      "cell_type": "markdown",
      "metadata": {
        "id": "ofI4HrWcYIf0"
      },
      "source": [
        "#### 読み込み"
      ]
    },
    {
      "cell_type": "code",
      "metadata": {
        "id": "VTR1YtDlyZ_L"
      },
      "source": [
        "with open(\"https://raw.githubusercontent.com/TUMH0404/data/master/COPrawdata/1204_1.csv\",\"r\",encoding=\"shift-JIS\") as d:\n",
        "  dat = d.read()"
      ],
      "execution_count": null,
      "outputs": []
    },
    {
      "cell_type": "markdown",
      "metadata": {
        "id": "hzB65lx_YMoy"
      },
      "source": [
        "#### 書き出し"
      ]
    },
    {
      "cell_type": "code",
      "metadata": {
        "id": "aWaJnQMfYQKk"
      },
      "source": [
        "with open(\"/content/drive/My Drive/outputsampleutf8.csv\",\"w\",encoding=\"utf-8\") as d:\n",
        "  d.write(dat)"
      ],
      "execution_count": null,
      "outputs": []
    },
    {
      "cell_type": "markdown",
      "metadata": {
        "id": "VUNuwn_uYGMG"
      },
      "source": [
        ""
      ]
    },
    {
      "cell_type": "markdown",
      "metadata": {
        "id": "O7Q2UjVKuP90"
      },
      "source": [
        "## pandasを用いた読み込み\n"
      ]
    },
    {
      "cell_type": "code",
      "metadata": {
        "id": "52KNoA7SZf4Q"
      },
      "source": [
        "# ライブラリのインポート(pandas)\n"
      ],
      "execution_count": null,
      "outputs": []
    },
    {
      "cell_type": "code",
      "metadata": {
        "id": "Xh6YUNjfb8GN"
      },
      "source": [
        "# dataの読み込みその1\n",
        "## データアスクセス先\n",
        "url1 = \"https://raw.githubusercontent.com/TUMH0404/kinematicstraining/master/samplecop.csv\"\n"
      ],
      "execution_count": null,
      "outputs": []
    },
    {
      "cell_type": "code",
      "metadata": {
        "id": "Ip2j_YzRcEMo"
      },
      "source": [
        "# dataの読み込みその2\n",
        "## データアスクセス先\n",
        "url2 = \"https://raw.githubusercontent.com/TUMH0404/kinematicstraining/master/samplecoputf8.csv\"\n"
      ],
      "execution_count": null,
      "outputs": []
    },
    {
      "cell_type": "markdown",
      "metadata": {
        "id": "SMUg_RMluSC9"
      },
      "source": [
        "## 必要な部分の抜粋とndarrayへの変更\n"
      ]
    },
    {
      "cell_type": "code",
      "metadata": {
        "id": "k6mRHG-FaUI8"
      },
      "source": [
        "# ライブラリのインポート(numpy)\n"
      ],
      "execution_count": null,
      "outputs": []
    },
    {
      "cell_type": "code",
      "metadata": {
        "id": "Svr1GHfXadMF"
      },
      "source": [
        "# データの最初の10行を表示\n"
      ],
      "execution_count": null,
      "outputs": []
    },
    {
      "cell_type": "code",
      "metadata": {
        "id": "e7roA4Rzakkq"
      },
      "source": [
        "# データの最後の10行を表示\n"
      ],
      "execution_count": null,
      "outputs": []
    },
    {
      "cell_type": "code",
      "metadata": {
        "id": "C8xCVV6jap_y"
      },
      "source": [
        "# 計算に用いる部分を抽出\n"
      ],
      "execution_count": null,
      "outputs": []
    },
    {
      "cell_type": "code",
      "metadata": {
        "id": "1jbDo7QDa83-"
      },
      "source": [
        "# 前で抽出した部分のndarray化\n"
      ],
      "execution_count": null,
      "outputs": []
    },
    {
      "cell_type": "code",
      "metadata": {
        "id": "7n88SP9cbK9e"
      },
      "source": [
        "# データを数値(flaot)へ変換\n"
      ],
      "execution_count": null,
      "outputs": []
    },
    {
      "cell_type": "code",
      "metadata": {
        "id": "UdnIzdiQbolF"
      },
      "source": [
        ""
      ],
      "execution_count": null,
      "outputs": []
    },
    {
      "cell_type": "markdown",
      "metadata": {
        "id": "fZFNe9q_uT-q"
      },
      "source": [
        "## matplolibによる可視化\n"
      ]
    },
    {
      "cell_type": "code",
      "metadata": {
        "id": "2PWHuulGd856"
      },
      "source": [
        "# ライブラリのインポート(matplotlib.pyplot)\n",
        "\n"
      ],
      "execution_count": null,
      "outputs": []
    },
    {
      "cell_type": "markdown",
      "metadata": {
        "id": "uD2fXDPBuV4S"
      },
      "source": [
        "## plot\n"
      ]
    },
    {
      "cell_type": "code",
      "metadata": {
        "id": "sMzVqDvWd60q"
      },
      "source": [
        "#plot関数を使った作図\n"
      ],
      "execution_count": null,
      "outputs": []
    },
    {
      "cell_type": "markdown",
      "metadata": {
        "id": "BX4L21oWuYG-"
      },
      "source": [
        "## scatter\n"
      ]
    },
    {
      "cell_type": "code",
      "metadata": {
        "id": "uefu7xwAe4FD"
      },
      "source": [
        "# scatterを使った作図\n"
      ],
      "execution_count": null,
      "outputs": []
    },
    {
      "cell_type": "markdown",
      "metadata": {
        "id": "3N3Fgpk9uaEo"
      },
      "source": [
        "## 図を整える\n"
      ]
    },
    {
      "cell_type": "code",
      "metadata": {
        "id": "gBnD2MIzfMcD"
      },
      "source": [
        "## 作図必須コード\n",
        "\n",
        "\n",
        "\n",
        "##　図を整理するためのコード\n",
        "\n"
      ],
      "execution_count": null,
      "outputs": []
    },
    {
      "cell_type": "markdown",
      "metadata": {
        "id": "NgsjAExqucL2"
      },
      "source": [
        "## 図の保存\n"
      ]
    },
    {
      "cell_type": "code",
      "metadata": {
        "id": "8kQKrznpf_r9"
      },
      "source": [
        "## savefig関数を使ってpng形式で保存\n",
        "\n",
        "\n"
      ],
      "execution_count": null,
      "outputs": []
    },
    {
      "cell_type": "markdown",
      "metadata": {
        "id": "RTUkTwVXlpMr"
      },
      "source": [
        "#### subplots関数"
      ]
    },
    {
      "cell_type": "markdown",
      "metadata": {
        "id": "Pa3okd36udxf"
      },
      "source": [
        "## numpyを用いたデータの操作"
      ]
    },
    {
      "cell_type": "markdown",
      "metadata": {
        "id": "M4g_fPCf-boN"
      },
      "source": [
        "## 2次元配列の作成\n",
        "2x2の単位行列を作ってみよう。"
      ]
    },
    {
      "cell_type": "markdown",
      "metadata": {
        "id": "jEomHcaY-itn"
      },
      "source": [
        "#### 直接入力\n"
      ]
    },
    {
      "cell_type": "markdown",
      "metadata": {
        "id": "Ay70cUXr-07g"
      },
      "source": [
        "#### numpy.eye"
      ]
    },
    {
      "cell_type": "markdown",
      "metadata": {
        "id": "ZiRlRcJT_NWs"
      },
      "source": [
        "#### numpy.identity"
      ]
    },
    {
      "cell_type": "markdown",
      "metadata": {
        "id": "OP7Phcbb_m62"
      },
      "source": [
        "### numpyを用いた2次元配列の作り方"
      ]
    },
    {
      "cell_type": "markdown",
      "metadata": {
        "id": "QzoAYPetOFQk"
      },
      "source": [
        " * ベクトルとは？\n",
        " * ベクトルを作る\n",
        "\n",
        "   - 等差数列の生成(`numpy.linspace()、numpy.arange()`)\n",
        "   - 正規分布の乱数生成(`numpy.random.rand()`)\n",
        "   - 一様分布の乱数生成(`numpy.random.randn()`)\n"
      ]
    },
    {
      "cell_type": "markdown",
      "metadata": {
        "id": "U3wAw0YSoJGM"
      },
      "source": [
        " * 形を変える\n",
        "  - reshape"
      ]
    },
    {
      "cell_type": "markdown",
      "metadata": {
        "id": "BYspTO3UhP3A"
      },
      "source": [
        " * 転置 "
      ]
    }
  ]
}