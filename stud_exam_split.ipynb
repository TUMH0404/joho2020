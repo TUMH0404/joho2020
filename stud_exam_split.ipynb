{
  "nbformat": 4,
  "nbformat_minor": 0,
  "metadata": {
    "colab": {
      "name": "stud_exam_split.ipynb",
      "provenance": [],
      "collapsed_sections": [],
      "include_colab_link": true
    },
    "kernelspec": {
      "display_name": "Python 3",
      "language": "python",
      "name": "python3"
    },
    "language_info": {
      "codemirror_mode": {
        "name": "ipython",
        "version": 3
      },
      "file_extension": ".py",
      "mimetype": "text/x-python",
      "name": "python",
      "nbconvert_exporter": "python",
      "pygments_lexer": "ipython3",
      "version": "3.7.9"
    }
  },
  "cells": [
    {
      "cell_type": "markdown",
      "metadata": {
        "id": "view-in-github",
        "colab_type": "text"
      },
      "source": [
        "<a href=\"https://colab.research.google.com/github/TUMH0404/joho2020/blob/master/stud_exam_split.ipynb\" target=\"_parent\"><img src=\"https://colab.research.google.com/assets/colab-badge.svg\" alt=\"Open In Colab\"/></a>"
      ]
    },
    {
      "cell_type": "code",
      "metadata": {
        "id": "ObEhzuQz9gx0",
        "outputId": "3b170a8c-c59a-4447-95c3-7646eac68457",
        "colab": {
          "base_uri": "https://localhost:8080/",
          "height": 34
        }
      },
      "source": [
        "from google.colab import drive\n",
        "drive.mount('/content/drive')"
      ],
      "execution_count": null,
      "outputs": [
        {
          "output_type": "stream",
          "text": [
            "Mounted at /content/drive\n"
          ],
          "name": "stdout"
        }
      ]
    },
    {
      "cell_type": "code",
      "metadata": {
        "id": "G39w9QM1UvK8",
        "outputId": "c4126b31-c464-41a5-bc9e-7364300fdd42",
        "colab": {
          "base_uri": "https://localhost:8080/",
          "height": 34
        }
      },
      "source": [
        "!pip install PyPDF2\n",
        "import PyPDF2\n",
        "import glob\n",
        "import shutil\n",
        "import re\n",
        "import os\n",
        "\n",
        "mainfolder = \"/content/drive/My Drive/検査評価実習Ⅰ/Project2020/\""
      ],
      "execution_count": null,
      "outputs": [
        {
          "output_type": "stream",
          "text": [
            "Requirement already satisfied: PyPDF2 in /usr/local/lib/python3.6/dist-packages (1.26.0)\n"
          ],
          "name": "stdout"
        }
      ]
    },
    {
      "cell_type": "code",
      "metadata": {
        "id": "v17Un79VV1Ve"
      },
      "source": [
        "def split_pdf_pages(src_path, dst_basepath,title,studlist,num=65):\n",
        "    src_pdf = PyPDF2.PdfFileReader(src_path)\n",
        "    pages= src_pdf.getNumPages()\n",
        "    if pages+len(studlist)==num:\n",
        "      n=1\n",
        "      k=0\n",
        "      for i in range(num):\n",
        "        if i+1 in studlist:\n",
        "          n+=1\n",
        "          k+=1\n",
        "          continue\n",
        "        else:\n",
        "          dst_pdf = PyPDF2.PdfFileWriter()\n",
        "          dst_pdf.addPage(src_pdf.getPage(i-k))\n",
        "          with open(f\"{dst_basepath}202R{str(n).zfill(3)}_{title}.pdf\", 'wb') as f:\n",
        "              dst_pdf.write(f)\n",
        "              #files.download(f\"{dst_basepath}202R{str(n).zfill(3)}_{title}.pdf\")\n",
        "\n",
        "          n+=1\n",
        "    else:\n",
        "      print(f\"ページ数:{pages}, 総数が{num}になりません\")\n"
      ],
      "execution_count": null,
      "outputs": []
    },
    {
      "cell_type": "code",
      "metadata": {
        "id": "fjpZ3aZp2Y92"
      },
      "source": [
        "def includingpdffile(filename):\n",
        "  ff = re.search(\"^\\d{3}[RS]\\d{3}.*[pdf]\", os.path.basename(filename) ) \n",
        "  \n",
        "  if not ff==None:\n",
        "    ff0 = ff.group()\n",
        "    studid = ff0.split(\"_\")[0]\n",
        "\n",
        "    \n",
        "    #if len(studid)==7:\n",
        "    files = glob.glob(mainfolder+\"*\")\n",
        "    # print(studid,files)\n",
        "    for n in files:\n",
        "      rr = re.search(f\".*{studid}$\",n)\n",
        "      if not rr==None :\n",
        "        fold = rr.group()\n",
        "        #print(\"fold:\"+fold)\n",
        "        aa2 = [os.path.basename(a) for a in glob.glob(mainfolder+fold+\"*.pdf\")]\n",
        "        ja = os.path.basename(filename) in aa2\n",
        "        print(ja)\n",
        "        \n",
        "        if ja:\n",
        "          print(\"同じファイルがあります\")\n",
        "          # break\n",
        "        else:\n",
        "          shutil.move(filename, fold+\"/\")\n",
        "          print(filename, fold)\n",
        "          print(\"変更しました\")\n",
        "          # break\n",
        "        break\n",
        "      \n",
        "      else:\n",
        "        os.makedirs(mainfolder+studid,exist_ok=True)\n",
        "        print(f\"{studid}のフォルダを追加しました\")\n",
        "\n",
        "        shutil.move(filename, mainfolder+studid+\"/\")\n",
        "        print(\"変更しました\\n\")\n",
        "        break\n",
        "        \n",
        "\n"
      ],
      "execution_count": null,
      "outputs": []
    },
    {
      "cell_type": "code",
      "metadata": {
        "id": "zQ7aQtMAZmlH",
        "outputId": "3574701f-ba17-486f-b320-30c9b3ab7d3b",
        "colab": {
          "base_uri": "https://localhost:8080/",
          "height": 54
        }
      },
      "source": [
        "with open(\"/content/drive/My Drive/検査評価実習Ⅰ/Project2020/list.json\",\"r\") as d:\n",
        "  dat = json.load(d)\n",
        "\n",
        "print(dat)"
      ],
      "execution_count": null,
      "outputs": [
        {
          "output_type": "stream",
          "text": [
            "{'t01': {'name': 'checked_1015確認テスト.pdf', 'off': [33, 38], 'title': '1015確認テスト'}, 't02': {'name': 'checked_1022確認テスト.pdf', 'off': [6, 11, 21, 38, 59], 'title': '1022確認テスト'}}\n"
          ],
          "name": "stdout"
        }
      ]
    },
    {
      "cell_type": "code",
      "metadata": {
        "id": "Iu9fEFONcQqd"
      },
      "source": [
        ""
      ],
      "execution_count": null,
      "outputs": []
    },
    {
      "cell_type": "code",
      "metadata": {
        "id": "bJXfJUUhcSVL",
        "outputId": "32cb90b4-2f0a-45ef-c858-8968dcfb6c21",
        "colab": {
          "base_uri": "https://localhost:8080/",
          "height": 34
        }
      },
      "source": [
        "stud"
      ],
      "execution_count": null,
      "outputs": [
        {
          "output_type": "execute_result",
          "data": {
            "text/plain": [
              "[6, 11, 21, 38, 59]"
            ]
          },
          "metadata": {
            "tags": []
          },
          "execution_count": 119
        }
      ]
    },
    {
      "cell_type": "code",
      "metadata": {
        "id": "k9IHtNOr9_L5",
        "outputId": "497b4301-2898-4da9-c76f-286b92a7c078",
        "colab": {
          "base_uri": "https://localhost:8080/",
          "height": 1000
        }
      },
      "source": [
        "Number = \"t01\"\n",
        "split_pdf_pages(f'{mainfolder}/{dat[Number][\"name\"]}', f\"{mainfolder}\",dat[Number][\"title\"],dat[Number][\"off\"],num=65)\n",
        "file = glob.glob(mainfolder+\"*.pdf\")\n",
        "print(file)\n",
        "for n in file:\n",
        "  includingpdffile(n)\n",
        "  "
      ],
      "execution_count": null,
      "outputs": [
        {
          "output_type": "stream",
          "text": [
            "['/content/drive/My Drive/検査評価実習Ⅰ/Project2020/checked_1015確認テスト.pdf', '/content/drive/My Drive/検査評価実習Ⅰ/Project2020/checked_1022確認テスト.pdf', '/content/drive/My Drive/検査評価実習Ⅰ/Project2020/202R001_1015確認テスト.pdf', '/content/drive/My Drive/検査評価実習Ⅰ/Project2020/202R002_1015確認テスト.pdf', '/content/drive/My Drive/検査評価実習Ⅰ/Project2020/202R003_1015確認テスト.pdf', '/content/drive/My Drive/検査評価実習Ⅰ/Project2020/202R004_1015確認テスト.pdf', '/content/drive/My Drive/検査評価実習Ⅰ/Project2020/202R005_1015確認テスト.pdf', '/content/drive/My Drive/検査評価実習Ⅰ/Project2020/202R006_1015確認テスト.pdf', '/content/drive/My Drive/検査評価実習Ⅰ/Project2020/202R007_1015確認テスト.pdf', '/content/drive/My Drive/検査評価実習Ⅰ/Project2020/202R008_1015確認テスト.pdf', '/content/drive/My Drive/検査評価実習Ⅰ/Project2020/202R009_1015確認テスト.pdf', '/content/drive/My Drive/検査評価実習Ⅰ/Project2020/202R010_1015確認テスト.pdf', '/content/drive/My Drive/検査評価実習Ⅰ/Project2020/202R011_1015確認テスト.pdf', '/content/drive/My Drive/検査評価実習Ⅰ/Project2020/202R012_1015確認テスト.pdf', '/content/drive/My Drive/検査評価実習Ⅰ/Project2020/202R013_1015確認テスト.pdf', '/content/drive/My Drive/検査評価実習Ⅰ/Project2020/202R014_1015確認テスト.pdf', '/content/drive/My Drive/検査評価実習Ⅰ/Project2020/202R015_1015確認テスト.pdf', '/content/drive/My Drive/検査評価実習Ⅰ/Project2020/202R016_1015確認テスト.pdf', '/content/drive/My Drive/検査評価実習Ⅰ/Project2020/202R017_1015確認テスト.pdf', '/content/drive/My Drive/検査評価実習Ⅰ/Project2020/202R018_1015確認テスト.pdf', '/content/drive/My Drive/検査評価実習Ⅰ/Project2020/202R019_1015確認テスト.pdf', '/content/drive/My Drive/検査評価実習Ⅰ/Project2020/202R020_1015確認テスト.pdf', '/content/drive/My Drive/検査評価実習Ⅰ/Project2020/202R021_1015確認テスト.pdf', '/content/drive/My Drive/検査評価実習Ⅰ/Project2020/202R022_1015確認テスト.pdf', '/content/drive/My Drive/検査評価実習Ⅰ/Project2020/202R023_1015確認テスト.pdf', '/content/drive/My Drive/検査評価実習Ⅰ/Project2020/202R024_1015確認テスト.pdf', '/content/drive/My Drive/検査評価実習Ⅰ/Project2020/202R025_1015確認テスト.pdf', '/content/drive/My Drive/検査評価実習Ⅰ/Project2020/202R026_1015確認テスト.pdf', '/content/drive/My Drive/検査評価実習Ⅰ/Project2020/202R027_1015確認テスト.pdf', '/content/drive/My Drive/検査評価実習Ⅰ/Project2020/202R028_1015確認テスト.pdf', '/content/drive/My Drive/検査評価実習Ⅰ/Project2020/202R029_1015確認テスト.pdf', '/content/drive/My Drive/検査評価実習Ⅰ/Project2020/202R030_1015確認テスト.pdf', '/content/drive/My Drive/検査評価実習Ⅰ/Project2020/202R031_1015確認テスト.pdf', '/content/drive/My Drive/検査評価実習Ⅰ/Project2020/202R032_1015確認テスト.pdf', '/content/drive/My Drive/検査評価実習Ⅰ/Project2020/202R034_1015確認テスト.pdf', '/content/drive/My Drive/検査評価実習Ⅰ/Project2020/202R035_1015確認テスト.pdf', '/content/drive/My Drive/検査評価実習Ⅰ/Project2020/202R036_1015確認テスト.pdf', '/content/drive/My Drive/検査評価実習Ⅰ/Project2020/202R037_1015確認テスト.pdf', '/content/drive/My Drive/検査評価実習Ⅰ/Project2020/202R039_1015確認テスト.pdf', '/content/drive/My Drive/検査評価実習Ⅰ/Project2020/202R040_1015確認テスト.pdf', '/content/drive/My Drive/検査評価実習Ⅰ/Project2020/202R041_1015確認テスト.pdf', '/content/drive/My Drive/検査評価実習Ⅰ/Project2020/202R042_1015確認テスト.pdf', '/content/drive/My Drive/検査評価実習Ⅰ/Project2020/202R043_1015確認テスト.pdf', '/content/drive/My Drive/検査評価実習Ⅰ/Project2020/202R044_1015確認テスト.pdf', '/content/drive/My Drive/検査評価実習Ⅰ/Project2020/202R045_1015確認テスト.pdf', '/content/drive/My Drive/検査評価実習Ⅰ/Project2020/202R046_1015確認テスト.pdf', '/content/drive/My Drive/検査評価実習Ⅰ/Project2020/202R047_1015確認テスト.pdf', '/content/drive/My Drive/検査評価実習Ⅰ/Project2020/202R048_1015確認テスト.pdf', '/content/drive/My Drive/検査評価実習Ⅰ/Project2020/202R049_1015確認テスト.pdf', '/content/drive/My Drive/検査評価実習Ⅰ/Project2020/202R050_1015確認テスト.pdf', '/content/drive/My Drive/検査評価実習Ⅰ/Project2020/202R051_1015確認テスト.pdf', '/content/drive/My Drive/検査評価実習Ⅰ/Project2020/202R052_1015確認テスト.pdf', '/content/drive/My Drive/検査評価実習Ⅰ/Project2020/202R053_1015確認テスト.pdf', '/content/drive/My Drive/検査評価実習Ⅰ/Project2020/202R054_1015確認テスト.pdf', '/content/drive/My Drive/検査評価実習Ⅰ/Project2020/202R055_1015確認テスト.pdf', '/content/drive/My Drive/検査評価実習Ⅰ/Project2020/202R056_1015確認テスト.pdf', '/content/drive/My Drive/検査評価実習Ⅰ/Project2020/202R057_1015確認テスト.pdf', '/content/drive/My Drive/検査評価実習Ⅰ/Project2020/202R058_1015確認テスト.pdf', '/content/drive/My Drive/検査評価実習Ⅰ/Project2020/202R059_1015確認テスト.pdf', '/content/drive/My Drive/検査評価実習Ⅰ/Project2020/202R060_1015確認テスト.pdf', '/content/drive/My Drive/検査評価実習Ⅰ/Project2020/202R061_1015確認テスト.pdf', '/content/drive/My Drive/検査評価実習Ⅰ/Project2020/202R062_1015確認テスト.pdf', '/content/drive/My Drive/検査評価実習Ⅰ/Project2020/202R063_1015確認テスト.pdf', '/content/drive/My Drive/検査評価実習Ⅰ/Project2020/202R064_1015確認テスト.pdf', '/content/drive/My Drive/検査評価実習Ⅰ/Project2020/202R065_1015確認テスト.pdf']\n",
            "202R001のフォルダを追加しました\n",
            "変更しました\n",
            "\n",
            "202R002のフォルダを追加しました\n",
            "変更しました\n",
            "\n",
            "202R003のフォルダを追加しました\n",
            "変更しました\n",
            "\n",
            "202R004のフォルダを追加しました\n",
            "変更しました\n",
            "\n",
            "202R005のフォルダを追加しました\n",
            "変更しました\n",
            "\n",
            "202R006のフォルダを追加しました\n",
            "変更しました\n",
            "\n",
            "202R007のフォルダを追加しました\n",
            "変更しました\n",
            "\n",
            "202R008のフォルダを追加しました\n",
            "変更しました\n",
            "\n",
            "202R009のフォルダを追加しました\n",
            "変更しました\n",
            "\n",
            "202R010のフォルダを追加しました\n",
            "変更しました\n",
            "\n",
            "202R011のフォルダを追加しました\n",
            "変更しました\n",
            "\n",
            "202R012のフォルダを追加しました\n",
            "変更しました\n",
            "\n",
            "202R013のフォルダを追加しました\n",
            "変更しました\n",
            "\n",
            "202R014のフォルダを追加しました\n",
            "変更しました\n",
            "\n",
            "202R015のフォルダを追加しました\n",
            "変更しました\n",
            "\n",
            "202R016のフォルダを追加しました\n",
            "変更しました\n",
            "\n",
            "202R017のフォルダを追加しました\n",
            "変更しました\n",
            "\n",
            "202R018のフォルダを追加しました\n",
            "変更しました\n",
            "\n",
            "202R019のフォルダを追加しました\n",
            "変更しました\n",
            "\n",
            "202R020のフォルダを追加しました\n",
            "変更しました\n",
            "\n",
            "202R021のフォルダを追加しました\n",
            "変更しました\n",
            "\n",
            "202R022のフォルダを追加しました\n",
            "変更しました\n",
            "\n",
            "202R023のフォルダを追加しました\n",
            "変更しました\n",
            "\n",
            "202R024のフォルダを追加しました\n",
            "変更しました\n",
            "\n",
            "202R025のフォルダを追加しました\n",
            "変更しました\n",
            "\n",
            "202R026のフォルダを追加しました\n",
            "変更しました\n",
            "\n",
            "202R027のフォルダを追加しました\n",
            "変更しました\n",
            "\n",
            "202R028のフォルダを追加しました\n",
            "変更しました\n",
            "\n",
            "202R029のフォルダを追加しました\n",
            "変更しました\n",
            "\n",
            "202R030のフォルダを追加しました\n",
            "変更しました\n",
            "\n",
            "202R031のフォルダを追加しました\n",
            "変更しました\n",
            "\n",
            "202R032のフォルダを追加しました\n",
            "変更しました\n",
            "\n",
            "202R034のフォルダを追加しました\n",
            "変更しました\n",
            "\n",
            "202R035のフォルダを追加しました\n",
            "変更しました\n",
            "\n",
            "202R036のフォルダを追加しました\n",
            "変更しました\n",
            "\n",
            "202R037のフォルダを追加しました\n",
            "変更しました\n",
            "\n",
            "202R039のフォルダを追加しました\n",
            "変更しました\n",
            "\n",
            "202R040のフォルダを追加しました\n",
            "変更しました\n",
            "\n",
            "202R041のフォルダを追加しました\n",
            "変更しました\n",
            "\n",
            "202R042のフォルダを追加しました\n",
            "変更しました\n",
            "\n",
            "202R043のフォルダを追加しました\n",
            "変更しました\n",
            "\n",
            "202R044のフォルダを追加しました\n",
            "変更しました\n",
            "\n",
            "202R045のフォルダを追加しました\n",
            "変更しました\n",
            "\n",
            "202R046のフォルダを追加しました\n",
            "変更しました\n",
            "\n",
            "202R047のフォルダを追加しました\n",
            "変更しました\n",
            "\n",
            "202R048のフォルダを追加しました\n",
            "変更しました\n",
            "\n",
            "202R049のフォルダを追加しました\n",
            "変更しました\n",
            "\n",
            "202R050のフォルダを追加しました\n",
            "変更しました\n",
            "\n",
            "202R051のフォルダを追加しました\n",
            "変更しました\n",
            "\n",
            "202R052のフォルダを追加しました\n",
            "変更しました\n",
            "\n",
            "202R053のフォルダを追加しました\n",
            "変更しました\n",
            "\n",
            "202R054のフォルダを追加しました\n",
            "変更しました\n",
            "\n",
            "202R055のフォルダを追加しました\n",
            "変更しました\n",
            "\n",
            "202R056のフォルダを追加しました\n",
            "変更しました\n",
            "\n",
            "202R057のフォルダを追加しました\n",
            "変更しました\n",
            "\n",
            "202R058のフォルダを追加しました\n",
            "変更しました\n",
            "\n",
            "202R059のフォルダを追加しました\n",
            "変更しました\n",
            "\n",
            "202R060のフォルダを追加しました\n",
            "変更しました\n",
            "\n",
            "202R061のフォルダを追加しました\n",
            "変更しました\n",
            "\n",
            "202R062のフォルダを追加しました\n",
            "変更しました\n",
            "\n",
            "202R063のフォルダを追加しました\n",
            "変更しました\n",
            "\n",
            "202R064のフォルダを追加しました\n",
            "変更しました\n",
            "\n",
            "202R065のフォルダを追加しました\n",
            "変更しました\n",
            "\n"
          ],
          "name": "stdout"
        }
      ]
    },
    {
      "cell_type": "code",
      "metadata": {
        "id": "TnoapPZCbjEO"
      },
      "source": [
        "ll = {\"t01\":{\"name\":\"checked_1015確認テスト.pdf\",\"off\":[33,38],\"title\":\"1015確認テスト\"},\\\n",
        "     \"t02\":{\"name\":\"checked_1022確認テスト.pdf\",\"off\":[6,11,21,38,59],\"title\":\"1022確認テスト\"}}"
      ],
      "execution_count": null,
      "outputs": []
    },
    {
      "cell_type": "code",
      "metadata": {
        "id": "TmVvtZ28YmPf"
      },
      "source": [
        "import json"
      ],
      "execution_count": null,
      "outputs": []
    },
    {
      "cell_type": "code",
      "metadata": {
        "id": "Y37983SHYnqf"
      },
      "source": [
        "with open(\"/content/drive/My Drive/検査評価実習Ⅰ/Project2020/list.json\",\"w\") as d:\n",
        "  json.dump(ll,d)"
      ],
      "execution_count": null,
      "outputs": []
    },
    {
      "cell_type": "code",
      "metadata": {
        "id": "O2gfRnxTZF02"
      },
      "source": [
        ""
      ],
      "execution_count": null,
      "outputs": []
    },
    {
      "cell_type": "code",
      "metadata": {
        "id": "wSEKJWf6ZbfS",
        "outputId": "ce70f890-9b13-4bd2-87b7-8322cdf041a1",
        "colab": {
          "base_uri": "https://localhost:8080/",
          "height": 51
        }
      },
      "source": [
        "dat"
      ],
      "execution_count": null,
      "outputs": [
        {
          "output_type": "execute_result",
          "data": {
            "text/plain": [
              "{'checked_1015確認テスト.pdf': [33, 38],\n",
              " 'checked_1022確認テスト.pdf': [6, 11, 18, 21, 38, 59]}"
            ]
          },
          "metadata": {
            "tags": []
          },
          "execution_count": 103
        }
      ]
    },
    {
      "cell_type": "code",
      "metadata": {
        "id": "9DkR-KbiZb_G"
      },
      "source": [
        ""
      ],
      "execution_count": null,
      "outputs": []
    }
  ]
}