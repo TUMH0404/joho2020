{
  "nbformat": 4,
  "nbformat_minor": 0,
  "metadata": {
    "colab": {
      "name": "def_ver1.ipynb",
      "provenance": [],
      "authorship_tag": "ABX9TyNf7vSryziW5ZUH6HMlZCUw",
      "include_colab_link": true
    },
    "kernelspec": {
      "name": "python3",
      "display_name": "Python 3"
    }
  },
  "cells": [
    {
      "cell_type": "markdown",
      "metadata": {
        "id": "view-in-github",
        "colab_type": "text"
      },
      "source": [
        "<a href=\"https://colab.research.google.com/github/TUMH0404/joho2020/blob/master/def_ver1.ipynb\" target=\"_parent\"><img src=\"https://colab.research.google.com/assets/colab-badge.svg\" alt=\"Open In Colab\"/></a>"
      ]
    },
    {
      "cell_type": "markdown",
      "metadata": {
        "id": "qZiPKAKgSt-9"
      },
      "source": [
        "# def文\n",
        "コンピュータプログラミング言語は、コンピュータに命令する文書のようなものである。その指示に従ってコンピュータを動作する。コンピュータに通じるように翻訳されるときに間違っていればうまく翻訳されず、エラーになってしまう。あるいは、翻訳はされるが期待外れの動作となる。期待通りにいかないことは日常であり、あまりがっかりすることではない。\n",
        "\n",
        "さて、エラーや間違った結果が出力されないように様々なコードの書き方がある。その方法の一つに`関数文(def文)`で書く方法がある。\n",
        "\n",
        "関数文は皆さんすでに使っており、print()やpd.read_csv()といった、`コード()`という形をしているものは関数文である。その関数文は、<font color=\"Red\">①データを受け取って(受け取らなくても可)、処理を行い、②結果を返す</font>ものである。\n",
        "\n",
        "①に該当するものは`()`内に書かれ、これを<font color=\"Red\">引数(ひきすう)</font>、②に該当するものは画面に表示してみたり、格納したりしてきており、<font color=\"Red\">返り値</font>と言う。\n",
        "\n",
        "ここでは、関数文をカスタム化し、効率の良いプログラム、可読性のあるプログラム、間違い探ししやすいプログラム作りに取り組んでみよう。\n",
        "\n",
        "\n",
        "\n",
        "\n",
        "\n"
      ]
    },
    {
      "cell_type": "markdown",
      "metadata": {
        "id": "YkirfQcuXHon"
      },
      "source": [
        "## def文の基本形\n",
        "```\n",
        "def 関数名(引数1, 引数2):\n",
        "  処理1\n",
        "  処理2\n",
        "  return 返り値\n",
        "```\n",
        "では、例を打ってみよう。\n",
        "\n",
        "```\n",
        "def my_abs(x):\n",
        "  a = x+x\n",
        "  return a\n",
        "```"
      ]
    },
    {
      "cell_type": "markdown",
      "metadata": {
        "id": "QgJVeOKwXyH7"
      },
      "source": [
        "そして、\n",
        "```\n",
        "my_abs(10)\n",
        "```\n",
        "```\n",
        "my_abs(\"和歌山\")\n",
        "```\n",
        "を実行してみよう。何か出力されたはず。"
      ]
    },
    {
      "cell_type": "markdown",
      "metadata": {
        "id": "Dol-EMrnZ8wF"
      },
      "source": [
        "## def文の引数\n",
        "\n",
        "引数は複数与えることができる。\n",
        "\n",
        "例えば、\n",
        "\n",
        "```\n",
        "def zoo(x,y):\n",
        "  A = x + y**2\n",
        "  return A\n",
        "```\n",
        "\n",
        "とし、\n",
        "```\n",
        "zoo(1,2)\n",
        "```\n",
        "とするとどうなるだろうか？"
      ]
    },
    {
      "cell_type": "markdown",
      "metadata": {
        "id": "67VFiwBTa6_p"
      },
      "source": [
        "今回は2つであったが、3つ、4つ・・・と与えることができる。"
      ]
    },
    {
      "cell_type": "markdown",
      "metadata": {
        "id": "8YQcKyhkb0ea"
      },
      "source": [
        "## 関数文の仕様説明方法\n",
        "どんな関数を作ったのか、説明文も入れることができる。これで、関数にどんな作用を持たせたのか一目で分かり、可読性が高まる。\n",
        "```\n",
        "def test(f,w):\n",
        "  \"\"\"\n",
        "  テストします\n",
        "  w:重みをつけます(1.0～2.0)\n",
        "  f:データを入れる\n",
        "  \"\"\"\n",
        "  return 10*f*w\n",
        "```"
      ]
    },
    {
      "cell_type": "markdown",
      "metadata": {
        "id": "Fb5s5MzMc5PX"
      },
      "source": [
        "さっきのコードの例では、重みを1.0～2.0としたいのに、間違って、範囲外の重みの入力を避けたい場合、どうする？\n",
        "\n",
        "例えば、\n",
        "```\n",
        "def test(f,w):\n",
        "  \"\"\"\n",
        "  テストします\n",
        "  w:重みをつけます(1.0～2.0)\n",
        "  f:データを入れる\n",
        "  \"\"\"\n",
        "  if not 1.0<=w<=2.0:\n",
        "    print(\"重みを1.0～2.0にしてください。\")\n",
        "  else:\n",
        "    return 10*f*w\n",
        "```\n",
        "と、条件文を付け加えるとよい（他の書き方もある）。"
      ]
    },
    {
      "cell_type": "markdown",
      "metadata": {
        "id": "dROapTBlbJ3N"
      },
      "source": [
        "関数文の名前は、どんな処理をするのか一目でわかるようにしておくことで、コードをスッキリさせることができる。"
      ]
    }
  ]
}