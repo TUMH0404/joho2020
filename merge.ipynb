{
  "nbformat": 4,
  "nbformat_minor": 0,
  "metadata": {
    "colab": {
      "name": "merge.ipynb",
      "provenance": [],
      "collapsed_sections": [],
      "authorship_tag": "ABX9TyMy1k7W3y1kArtZzlNND+Ib",
      "include_colab_link": true
    },
    "kernelspec": {
      "name": "python3",
      "display_name": "Python 3"
    },
    "language_info": {
      "name": "python"
    }
  },
  "cells": [
    {
      "cell_type": "markdown",
      "metadata": {
        "id": "view-in-github",
        "colab_type": "text"
      },
      "source": [
        "<a href=\"https://colab.research.google.com/github/TUMH0404/joho2020/blob/master/merge.ipynb\" target=\"_parent\"><img src=\"https://colab.research.google.com/assets/colab-badge.svg\" alt=\"Open In Colab\"/></a>"
      ]
    },
    {
      "cell_type": "code",
      "metadata": {
        "colab": {
          "base_uri": "https://localhost:8080/"
        },
        "id": "Fmi492FUHKyw",
        "outputId": "163c2731-1136-4fdf-876a-eb32f5443d3e"
      },
      "source": [
        "# mount drive\n",
        "from google.colab import drive\n",
        "drive.mount('/content/drive')\n",
        "\n",
        "# installing PyPDF2\n",
        "!pip install PyPDF2"
      ],
      "execution_count": null,
      "outputs": [
        {
          "output_type": "stream",
          "text": [
            "Drive already mounted at /content/drive; to attempt to forcibly remount, call drive.mount(\"/content/drive\", force_remount=True).\n",
            "Requirement already satisfied: PyPDF2 in /usr/local/lib/python3.7/dist-packages (1.26.0)\n"
          ],
          "name": "stdout"
        }
      ]
    },
    {
      "cell_type": "code",
      "metadata": {
        "id": "L8VvLWqidm36"
      },
      "source": [
        "#import library\n",
        "import PyPDF2\n",
        "import re\n",
        "import os\n",
        "import numpy as np"
      ],
      "execution_count": null,
      "outputs": []
    },
    {
      "cell_type": "code",
      "metadata": {
        "id": "knFDwlGzHlwn"
      },
      "source": [
        "# change directory\n",
        "mainfolder = \"/content/drive/MyDrive/2021業務/maildocuments\"\n",
        "os.chdir(mailfolder)"
      ],
      "execution_count": null,
      "outputs": []
    },
    {
      "cell_type": "code",
      "metadata": {
        "id": "1F97U6PhH82h"
      },
      "source": [
        "files = os.listdir()\n",
        "files.sort()"
      ],
      "execution_count": null,
      "outputs": []
    },
    {
      "cell_type": "code",
      "metadata": {
        "id": "cw_jlft_H-7O"
      },
      "source": [
        "name = PyPDF2.PdfFileWriter()\n",
        "\n",
        "for i in files:\n",
        "    srcpdf = PyPDF2.PdfFileReader(f\"{i}\")\n",
        "    name.addPage(srcpdf.getPage(0))  \n",
        "\n",
        "with open(f'{mainfolder}/merge.pdf', 'wb') as f:\n",
        "    name.write(f)"
      ],
      "execution_count": null,
      "outputs": []
    }
  ]
}