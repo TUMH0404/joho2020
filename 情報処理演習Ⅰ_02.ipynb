{
  "nbformat": 4,
  "nbformat_minor": 0,
  "metadata": {
    "colab": {
      "name": "情報処理演習Ⅰ_02.ipynb",
      "provenance": [],
      "collapsed_sections": [],
      "authorship_tag": "ABX9TyMuZI5ZX6SkzgtxC57Gmg3R",
      "include_colab_link": true
    },
    "kernelspec": {
      "name": "python3",
      "display_name": "Python 3"
    }
  },
  "cells": [
    {
      "cell_type": "markdown",
      "metadata": {
        "id": "view-in-github",
        "colab_type": "text"
      },
      "source": [
        "<a href=\"https://colab.research.google.com/github/TUMH0404/joho2020/blob/master/%E6%83%85%E5%A0%B1%E5%87%A6%E7%90%86%E6%BC%94%E7%BF%92%E2%85%A0_02.ipynb\" target=\"_parent\"><img src=\"https://colab.research.google.com/assets/colab-badge.svg\" alt=\"Open In Colab\"/></a>"
      ]
    },
    {
      "cell_type": "code",
      "metadata": {
        "id": "Y7N63h7pC4R5",
        "colab_type": "code",
        "cellView": "form",
        "colab": {}
      },
      "source": [
        "date = '2020-04-20'  #@param {type: \"date\"}\n",
        "name = ''  #@param {type: \"string\"}\n",
        "Department = \"PT\" #@param [\"PT\", \"OT\"] {allow-input: true}"
      ],
      "execution_count": 0,
      "outputs": []
    },
    {
      "cell_type": "markdown",
      "metadata": {
        "id": "1-gRoFuH0kJV",
        "colab_type": "text"
      },
      "source": [
        "# 変数名"
      ]
    },
    {
      "cell_type": "markdown",
      "metadata": {
        "id": "C_jJBHj80kJV",
        "colab_type": "text"
      },
      "source": [
        "これまで行ったデータの再利用\n",
        "データを変数名に代入して，その変数名を用いて計算(処理)することを覚えよう。<br>\n",
        "変数名を用いる場合，ルールを自分で決めることができる。ただし，以下の点に気を付ける必要がある。<br>\n",
        "1. 予約語は用いない。\n",
        "1. 半角英字から始める。\n",
        "1. 半角英数字と`_`(アンダースコア)を用いて後で読み返してもわかるように与える。\n",
        "1. `-`（ハイフン）`/`(スラッシュ)などは，数値計算で使うので使わない方がよい。\n",
        "1. その他\n",
        "\n",
        "予約語とは，Python変数名，クラス名，関数名として，使うことのできない，すでにPythonで用いられている字句のことを言い，以下のものがある。この字句は，変数名として定義しない。<br>\n",
        "<font color=blue>--予約語--</font><br>\n",
        "<font color=blue>False, None, True, and, as, assert, async, await, break,\n",
        "class, continue, def, <br>del, elif, else, except, finally, for,\n",
        "from, global, if, import, in, is, lambda, nonlocal, <br>not,\n",
        "or, pass, raise, return, try, while, with, yield</font>"
      ]
    },
    {
      "cell_type": "markdown",
      "metadata": {
        "id": "tFkE-k9i0kJW",
        "colab_type": "text"
      },
      "source": [
        "では，\n",
        "```\n",
        "num1 = 3.14\n",
        "num2 = 10\n",
        "num3 = 3\n",
        "num4 = -3.14\n",
        "```\n",
        "を下にセルを追加して書いてみよう。<br>\n",
        "<font color=DarkRed>$\\downdownarrows$+コード</font> \n"
      ]
    },
    {
      "cell_type": "markdown",
      "metadata": {
        "id": "8PqONBi20kJZ",
        "colab_type": "text"
      },
      "source": [
        "これは，num1に3.14を`代入せよ`，というコードになる。代入は`=`である。厳密には，同じという意味ではない。あくまで代入である。そのほかも同じことである。<br>\n",
        "次に，\n",
        "```\n",
        "moji_1 = 'tumh'\n",
        "moji_2 = 'takarazuka'\n",
        "```\n",
        "と書いてみよう。<br>\n",
        "<font color=DarkRed>$\\downdownarrows$+コード</font>"
      ]
    },
    {
      "cell_type": "code",
      "metadata": {
        "id": "9nIEijUU0kJa",
        "colab_type": "code",
        "colab": {}
      },
      "source": [
        ""
      ],
      "execution_count": 0,
      "outputs": []
    },
    {
      "cell_type": "markdown",
      "metadata": {
        "id": "hiYJIVS80kJc",
        "colab_type": "text"
      },
      "source": [
        "この`num1`や`num2`，`moji_1`を<font color=red>変数名</font>と言い，これら変数名には，代入されたデータと同じ扱いができる。<br>計算するときは，変数名に代入して，その変数名を使う。そうすることで，再利用がしやすくなる。"
      ]
    },
    {
      "cell_type": "markdown",
      "metadata": {
        "id": "7S59ET2CYAoh",
        "colab_type": "text"
      },
      "source": [
        "### 変数名を用いた計算\n",
        "#### 足し算と引き算"
      ]
    },
    {
      "cell_type": "markdown",
      "metadata": {
        "id": "YWx1u2tWSJfy",
        "colab_type": "text"
      },
      "source": [
        "int型同士の足し算と引き算\n",
        "```\n",
        "print(num2+num3)\n",
        "print(num2-num3)\n",
        "```\n",
        "をしたときの結果をみてみよう。<br>\n",
        "<font color=DarkRed>$\\downdownarrows$+コード</font>"
      ]
    },
    {
      "cell_type": "markdown",
      "metadata": {
        "id": "XZOru5dbT0Z1",
        "colab_type": "text"
      },
      "source": [
        "float型同士の足し算と引き算\n",
        "```\n",
        "print(num4+num1)\n",
        "print(num4-num1)\n",
        "```\n",
        "をしたときの結果をみてみよう。<br>\n",
        "<font color=DarkRed>$\\downdownarrows$+コード</font>"
      ]
    },
    {
      "cell_type": "markdown",
      "metadata": {
        "id": "5k-3Yb-wVPAh",
        "colab_type": "text"
      },
      "source": [
        "int型とfloat型の足し算と引き算\n",
        "```\n",
        "print(num1+num2)\n",
        "print(num1-num3)\n",
        "print(num2+num3+num4)\n",
        "```\n",
        "をしたときの結果をみてみよう。<br>\n",
        "<font color=DarkRed>$\\downdownarrows$+コード</font>"
      ]
    },
    {
      "cell_type": "markdown",
      "metadata": {
        "id": "p52g_FuoX9Qx",
        "colab_type": "text"
      },
      "source": [
        "int型同士の足し算や引き算は，小数点が含まれない，つまり，int型で出力される。ところが，float型が含まれると，自動的にfloat型が出力されるので，知っておこう。"
      ]
    },
    {
      "cell_type": "markdown",
      "metadata": {
        "id": "9qNLsrpnZJY5",
        "colab_type": "text"
      },
      "source": [
        "#### 掛け算"
      ]
    },
    {
      "cell_type": "markdown",
      "metadata": {
        "id": "GsK0xuMaWbej",
        "colab_type": "text"
      },
      "source": [
        "int型同士のかけ算とわり算\n",
        "```\n",
        "print(num2*num3)\n",
        "```\n",
        "をしたときの結果をみてみよう。<br>\n",
        "<font color=DarkRed>$\\downdownarrows$+コード</font>"
      ]
    },
    {
      "cell_type": "markdown",
      "metadata": {
        "id": "7L5KcOu6W_hE",
        "colab_type": "text"
      },
      "source": [
        "float型同士のかけ算とわり算\n",
        "```\n",
        "print(num4*num1)\n",
        "```\n",
        "をしたときの結果をみてみよう。<br>\n",
        "<font color=DarkRed>$\\downdownarrows$+コード</font>"
      ]
    },
    {
      "cell_type": "markdown",
      "metadata": {
        "id": "pAKMqvxDZVaU",
        "colab_type": "text"
      },
      "source": [
        "int型とfloat型のかけ算(float型が含まれる掛け算)\n",
        "```\n",
        "print(num2*num1)\n",
        "```\n",
        "をしたときの結果をみてみよう。<br>\n",
        "<font color=DarkRed>$\\downdownarrows$+コード</font>"
      ]
    },
    {
      "cell_type": "markdown",
      "metadata": {
        "id": "lzg8e3V7Z27f",
        "colab_type": "text"
      },
      "source": [
        "掛け算では，float型が含まれると，float型が出力されるが，掛け算に用いる数値がint型であると，出力される結果はint型のままである。"
      ]
    },
    {
      "cell_type": "markdown",
      "metadata": {
        "id": "dihIDc5PabNY",
        "colab_type": "text"
      },
      "source": [
        "#### 割り算\n",
        "割り算(`/`)では，\n",
        "```\n",
        "print(num2/num3)\n",
        "print(num3/num2)\n",
        "print(num4/num1)\n",
        "```\n",
        "と，必ずfloat型を返す。<br>\n",
        "<font color=DarkRed>$\\downdownarrows$+コード</font>"
      ]
    },
    {
      "cell_type": "markdown",
      "metadata": {
        "id": "eoStCGHeoFPu",
        "colab_type": "text"
      },
      "source": [
        "また，剰余は`%`，剰余は`//`を使う。int型の場合は，int型で出力される。float型が含まれていると出力もfloat型となる。\n",
        "```\n",
        "print(num3//num2)\n",
        "print(num3%num2)\n",
        "\n",
        "num2 = 3.0\n",
        "print(num3//num2)\n",
        "print(num3%num2) \n",
        "```\n",
        "下にセルを追加して書いてみよう。<br>\n",
        "<font color=DarkRed>$\\downdownarrows$+コード</font>"
      ]
    },
    {
      "cell_type": "markdown",
      "metadata": {
        "id": "WdzKfghTqjWD",
        "colab_type": "text"
      },
      "source": [
        "このように，変数名を使って計算することができ，一度定義すると何度も再利用できる。ここで注意がしなければならないのが，計算に用いられるデータの型によっては返される型が異なることがあるので注意しよう。<br>\n",
        "\n"
      ]
    },
    {
      "cell_type": "markdown",
      "metadata": {
        "id": "SxF9kR9QxPOt",
        "colab_type": "text"
      },
      "source": [
        "ここで，さきほど，num2をint型からfloat型に変更した。これは同じ変数名に違うものを再び代入することができる。便利であると同時に，間違った処理をしてしまうことがあるので注意する。<br>\n",
        "今現在のnum1に，格納されている値を\n",
        "```\n",
        "print(num1)\n",
        "```\n",
        "で確認する。次に，num1に\n",
        "```\n",
        "num1 =6.28\n",
        "```\n",
        "と，値を代入すると，num1は，\n",
        "```\n",
        "print(num1)\n",
        "```\n",
        "と変更される。<br>\n",
        "変数名の与え方には工夫が必要である。\n",
        "<br>\n",
        "<font color=DarkRed>$\\downdownarrows$+コード</font>"
      ]
    },
    {
      "cell_type": "markdown",
      "metadata": {
        "id": "CfJKRsXOSlrK",
        "colab_type": "text"
      },
      "source": [
        "では，bool型(真偽値)に対して演算子を用いるとどうなるだろうか。<br>\n",
        "```\n",
        "b0 = False\n",
        "b1 = True\n",
        "d1 = 1.5\n",
        "d2 = 5\n",
        "```\n",
        "と，データを作成する。そして，\n",
        "```\n",
        "print(b0+b1)\n",
        "print(b1+d1)\n",
        "print(b0-d1)\n",
        "print(d2/b0)\n",
        "```\n",
        "の計算結果を確認してみよう。<br>\n",
        "<font color=DarkRed>$\\downdownarrows$+コード</font>"
      ]
    },
    {
      "cell_type": "markdown",
      "metadata": {
        "id": "4xtqa5oyVyXg",
        "colab_type": "text"
      },
      "source": [
        "どんな結果になりましたか？<br>\n",
        "そうです，Falseは0として計算され，Trueは1として計算される。<br>\n",
        "真偽値は，int型のサブクラスであるため，\n",
        "<font color=red>bool型のTrueとFalseは，1と0と等価</font>として扱える。<br>"
      ]
    },
    {
      "cell_type": "markdown",
      "metadata": {
        "id": "1HE38afS0kJv",
        "colab_type": "text"
      },
      "source": [
        "<font color=blue size=4>Point</font><br>\n",
        "int型やfloat型をある変数名を与えたオブジェクトに代入し，その変数名を使って計算処理を行ってきた。これらオブジェクトを作ることによって，計算処理をスムーズにしている。<br>\n",
        "オブジェクトは，数値や文字，あるいはデータを一つの物体として管理して扱えるように，一つの名前を与えられる。そのように考えることで，大きなデータを簡単に扱うことができるのである。<br>\n",
        "その基本となるのが，<font color=red>変数名を作ってある値を代入する</font>という操作である。<br>"
      ]
    },
    {
      "cell_type": "markdown",
      "metadata": {
        "id": "75qOq1ZOXd3h",
        "colab_type": "text"
      },
      "source": [
        "さて，もう一つ，文字列型について，計算してみよう。<br>\n",
        "文字列に用いられる計算記号は，`+`と`*`である。<br>\n",
        "`+`は文字同士の連結を行い，`*`は文字を増やす。<br>\n",
        "実際に動作を確認したほうがわかりやすいので，下にセルを追加し，\n",
        "```\n",
        "moji_1 = 'tumh'\n",
        "moji_2 = 'takarazuka'\n",
        "print(moji_1+moji_2)\n",
        "print(moji*5)\n",
        "```\n",
        "を実行してみよう。<br>\n",
        "<font color=DarkRed>$\\downdownarrows$+コード"
      ]
    },
    {
      "cell_type": "markdown",
      "metadata": {
        "id": "FPBFw7S60kJv",
        "colab_type": "text"
      },
      "source": [
        "変数名の使い方はコードを書けば書くほど，覚えてくるので繰り返し自分で様々なパターンを考えて書き，動作を確認してみよう。"
      ]
    },
    {
      "cell_type": "markdown",
      "metadata": {
        "id": "RCbXhFJtKAgi",
        "colab_type": "text"
      },
      "source": [
        "<font color=blue size=5>問題0</font><br>\n",
        "宝塚太郎くんは，身長175cm，体重67kgです。<br>\n",
        "1. 変数名`hh`に175を代入する。\n",
        "1. 変数名`ww`に67を代入する。\n",
        "1. 変数名`nn`に宝塚太郎を文字列として代入する。\n",
        "1. 彼のBMIを求めるコードを書く。$BMI ＝ \\cfrac{体重[kg]}{身長[m]^2}$\n",
        "1. 宝塚太郎のBMIは○○です，と表示するコードを`print`を使って完成させる。ただし，〇〇には適切な数値を入れる。\n",
        "\n",
        "この下にセルを追加して確認しながら，[ココ](https://forms.gle/QaBEZ2Qyi4KfaBo66)`https://forms.gle/QaBEZ2Qyi4KfaBo66`\n",
        "に回答すること。<br>回答期日は，<font color=red>**2020年5月1日14:10**まで</font>。<br>\n",
        "ここまでの解説は，この資料に則って，オンラインで解説します。<br>\n",
        "その日時は，**2020年5月1日 12:50〜14:00**です。<br>\n",
        "参加は自由です。ただし，期日までにすべての解答が正答でない人はレポートを書いて5月8日 9:00までに提出してください。書式は自由です。"
      ]
    },
    {
      "cell_type": "markdown",
      "metadata": {
        "id": "gkBqqoG0HdvH",
        "colab_type": "text"
      },
      "source": [
        "<font size=5 color=blue><加点問題> </font><br>\n",
        "できた人は，$2^n (n=0,1, \\cdots,5)$を表示してみよう。ここではやっていないので，教科書やwebで検索する必要があるかもしれない。<br>\n",
        "<font color=DarkRed>$\\downdownarrows$+コード"
      ]
    }
  ]
}